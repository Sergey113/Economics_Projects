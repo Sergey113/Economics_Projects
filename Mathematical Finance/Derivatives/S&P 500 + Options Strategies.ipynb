{
 "cells": [
  {
   "cell_type": "markdown",
   "metadata": {},
   "source": [
    "# Alpha Quant: S&P 500 + Options Strategies"
   ]
  },
  {
   "cell_type": "markdown",
   "metadata": {},
   "source": [
    "# Importing data"
   ]
  },
  {
   "cell_type": "code",
   "execution_count": 2,
   "metadata": {},
   "outputs": [],
   "source": [
    "import pandas as pd\n",
    "from pandas_datareader import data\n",
    "import matplotlib.pyplot as plt\n",
    "import numpy as np"
   ]
  },
  {
   "cell_type": "code",
   "execution_count": 3,
   "metadata": {},
   "outputs": [],
   "source": [
    "start_date = '2019-07-01'\n",
    "end_date = '2019-10-01'"
   ]
  },
  {
   "cell_type": "markdown",
   "metadata": {},
   "source": [
    "# https://seekingalpha.com/article/4295089-s-and-p-500s-top-30-highest-yielding-stocks here is a set of Top 30 S&P High-Yield Low-Value Stock For October"
   ]
  },
  {
   "cell_type": "markdown",
   "metadata": {},
   "source": [
    "According to the assignment, it is required to work with shares that have high dividend yield,\n",
    "so I made up a subset of those shares that in October showed the highest dividend yield from the index S&P 500"
   ]
  },
  {
   "cell_type": "code",
   "execution_count": 4,
   "metadata": {},
   "outputs": [],
   "source": [
    "GPS = data.DataReader('GPS', 'yahoo', start_date, end_date)\n",
    "FL = data.DataReader('FL', 'yahoo', start_date, end_date)\n",
    "M = data.DataReader('M', 'yahoo', start_date, end_date)\n",
    "DVN = data.DataReader('DVN', 'yahoo', start_date, end_date)\n",
    "KSS = data.DataReader('KSS', 'yahoo', start_date, end_date)\n",
    "JWN = data.DataReader('JWN', 'yahoo', start_date, end_date)\n",
    "LB = data.DataReader('LB', 'yahoo', start_date, end_date)\n",
    "CTL = data.DataReader('CTL', 'yahoo', start_date, end_date)\n",
    "GT = data.DataReader('GT', 'yahoo', start_date, end_date)\n",
    "DXC = data.DataReader('DXC', 'yahoo', start_date, end_date)\n",
    "NUE = data.DataReader('NUE', 'yahoo', start_date, end_date)\n",
    "OXY = data.DataReader('OXY', 'yahoo', start_date, end_date)\n",
    "DAL = data.DataReader('DAL', 'yahoo', start_date, end_date)\n",
    "HPE = data.DataReader('HPE', 'yahoo', start_date, end_date)\n",
    "BBY = data.DataReader('BBY', 'yahoo', start_date, end_date)\n",
    "BIIB = data.DataReader('BIIB', 'yahoo', start_date, end_date)\n",
    "IP = data.DataReader('IP', 'yahoo', start_date, end_date)\n",
    "HPQ = data.DataReader('HPQ', 'yahoo', start_date, end_date)\n",
    "LUV = data.DataReader('LUV', 'yahoo', start_date, end_date)\n",
    "CAH = data.DataReader('CAH', 'yahoo', start_date, end_date)\n",
    "COG = data.DataReader('COG', 'yahoo', start_date, end_date)\n",
    "HP = data.DataReader('HP', 'yahoo', start_date, end_date)\n",
    "LYB = data.DataReader('LYB', 'yahoo', start_date, end_date)\n",
    "VLO = data.DataReader('VLO', 'yahoo', start_date, end_date)\n",
    "CCL = data.DataReader('CCL', 'yahoo', start_date, end_date)\n",
    "STX = data.DataReader('STX', 'yahoo', start_date, end_date)\n",
    "WBA = data.DataReader('WBA', 'yahoo', start_date, end_date)\n",
    "WU = data.DataReader('WU', 'yahoo', start_date, end_date)\n",
    "MCK = data.DataReader('MCK', 'yahoo', start_date, end_date)\n",
    "WHR = data.DataReader('WHR', 'yahoo', start_date, end_date)"
   ]
  },
  {
   "cell_type": "code",
   "execution_count": 5,
   "metadata": {},
   "outputs": [],
   "source": [
    "GPS.drop(columns=['High', 'Low', 'Open', 'Volume', 'Adj Close'], inplace=True)\n",
    "FL.drop(columns=['High', 'Low', 'Open', 'Volume', 'Adj Close'], inplace=True)\n",
    "M.drop(columns=['High', 'Low', 'Open', 'Volume', 'Adj Close'], inplace=True)\n",
    "DVN.drop(columns=['High', 'Low', 'Open', 'Volume', 'Adj Close'], inplace=True)\n",
    "KSS.drop(columns=['High', 'Low', 'Open', 'Volume', 'Adj Close'], inplace=True)\n",
    "JWN.drop(columns=['High', 'Low', 'Open', 'Volume', 'Adj Close'], inplace=True)\n",
    "LB.drop(columns=['High', 'Low', 'Open', 'Volume', 'Adj Close'], inplace=True)\n",
    "CTL.drop(columns=['High', 'Low', 'Open', 'Volume', 'Adj Close'], inplace=True)\n",
    "GT.drop(columns=['High', 'Low', 'Open', 'Volume', 'Adj Close'], inplace=True)\n",
    "DXC.drop(columns=['High', 'Low', 'Open', 'Volume', 'Adj Close'], inplace=True)\n",
    "NUE.drop(columns=['High', 'Low', 'Open', 'Volume', 'Adj Close'], inplace=True)\n",
    "OXY.drop(columns=['High', 'Low', 'Open', 'Volume', 'Adj Close'], inplace=True)\n",
    "DAL.drop(columns=['High', 'Low', 'Open', 'Volume', 'Adj Close'], inplace=True)\n",
    "HPE.drop(columns=['High', 'Low', 'Open', 'Volume', 'Adj Close'], inplace=True)\n",
    "BBY.drop(columns=['High', 'Low', 'Open', 'Volume', 'Adj Close'], inplace=True)\n",
    "BIIB.drop(columns=['High', 'Low', 'Open', 'Volume', 'Adj Close'], inplace=True)\n",
    "IP.drop(columns=['High', 'Low', 'Open', 'Volume', 'Adj Close'], inplace=True)\n",
    "HPQ.drop(columns=['High', 'Low', 'Open', 'Volume', 'Adj Close'], inplace=True)\n",
    "LUV.drop(columns=['High', 'Low', 'Open', 'Volume', 'Adj Close'], inplace=True)\n",
    "CAH.drop(columns=['High', 'Low', 'Open', 'Volume', 'Adj Close'], inplace=True)\n",
    "COG.drop(columns=['High', 'Low', 'Open', 'Volume', 'Adj Close'], inplace=True)\n",
    "HP.drop(columns=['High', 'Low', 'Open', 'Volume', 'Adj Close'], inplace=True)\n",
    "LYB.drop(columns=['High', 'Low', 'Open', 'Volume', 'Adj Close'], inplace=True)\n",
    "VLO.drop(columns=['High', 'Low', 'Open', 'Volume', 'Adj Close'], inplace=True)\n",
    "CCL.drop(columns=['High', 'Low', 'Open', 'Volume', 'Adj Close'], inplace=True)\n",
    "STX.drop(columns=['High', 'Low', 'Open', 'Volume', 'Adj Close'], inplace=True)\n",
    "WBA.drop(columns=['High', 'Low', 'Open', 'Volume', 'Adj Close'], inplace=True)\n",
    "WU.drop(columns=['High', 'Low', 'Open', 'Volume', 'Adj Close'], inplace=True)\n",
    "MCK.drop(columns=['High', 'Low', 'Open', 'Volume', 'Adj Close'], inplace=True)\n",
    "WHR.drop(columns=['High', 'Low', 'Open', 'Volume', 'Adj Close'], inplace=True)"
   ]
  },
  {
   "cell_type": "code",
   "execution_count": 6,
   "metadata": {
    "scrolled": false
   },
   "outputs": [
    {
     "data": {
      "text/html": [
       "<div>\n",
       "<style scoped>\n",
       "    .dataframe tbody tr th:only-of-type {\n",
       "        vertical-align: middle;\n",
       "    }\n",
       "\n",
       "    .dataframe tbody tr th {\n",
       "        vertical-align: top;\n",
       "    }\n",
       "\n",
       "    .dataframe thead th {\n",
       "        text-align: right;\n",
       "    }\n",
       "</style>\n",
       "<table border=\"1\" class=\"dataframe\">\n",
       "  <thead>\n",
       "    <tr style=\"text-align: right;\">\n",
       "      <th></th>\n",
       "      <th>Close</th>\n",
       "    </tr>\n",
       "    <tr>\n",
       "      <th>Date</th>\n",
       "      <th></th>\n",
       "    </tr>\n",
       "  </thead>\n",
       "  <tbody>\n",
       "    <tr>\n",
       "      <th>2019-07-01</th>\n",
       "      <td>54.650002</td>\n",
       "    </tr>\n",
       "    <tr>\n",
       "      <th>2019-07-02</th>\n",
       "      <td>54.959999</td>\n",
       "    </tr>\n",
       "    <tr>\n",
       "      <th>2019-07-03</th>\n",
       "      <td>55.189999</td>\n",
       "    </tr>\n",
       "    <tr>\n",
       "      <th>2019-07-05</th>\n",
       "      <td>55.189999</td>\n",
       "    </tr>\n",
       "    <tr>\n",
       "      <th>2019-07-08</th>\n",
       "      <td>55.430000</td>\n",
       "    </tr>\n",
       "  </tbody>\n",
       "</table>\n",
       "</div>"
      ],
      "text/plain": [
       "                Close\n",
       "Date                 \n",
       "2019-07-01  54.650002\n",
       "2019-07-02  54.959999\n",
       "2019-07-03  55.189999\n",
       "2019-07-05  55.189999\n",
       "2019-07-08  55.430000"
      ]
     },
     "execution_count": 6,
     "metadata": {},
     "output_type": "execute_result"
    }
   ],
   "source": [
    "WBA.head()"
   ]
  },
  {
   "cell_type": "code",
   "execution_count": 7,
   "metadata": {
    "scrolled": true
   },
   "outputs": [
    {
     "data": {
      "text/plain": [
       "(Close    2.091104\n",
       " dtype: float64, Close    1.796862\n",
       " dtype: float64)"
      ]
     },
     "execution_count": 7,
     "metadata": {},
     "output_type": "execute_result"
    }
   ],
   "source": [
    "np.std(FL), np.std(CCL)"
   ]
  },
  {
   "cell_type": "code",
   "execution_count": 8,
   "metadata": {},
   "outputs": [
    {
     "data": {
      "text/html": [
       "<div>\n",
       "<style scoped>\n",
       "    .dataframe tbody tr th:only-of-type {\n",
       "        vertical-align: middle;\n",
       "    }\n",
       "\n",
       "    .dataframe tbody tr th {\n",
       "        vertical-align: top;\n",
       "    }\n",
       "\n",
       "    .dataframe thead th {\n",
       "        text-align: right;\n",
       "    }\n",
       "</style>\n",
       "<table border=\"1\" class=\"dataframe\">\n",
       "  <thead>\n",
       "    <tr style=\"text-align: right;\">\n",
       "      <th></th>\n",
       "      <th>Close</th>\n",
       "    </tr>\n",
       "    <tr>\n",
       "      <th>Date</th>\n",
       "      <th></th>\n",
       "    </tr>\n",
       "  </thead>\n",
       "  <tbody>\n",
       "    <tr>\n",
       "      <th>2019-07-01</th>\n",
       "      <td>17.959999</td>\n",
       "    </tr>\n",
       "    <tr>\n",
       "      <th>2019-07-02</th>\n",
       "      <td>17.670000</td>\n",
       "    </tr>\n",
       "    <tr>\n",
       "      <th>2019-07-03</th>\n",
       "      <td>18.120001</td>\n",
       "    </tr>\n",
       "    <tr>\n",
       "      <th>2019-07-05</th>\n",
       "      <td>18.299999</td>\n",
       "    </tr>\n",
       "    <tr>\n",
       "      <th>2019-07-08</th>\n",
       "      <td>18.480000</td>\n",
       "    </tr>\n",
       "    <tr>\n",
       "      <th>2019-07-09</th>\n",
       "      <td>17.980000</td>\n",
       "    </tr>\n",
       "    <tr>\n",
       "      <th>2019-07-10</th>\n",
       "      <td>17.860001</td>\n",
       "    </tr>\n",
       "    <tr>\n",
       "      <th>2019-07-11</th>\n",
       "      <td>18.170000</td>\n",
       "    </tr>\n",
       "    <tr>\n",
       "      <th>2019-07-12</th>\n",
       "      <td>18.660000</td>\n",
       "    </tr>\n",
       "    <tr>\n",
       "      <th>2019-07-15</th>\n",
       "      <td>18.910000</td>\n",
       "    </tr>\n",
       "    <tr>\n",
       "      <th>2019-07-16</th>\n",
       "      <td>19.230000</td>\n",
       "    </tr>\n",
       "    <tr>\n",
       "      <th>2019-07-17</th>\n",
       "      <td>18.740000</td>\n",
       "    </tr>\n",
       "    <tr>\n",
       "      <th>2019-07-18</th>\n",
       "      <td>18.540001</td>\n",
       "    </tr>\n",
       "    <tr>\n",
       "      <th>2019-07-19</th>\n",
       "      <td>18.780001</td>\n",
       "    </tr>\n",
       "    <tr>\n",
       "      <th>2019-07-22</th>\n",
       "      <td>18.719999</td>\n",
       "    </tr>\n",
       "    <tr>\n",
       "      <th>2019-07-23</th>\n",
       "      <td>18.709999</td>\n",
       "    </tr>\n",
       "    <tr>\n",
       "      <th>2019-07-24</th>\n",
       "      <td>19.320000</td>\n",
       "    </tr>\n",
       "    <tr>\n",
       "      <th>2019-07-25</th>\n",
       "      <td>19.260000</td>\n",
       "    </tr>\n",
       "    <tr>\n",
       "      <th>2019-07-26</th>\n",
       "      <td>19.540001</td>\n",
       "    </tr>\n",
       "    <tr>\n",
       "      <th>2019-07-29</th>\n",
       "      <td>19.520000</td>\n",
       "    </tr>\n",
       "    <tr>\n",
       "      <th>2019-07-30</th>\n",
       "      <td>19.400000</td>\n",
       "    </tr>\n",
       "    <tr>\n",
       "      <th>2019-07-31</th>\n",
       "      <td>19.500000</td>\n",
       "    </tr>\n",
       "    <tr>\n",
       "      <th>2019-08-01</th>\n",
       "      <td>17.959999</td>\n",
       "    </tr>\n",
       "    <tr>\n",
       "      <th>2019-08-02</th>\n",
       "      <td>18.040001</td>\n",
       "    </tr>\n",
       "    <tr>\n",
       "      <th>2019-08-05</th>\n",
       "      <td>17.830000</td>\n",
       "    </tr>\n",
       "    <tr>\n",
       "      <th>2019-08-06</th>\n",
       "      <td>17.830000</td>\n",
       "    </tr>\n",
       "    <tr>\n",
       "      <th>2019-08-07</th>\n",
       "      <td>17.850000</td>\n",
       "    </tr>\n",
       "    <tr>\n",
       "      <th>2019-08-08</th>\n",
       "      <td>18.200001</td>\n",
       "    </tr>\n",
       "    <tr>\n",
       "      <th>2019-08-09</th>\n",
       "      <td>17.809999</td>\n",
       "    </tr>\n",
       "    <tr>\n",
       "      <th>2019-08-12</th>\n",
       "      <td>17.459999</td>\n",
       "    </tr>\n",
       "    <tr>\n",
       "      <th>...</th>\n",
       "      <td>...</td>\n",
       "    </tr>\n",
       "    <tr>\n",
       "      <th>2019-08-20</th>\n",
       "      <td>16.309999</td>\n",
       "    </tr>\n",
       "    <tr>\n",
       "      <th>2019-08-21</th>\n",
       "      <td>16.959999</td>\n",
       "    </tr>\n",
       "    <tr>\n",
       "      <th>2019-08-22</th>\n",
       "      <td>17.750000</td>\n",
       "    </tr>\n",
       "    <tr>\n",
       "      <th>2019-08-23</th>\n",
       "      <td>16.920000</td>\n",
       "    </tr>\n",
       "    <tr>\n",
       "      <th>2019-08-26</th>\n",
       "      <td>16.379999</td>\n",
       "    </tr>\n",
       "    <tr>\n",
       "      <th>2019-08-27</th>\n",
       "      <td>15.580000</td>\n",
       "    </tr>\n",
       "    <tr>\n",
       "      <th>2019-08-28</th>\n",
       "      <td>15.860000</td>\n",
       "    </tr>\n",
       "    <tr>\n",
       "      <th>2019-08-29</th>\n",
       "      <td>15.910000</td>\n",
       "    </tr>\n",
       "    <tr>\n",
       "      <th>2019-08-30</th>\n",
       "      <td>15.790000</td>\n",
       "    </tr>\n",
       "    <tr>\n",
       "      <th>2019-09-03</th>\n",
       "      <td>15.590000</td>\n",
       "    </tr>\n",
       "    <tr>\n",
       "      <th>2019-09-04</th>\n",
       "      <td>16.110001</td>\n",
       "    </tr>\n",
       "    <tr>\n",
       "      <th>2019-09-05</th>\n",
       "      <td>16.990000</td>\n",
       "    </tr>\n",
       "    <tr>\n",
       "      <th>2019-09-06</th>\n",
       "      <td>16.860001</td>\n",
       "    </tr>\n",
       "    <tr>\n",
       "      <th>2019-09-09</th>\n",
       "      <td>17.959999</td>\n",
       "    </tr>\n",
       "    <tr>\n",
       "      <th>2019-09-10</th>\n",
       "      <td>18.379999</td>\n",
       "    </tr>\n",
       "    <tr>\n",
       "      <th>2019-09-11</th>\n",
       "      <td>19.250000</td>\n",
       "    </tr>\n",
       "    <tr>\n",
       "      <th>2019-09-12</th>\n",
       "      <td>19.180000</td>\n",
       "    </tr>\n",
       "    <tr>\n",
       "      <th>2019-09-13</th>\n",
       "      <td>19.240000</td>\n",
       "    </tr>\n",
       "    <tr>\n",
       "      <th>2019-09-16</th>\n",
       "      <td>18.549999</td>\n",
       "    </tr>\n",
       "    <tr>\n",
       "      <th>2019-09-17</th>\n",
       "      <td>18.209999</td>\n",
       "    </tr>\n",
       "    <tr>\n",
       "      <th>2019-09-18</th>\n",
       "      <td>17.940001</td>\n",
       "    </tr>\n",
       "    <tr>\n",
       "      <th>2019-09-19</th>\n",
       "      <td>17.540001</td>\n",
       "    </tr>\n",
       "    <tr>\n",
       "      <th>2019-09-20</th>\n",
       "      <td>17.190001</td>\n",
       "    </tr>\n",
       "    <tr>\n",
       "      <th>2019-09-23</th>\n",
       "      <td>17.440001</td>\n",
       "    </tr>\n",
       "    <tr>\n",
       "      <th>2019-09-24</th>\n",
       "      <td>17.180000</td>\n",
       "    </tr>\n",
       "    <tr>\n",
       "      <th>2019-09-25</th>\n",
       "      <td>17.230000</td>\n",
       "    </tr>\n",
       "    <tr>\n",
       "      <th>2019-09-26</th>\n",
       "      <td>16.990000</td>\n",
       "    </tr>\n",
       "    <tr>\n",
       "      <th>2019-09-27</th>\n",
       "      <td>17.180000</td>\n",
       "    </tr>\n",
       "    <tr>\n",
       "      <th>2019-09-30</th>\n",
       "      <td>17.360001</td>\n",
       "    </tr>\n",
       "    <tr>\n",
       "      <th>2019-10-01</th>\n",
       "      <td>17.059999</td>\n",
       "    </tr>\n",
       "  </tbody>\n",
       "</table>\n",
       "<p>65 rows × 1 columns</p>\n",
       "</div>"
      ],
      "text/plain": [
       "                Close\n",
       "Date                 \n",
       "2019-07-01  17.959999\n",
       "2019-07-02  17.670000\n",
       "2019-07-03  18.120001\n",
       "2019-07-05  18.299999\n",
       "2019-07-08  18.480000\n",
       "2019-07-09  17.980000\n",
       "2019-07-10  17.860001\n",
       "2019-07-11  18.170000\n",
       "2019-07-12  18.660000\n",
       "2019-07-15  18.910000\n",
       "2019-07-16  19.230000\n",
       "2019-07-17  18.740000\n",
       "2019-07-18  18.540001\n",
       "2019-07-19  18.780001\n",
       "2019-07-22  18.719999\n",
       "2019-07-23  18.709999\n",
       "2019-07-24  19.320000\n",
       "2019-07-25  19.260000\n",
       "2019-07-26  19.540001\n",
       "2019-07-29  19.520000\n",
       "2019-07-30  19.400000\n",
       "2019-07-31  19.500000\n",
       "2019-08-01  17.959999\n",
       "2019-08-02  18.040001\n",
       "2019-08-05  17.830000\n",
       "2019-08-06  17.830000\n",
       "2019-08-07  17.850000\n",
       "2019-08-08  18.200001\n",
       "2019-08-09  17.809999\n",
       "2019-08-12  17.459999\n",
       "...               ...\n",
       "2019-08-20  16.309999\n",
       "2019-08-21  16.959999\n",
       "2019-08-22  17.750000\n",
       "2019-08-23  16.920000\n",
       "2019-08-26  16.379999\n",
       "2019-08-27  15.580000\n",
       "2019-08-28  15.860000\n",
       "2019-08-29  15.910000\n",
       "2019-08-30  15.790000\n",
       "2019-09-03  15.590000\n",
       "2019-09-04  16.110001\n",
       "2019-09-05  16.990000\n",
       "2019-09-06  16.860001\n",
       "2019-09-09  17.959999\n",
       "2019-09-10  18.379999\n",
       "2019-09-11  19.250000\n",
       "2019-09-12  19.180000\n",
       "2019-09-13  19.240000\n",
       "2019-09-16  18.549999\n",
       "2019-09-17  18.209999\n",
       "2019-09-18  17.940001\n",
       "2019-09-19  17.540001\n",
       "2019-09-20  17.190001\n",
       "2019-09-23  17.440001\n",
       "2019-09-24  17.180000\n",
       "2019-09-25  17.230000\n",
       "2019-09-26  16.990000\n",
       "2019-09-27  17.180000\n",
       "2019-09-30  17.360001\n",
       "2019-10-01  17.059999\n",
       "\n",
       "[65 rows x 1 columns]"
      ]
     },
     "execution_count": 8,
     "metadata": {},
     "output_type": "execute_result"
    }
   ],
   "source": [
    "GPS"
   ]
  },
  {
   "cell_type": "code",
   "execution_count": 9,
   "metadata": {},
   "outputs": [],
   "source": [
    "data = pd.merge(GPS, FL, on='Date')"
   ]
  },
  {
   "cell_type": "code",
   "execution_count": 10,
   "metadata": {},
   "outputs": [
    {
     "name": "stdout",
     "output_type": "stream",
     "text": [
      "              Close_x    Close_y\n",
      "Date                            \n",
      "2019-07-01  17.959999  42.230000\n",
      "2019-07-02  17.670000  40.610001\n",
      "2019-07-03  18.120001  41.200001\n",
      "2019-07-05  18.299999  42.060001\n",
      "2019-07-08  18.480000  42.000000\n",
      "2019-07-09  17.980000  41.240002\n",
      "2019-07-10  17.860001  40.810001\n",
      "2019-07-11  18.170000  41.270000\n",
      "2019-07-12  18.660000  41.869999\n",
      "2019-07-15  18.910000  42.110001\n",
      "2019-07-16  19.230000  41.200001\n",
      "2019-07-17  18.740000  41.849998\n",
      "2019-07-18  18.540001  42.349998\n",
      "2019-07-19  18.780001  42.040001\n",
      "2019-07-22  18.719999  42.290001\n",
      "2019-07-23  18.709999  42.939999\n",
      "2019-07-24  19.320000  43.169998\n",
      "2019-07-25  19.260000  42.730000\n",
      "2019-07-26  19.540001  43.240002\n",
      "2019-07-29  19.520000  42.540001\n",
      "2019-07-30  19.400000  42.020000\n",
      "2019-07-31  19.500000  41.060001\n",
      "2019-08-01  17.959999  39.340000\n",
      "2019-08-02  18.040001  39.360001\n",
      "2019-08-05  17.830000  38.560001\n",
      "2019-08-06  17.830000  39.889999\n",
      "2019-08-07  17.850000  40.360001\n",
      "2019-08-08  18.200001  40.529999\n",
      "2019-08-09  17.809999  40.919998\n",
      "2019-08-12  17.459999  39.240002\n",
      "...               ...        ...\n",
      "2019-08-20  16.309999  39.209999\n",
      "2019-08-21  16.959999  39.759998\n",
      "2019-08-22  17.750000  41.930000\n",
      "2019-08-23  16.920000  34.000000\n",
      "2019-08-26  16.379999  35.689999\n",
      "2019-08-27  15.580000  35.320000\n",
      "2019-08-28  15.860000  35.730000\n",
      "2019-08-29  15.910000  35.840000\n",
      "2019-08-30  15.790000  36.189999\n",
      "2019-09-03  15.590000  36.509998\n",
      "2019-09-04  16.110001  38.400002\n",
      "2019-09-05  16.990000  40.189999\n",
      "2019-09-06  16.860001  39.400002\n",
      "2019-09-09  17.959999  40.959999\n",
      "2019-09-10  18.379999  42.230000\n",
      "2019-09-11  19.250000  41.360001\n",
      "2019-09-12  19.180000  40.520000\n",
      "2019-09-13  19.240000  40.310001\n",
      "2019-09-16  18.549999  40.009998\n",
      "2019-09-17  18.209999  40.240002\n",
      "2019-09-18  17.940001  40.470001\n",
      "2019-09-19  17.540001  40.709999\n",
      "2019-09-20  17.190001  39.779999\n",
      "2019-09-23  17.440001  40.279999\n",
      "2019-09-24  17.180000  39.790001\n",
      "2019-09-25  17.230000  40.910000\n",
      "2019-09-26  16.990000  41.250000\n",
      "2019-09-27  17.180000  42.009998\n",
      "2019-09-30  17.360001  43.160000\n",
      "2019-10-01  17.059999  41.910000\n",
      "\n",
      "[65 rows x 2 columns]\n"
     ]
    }
   ],
   "source": [
    "print(data)"
   ]
  },
  {
   "cell_type": "code",
   "execution_count": 11,
   "metadata": {},
   "outputs": [],
   "source": [
    "data = pd.merge(data, M, on='Date')"
   ]
  },
  {
   "cell_type": "code",
   "execution_count": 12,
   "metadata": {},
   "outputs": [
    {
     "data": {
      "text/plain": [
       "(',,',\n",
       " 'KSS,JWN,LB,CTL,GT,DXC,NUE,OXY,DAL,HPE,BBY,BIIB,IP,HPQ,LUV,CAH,COG,HP,LYB,VLO,CCL,STX,WBA,WU,MCK,WHR')"
      ]
     },
     "execution_count": 12,
     "metadata": {},
     "output_type": "execute_result"
    }
   ],
   "source": [
    ", ,, KSS,JWN,LB,CTL,GT,DXC,NUE,OXY,DAL,HPE,BBY,BIIB,IP,HPQ,LUV,CAH,COG,HP,LYB,VLO,CCL,STX,WBA,WU,MCK,WHR"
   ]
  },
  {
   "cell_type": "code",
   "execution_count": 13,
   "metadata": {},
   "outputs": [],
   "source": [
    "data.rename(columns={'Close_x':'GPS','Close_y':'FL','Close':'M'}, inplace=True)"
   ]
  },
  {
   "cell_type": "code",
   "execution_count": 14,
   "metadata": {
    "scrolled": true
   },
   "outputs": [
    {
     "data": {
      "text/html": [
       "<div>\n",
       "<style scoped>\n",
       "    .dataframe tbody tr th:only-of-type {\n",
       "        vertical-align: middle;\n",
       "    }\n",
       "\n",
       "    .dataframe tbody tr th {\n",
       "        vertical-align: top;\n",
       "    }\n",
       "\n",
       "    .dataframe thead th {\n",
       "        text-align: right;\n",
       "    }\n",
       "</style>\n",
       "<table border=\"1\" class=\"dataframe\">\n",
       "  <thead>\n",
       "    <tr style=\"text-align: right;\">\n",
       "      <th></th>\n",
       "      <th>GPS</th>\n",
       "      <th>FL</th>\n",
       "      <th>M</th>\n",
       "    </tr>\n",
       "    <tr>\n",
       "      <th>Date</th>\n",
       "      <th></th>\n",
       "      <th></th>\n",
       "      <th></th>\n",
       "    </tr>\n",
       "  </thead>\n",
       "  <tbody>\n",
       "    <tr>\n",
       "      <th>2019-07-01</th>\n",
       "      <td>17.959999</td>\n",
       "      <td>42.230000</td>\n",
       "      <td>21.389999</td>\n",
       "    </tr>\n",
       "    <tr>\n",
       "      <th>2019-07-02</th>\n",
       "      <td>17.670000</td>\n",
       "      <td>40.610001</td>\n",
       "      <td>21.040001</td>\n",
       "    </tr>\n",
       "    <tr>\n",
       "      <th>2019-07-03</th>\n",
       "      <td>18.120001</td>\n",
       "      <td>41.200001</td>\n",
       "      <td>21.270000</td>\n",
       "    </tr>\n",
       "    <tr>\n",
       "      <th>2019-07-05</th>\n",
       "      <td>18.299999</td>\n",
       "      <td>42.060001</td>\n",
       "      <td>21.700001</td>\n",
       "    </tr>\n",
       "    <tr>\n",
       "      <th>2019-07-08</th>\n",
       "      <td>18.480000</td>\n",
       "      <td>42.000000</td>\n",
       "      <td>21.670000</td>\n",
       "    </tr>\n",
       "    <tr>\n",
       "      <th>2019-07-09</th>\n",
       "      <td>17.980000</td>\n",
       "      <td>41.240002</td>\n",
       "      <td>21.230000</td>\n",
       "    </tr>\n",
       "    <tr>\n",
       "      <th>2019-07-10</th>\n",
       "      <td>17.860001</td>\n",
       "      <td>40.810001</td>\n",
       "      <td>21.180000</td>\n",
       "    </tr>\n",
       "    <tr>\n",
       "      <th>2019-07-11</th>\n",
       "      <td>18.170000</td>\n",
       "      <td>41.270000</td>\n",
       "      <td>21.400000</td>\n",
       "    </tr>\n",
       "    <tr>\n",
       "      <th>2019-07-12</th>\n",
       "      <td>18.660000</td>\n",
       "      <td>41.869999</td>\n",
       "      <td>21.910000</td>\n",
       "    </tr>\n",
       "    <tr>\n",
       "      <th>2019-07-15</th>\n",
       "      <td>18.910000</td>\n",
       "      <td>42.110001</td>\n",
       "      <td>22.040001</td>\n",
       "    </tr>\n",
       "    <tr>\n",
       "      <th>2019-07-16</th>\n",
       "      <td>19.230000</td>\n",
       "      <td>41.200001</td>\n",
       "      <td>22.030001</td>\n",
       "    </tr>\n",
       "    <tr>\n",
       "      <th>2019-07-17</th>\n",
       "      <td>18.740000</td>\n",
       "      <td>41.849998</td>\n",
       "      <td>21.520000</td>\n",
       "    </tr>\n",
       "    <tr>\n",
       "      <th>2019-07-18</th>\n",
       "      <td>18.540001</td>\n",
       "      <td>42.349998</td>\n",
       "      <td>21.549999</td>\n",
       "    </tr>\n",
       "    <tr>\n",
       "      <th>2019-07-19</th>\n",
       "      <td>18.780001</td>\n",
       "      <td>42.040001</td>\n",
       "      <td>22.100000</td>\n",
       "    </tr>\n",
       "    <tr>\n",
       "      <th>2019-07-22</th>\n",
       "      <td>18.719999</td>\n",
       "      <td>42.290001</td>\n",
       "      <td>22.090000</td>\n",
       "    </tr>\n",
       "    <tr>\n",
       "      <th>2019-07-23</th>\n",
       "      <td>18.709999</td>\n",
       "      <td>42.939999</td>\n",
       "      <td>22.600000</td>\n",
       "    </tr>\n",
       "    <tr>\n",
       "      <th>2019-07-24</th>\n",
       "      <td>19.320000</td>\n",
       "      <td>43.169998</td>\n",
       "      <td>23.250000</td>\n",
       "    </tr>\n",
       "    <tr>\n",
       "      <th>2019-07-25</th>\n",
       "      <td>19.260000</td>\n",
       "      <td>42.730000</td>\n",
       "      <td>22.770000</td>\n",
       "    </tr>\n",
       "    <tr>\n",
       "      <th>2019-07-26</th>\n",
       "      <td>19.540001</td>\n",
       "      <td>43.240002</td>\n",
       "      <td>22.870001</td>\n",
       "    </tr>\n",
       "    <tr>\n",
       "      <th>2019-07-29</th>\n",
       "      <td>19.520000</td>\n",
       "      <td>42.540001</td>\n",
       "      <td>22.690001</td>\n",
       "    </tr>\n",
       "    <tr>\n",
       "      <th>2019-07-30</th>\n",
       "      <td>19.400000</td>\n",
       "      <td>42.020000</td>\n",
       "      <td>22.530001</td>\n",
       "    </tr>\n",
       "    <tr>\n",
       "      <th>2019-07-31</th>\n",
       "      <td>19.500000</td>\n",
       "      <td>41.060001</td>\n",
       "      <td>22.730000</td>\n",
       "    </tr>\n",
       "    <tr>\n",
       "      <th>2019-08-01</th>\n",
       "      <td>17.959999</td>\n",
       "      <td>39.340000</td>\n",
       "      <td>21.209999</td>\n",
       "    </tr>\n",
       "    <tr>\n",
       "      <th>2019-08-02</th>\n",
       "      <td>18.040001</td>\n",
       "      <td>39.360001</td>\n",
       "      <td>21.290001</td>\n",
       "    </tr>\n",
       "    <tr>\n",
       "      <th>2019-08-05</th>\n",
       "      <td>17.830000</td>\n",
       "      <td>38.560001</td>\n",
       "      <td>20.629999</td>\n",
       "    </tr>\n",
       "    <tr>\n",
       "      <th>2019-08-06</th>\n",
       "      <td>17.830000</td>\n",
       "      <td>39.889999</td>\n",
       "      <td>20.850000</td>\n",
       "    </tr>\n",
       "    <tr>\n",
       "      <th>2019-08-07</th>\n",
       "      <td>17.850000</td>\n",
       "      <td>40.360001</td>\n",
       "      <td>20.440001</td>\n",
       "    </tr>\n",
       "    <tr>\n",
       "      <th>2019-08-08</th>\n",
       "      <td>18.200001</td>\n",
       "      <td>40.529999</td>\n",
       "      <td>20.320000</td>\n",
       "    </tr>\n",
       "    <tr>\n",
       "      <th>2019-08-09</th>\n",
       "      <td>17.809999</td>\n",
       "      <td>40.919998</td>\n",
       "      <td>19.430000</td>\n",
       "    </tr>\n",
       "    <tr>\n",
       "      <th>2019-08-12</th>\n",
       "      <td>17.459999</td>\n",
       "      <td>39.240002</td>\n",
       "      <td>19.280001</td>\n",
       "    </tr>\n",
       "    <tr>\n",
       "      <th>...</th>\n",
       "      <td>...</td>\n",
       "      <td>...</td>\n",
       "      <td>...</td>\n",
       "    </tr>\n",
       "    <tr>\n",
       "      <th>2019-08-20</th>\n",
       "      <td>16.309999</td>\n",
       "      <td>39.209999</td>\n",
       "      <td>15.360000</td>\n",
       "    </tr>\n",
       "    <tr>\n",
       "      <th>2019-08-21</th>\n",
       "      <td>16.959999</td>\n",
       "      <td>39.759998</td>\n",
       "      <td>15.380000</td>\n",
       "    </tr>\n",
       "    <tr>\n",
       "      <th>2019-08-22</th>\n",
       "      <td>17.750000</td>\n",
       "      <td>41.930000</td>\n",
       "      <td>15.560000</td>\n",
       "    </tr>\n",
       "    <tr>\n",
       "      <th>2019-08-23</th>\n",
       "      <td>16.920000</td>\n",
       "      <td>34.000000</td>\n",
       "      <td>14.940000</td>\n",
       "    </tr>\n",
       "    <tr>\n",
       "      <th>2019-08-26</th>\n",
       "      <td>16.379999</td>\n",
       "      <td>35.689999</td>\n",
       "      <td>14.710000</td>\n",
       "    </tr>\n",
       "    <tr>\n",
       "      <th>2019-08-27</th>\n",
       "      <td>15.580000</td>\n",
       "      <td>35.320000</td>\n",
       "      <td>14.300000</td>\n",
       "    </tr>\n",
       "    <tr>\n",
       "      <th>2019-08-28</th>\n",
       "      <td>15.860000</td>\n",
       "      <td>35.730000</td>\n",
       "      <td>14.620000</td>\n",
       "    </tr>\n",
       "    <tr>\n",
       "      <th>2019-08-29</th>\n",
       "      <td>15.910000</td>\n",
       "      <td>35.840000</td>\n",
       "      <td>14.910000</td>\n",
       "    </tr>\n",
       "    <tr>\n",
       "      <th>2019-08-30</th>\n",
       "      <td>15.790000</td>\n",
       "      <td>36.189999</td>\n",
       "      <td>14.760000</td>\n",
       "    </tr>\n",
       "    <tr>\n",
       "      <th>2019-09-03</th>\n",
       "      <td>15.590000</td>\n",
       "      <td>36.509998</td>\n",
       "      <td>14.390000</td>\n",
       "    </tr>\n",
       "    <tr>\n",
       "      <th>2019-09-04</th>\n",
       "      <td>16.110001</td>\n",
       "      <td>38.400002</td>\n",
       "      <td>14.910000</td>\n",
       "    </tr>\n",
       "    <tr>\n",
       "      <th>2019-09-05</th>\n",
       "      <td>16.990000</td>\n",
       "      <td>40.189999</td>\n",
       "      <td>15.310000</td>\n",
       "    </tr>\n",
       "    <tr>\n",
       "      <th>2019-09-06</th>\n",
       "      <td>16.860001</td>\n",
       "      <td>39.400002</td>\n",
       "      <td>15.390000</td>\n",
       "    </tr>\n",
       "    <tr>\n",
       "      <th>2019-09-09</th>\n",
       "      <td>17.959999</td>\n",
       "      <td>40.959999</td>\n",
       "      <td>16.180000</td>\n",
       "    </tr>\n",
       "    <tr>\n",
       "      <th>2019-09-10</th>\n",
       "      <td>18.379999</td>\n",
       "      <td>42.230000</td>\n",
       "      <td>17.100000</td>\n",
       "    </tr>\n",
       "    <tr>\n",
       "      <th>2019-09-11</th>\n",
       "      <td>19.250000</td>\n",
       "      <td>41.360001</td>\n",
       "      <td>17.840000</td>\n",
       "    </tr>\n",
       "    <tr>\n",
       "      <th>2019-09-12</th>\n",
       "      <td>19.180000</td>\n",
       "      <td>40.520000</td>\n",
       "      <td>17.000000</td>\n",
       "    </tr>\n",
       "    <tr>\n",
       "      <th>2019-09-13</th>\n",
       "      <td>19.240000</td>\n",
       "      <td>40.310001</td>\n",
       "      <td>17.139999</td>\n",
       "    </tr>\n",
       "    <tr>\n",
       "      <th>2019-09-16</th>\n",
       "      <td>18.549999</td>\n",
       "      <td>40.009998</td>\n",
       "      <td>17.420000</td>\n",
       "    </tr>\n",
       "    <tr>\n",
       "      <th>2019-09-17</th>\n",
       "      <td>18.209999</td>\n",
       "      <td>40.240002</td>\n",
       "      <td>16.629999</td>\n",
       "    </tr>\n",
       "    <tr>\n",
       "      <th>2019-09-18</th>\n",
       "      <td>17.940001</td>\n",
       "      <td>40.470001</td>\n",
       "      <td>16.270000</td>\n",
       "    </tr>\n",
       "    <tr>\n",
       "      <th>2019-09-19</th>\n",
       "      <td>17.540001</td>\n",
       "      <td>40.709999</td>\n",
       "      <td>15.720000</td>\n",
       "    </tr>\n",
       "    <tr>\n",
       "      <th>2019-09-20</th>\n",
       "      <td>17.190001</td>\n",
       "      <td>39.779999</td>\n",
       "      <td>15.410000</td>\n",
       "    </tr>\n",
       "    <tr>\n",
       "      <th>2019-09-23</th>\n",
       "      <td>17.440001</td>\n",
       "      <td>40.279999</td>\n",
       "      <td>15.540000</td>\n",
       "    </tr>\n",
       "    <tr>\n",
       "      <th>2019-09-24</th>\n",
       "      <td>17.180000</td>\n",
       "      <td>39.790001</td>\n",
       "      <td>15.260000</td>\n",
       "    </tr>\n",
       "    <tr>\n",
       "      <th>2019-09-25</th>\n",
       "      <td>17.230000</td>\n",
       "      <td>40.910000</td>\n",
       "      <td>15.540000</td>\n",
       "    </tr>\n",
       "    <tr>\n",
       "      <th>2019-09-26</th>\n",
       "      <td>16.990000</td>\n",
       "      <td>41.250000</td>\n",
       "      <td>15.250000</td>\n",
       "    </tr>\n",
       "    <tr>\n",
       "      <th>2019-09-27</th>\n",
       "      <td>17.180000</td>\n",
       "      <td>42.009998</td>\n",
       "      <td>15.290000</td>\n",
       "    </tr>\n",
       "    <tr>\n",
       "      <th>2019-09-30</th>\n",
       "      <td>17.360001</td>\n",
       "      <td>43.160000</td>\n",
       "      <td>15.540000</td>\n",
       "    </tr>\n",
       "    <tr>\n",
       "      <th>2019-10-01</th>\n",
       "      <td>17.059999</td>\n",
       "      <td>41.910000</td>\n",
       "      <td>15.550000</td>\n",
       "    </tr>\n",
       "  </tbody>\n",
       "</table>\n",
       "<p>65 rows × 3 columns</p>\n",
       "</div>"
      ],
      "text/plain": [
       "                  GPS         FL          M\n",
       "Date                                       \n",
       "2019-07-01  17.959999  42.230000  21.389999\n",
       "2019-07-02  17.670000  40.610001  21.040001\n",
       "2019-07-03  18.120001  41.200001  21.270000\n",
       "2019-07-05  18.299999  42.060001  21.700001\n",
       "2019-07-08  18.480000  42.000000  21.670000\n",
       "2019-07-09  17.980000  41.240002  21.230000\n",
       "2019-07-10  17.860001  40.810001  21.180000\n",
       "2019-07-11  18.170000  41.270000  21.400000\n",
       "2019-07-12  18.660000  41.869999  21.910000\n",
       "2019-07-15  18.910000  42.110001  22.040001\n",
       "2019-07-16  19.230000  41.200001  22.030001\n",
       "2019-07-17  18.740000  41.849998  21.520000\n",
       "2019-07-18  18.540001  42.349998  21.549999\n",
       "2019-07-19  18.780001  42.040001  22.100000\n",
       "2019-07-22  18.719999  42.290001  22.090000\n",
       "2019-07-23  18.709999  42.939999  22.600000\n",
       "2019-07-24  19.320000  43.169998  23.250000\n",
       "2019-07-25  19.260000  42.730000  22.770000\n",
       "2019-07-26  19.540001  43.240002  22.870001\n",
       "2019-07-29  19.520000  42.540001  22.690001\n",
       "2019-07-30  19.400000  42.020000  22.530001\n",
       "2019-07-31  19.500000  41.060001  22.730000\n",
       "2019-08-01  17.959999  39.340000  21.209999\n",
       "2019-08-02  18.040001  39.360001  21.290001\n",
       "2019-08-05  17.830000  38.560001  20.629999\n",
       "2019-08-06  17.830000  39.889999  20.850000\n",
       "2019-08-07  17.850000  40.360001  20.440001\n",
       "2019-08-08  18.200001  40.529999  20.320000\n",
       "2019-08-09  17.809999  40.919998  19.430000\n",
       "2019-08-12  17.459999  39.240002  19.280001\n",
       "...               ...        ...        ...\n",
       "2019-08-20  16.309999  39.209999  15.360000\n",
       "2019-08-21  16.959999  39.759998  15.380000\n",
       "2019-08-22  17.750000  41.930000  15.560000\n",
       "2019-08-23  16.920000  34.000000  14.940000\n",
       "2019-08-26  16.379999  35.689999  14.710000\n",
       "2019-08-27  15.580000  35.320000  14.300000\n",
       "2019-08-28  15.860000  35.730000  14.620000\n",
       "2019-08-29  15.910000  35.840000  14.910000\n",
       "2019-08-30  15.790000  36.189999  14.760000\n",
       "2019-09-03  15.590000  36.509998  14.390000\n",
       "2019-09-04  16.110001  38.400002  14.910000\n",
       "2019-09-05  16.990000  40.189999  15.310000\n",
       "2019-09-06  16.860001  39.400002  15.390000\n",
       "2019-09-09  17.959999  40.959999  16.180000\n",
       "2019-09-10  18.379999  42.230000  17.100000\n",
       "2019-09-11  19.250000  41.360001  17.840000\n",
       "2019-09-12  19.180000  40.520000  17.000000\n",
       "2019-09-13  19.240000  40.310001  17.139999\n",
       "2019-09-16  18.549999  40.009998  17.420000\n",
       "2019-09-17  18.209999  40.240002  16.629999\n",
       "2019-09-18  17.940001  40.470001  16.270000\n",
       "2019-09-19  17.540001  40.709999  15.720000\n",
       "2019-09-20  17.190001  39.779999  15.410000\n",
       "2019-09-23  17.440001  40.279999  15.540000\n",
       "2019-09-24  17.180000  39.790001  15.260000\n",
       "2019-09-25  17.230000  40.910000  15.540000\n",
       "2019-09-26  16.990000  41.250000  15.250000\n",
       "2019-09-27  17.180000  42.009998  15.290000\n",
       "2019-09-30  17.360001  43.160000  15.540000\n",
       "2019-10-01  17.059999  41.910000  15.550000\n",
       "\n",
       "[65 rows x 3 columns]"
      ]
     },
     "execution_count": 14,
     "metadata": {},
     "output_type": "execute_result"
    }
   ],
   "source": [
    "data"
   ]
  },
  {
   "cell_type": "code",
   "execution_count": 15,
   "metadata": {},
   "outputs": [],
   "source": [
    "data = pd.merge(data, DVN, on='Date')"
   ]
  },
  {
   "cell_type": "code",
   "execution_count": 16,
   "metadata": {},
   "outputs": [],
   "source": [
    "data.rename(columns={'Close':'DVN'}, inplace=True)"
   ]
  },
  {
   "cell_type": "code",
   "execution_count": 17,
   "metadata": {},
   "outputs": [
    {
     "data": {
      "text/plain": [
       "1.1021621137814255"
      ]
     },
     "execution_count": 17,
     "metadata": {},
     "output_type": "execute_result"
    }
   ],
   "source": [
    "np.std(data).min()"
   ]
  },
  {
   "cell_type": "code",
   "execution_count": 18,
   "metadata": {},
   "outputs": [
    {
     "data": {
      "text/plain": [
       "GPS    1.102162\n",
       "FL     2.091104\n",
       "M      3.036870\n",
       "DVN    2.046057\n",
       "dtype: float64"
      ]
     },
     "execution_count": 18,
     "metadata": {},
     "output_type": "execute_result"
    }
   ],
   "source": [
    "np.std(data)"
   ]
  },
  {
   "cell_type": "markdown",
   "metadata": {},
   "source": [
    "### for min std we use butterfly\n",
    "### for max std we use straddle"
   ]
  },
  {
   "cell_type": "code",
   "execution_count": null,
   "metadata": {},
   "outputs": [],
   "source": []
  },
  {
   "cell_type": "markdown",
   "metadata": {},
   "source": [
    "Here I'm doing a gap. For each given strategy, you can substitute the corresponding values \n",
    "of spot stock prices, as well as options parameters taken from the exchange. In my case, I took values\n",
    "that are close to reality, and not actual, due to a number of uncertainties and\n",
    "difficulties in implementing the substitution of real exchange parameters."
   ]
  },
  {
   "cell_type": "markdown",
   "metadata": {},
   "source": [
    "# Calculate The Jade Lizard Options Strategy Payoff"
   ]
  },
  {
   "cell_type": "markdown",
   "metadata": {},
   "source": [
    "## Import Librabries"
   ]
  },
  {
   "cell_type": "code",
   "execution_count": 6,
   "metadata": {},
   "outputs": [],
   "source": [
    "import numpy as np\n",
    "import matplotlib.pyplot as plt"
   ]
  },
  {
   "cell_type": "markdown",
   "metadata": {},
   "source": [
    "## Call Payoff"
   ]
  },
  {
   "cell_type": "code",
   "execution_count": 7,
   "metadata": {},
   "outputs": [
    {
     "data": {
      "image/png": "[encoded data removed]",
      "text/plain": [
       "<Figure size 432x288 with 1 Axes>"
      ]
     },
     "metadata": {
      "needs_background": "light"
     },
     "output_type": "display_data"
    }
   ],
   "source": [
    "def call_payoff(sT, strike_price, premium):\n",
    "    return np.where(sT > strike_price, sT - strike_price, 0) - premium\n",
    "# TECHM Stock price\n",
    "spot_price = 688\n",
    "\n",
    "# Long call\n",
    "strike_price_long_call = 750\n",
    "premium_long_call = 4.30\n",
    "\n",
    "# Short call\n",
    "strike_price_short_call = 730\n",
    "premium_short_call = 6.80\n",
    "\n",
    "# Stock price range at expiration of the call\n",
    "sT = np.arange(0.9*spot_price,1.1*spot_price,1)\n",
    "payoff_long_call = call_payoff(sT, strike_price_long_call, premium_long_call)\n",
    "\n",
    "fig, ax = plt.subplots()\n",
    "ax.spines['bottom'].set_position('zero')\n",
    "ax.plot(sT,payoff_long_call,label='Long Strike Call',color='g')\n",
    "plt.xlabel('Stock Price')\n",
    "plt.ylabel('Profit and Loss')\n",
    "plt.legend()\n",
    "plt.show()"
   ]
  },
  {
   "cell_type": "markdown",
   "metadata": {},
   "source": [
    "## Long strike call"
   ]
  },
  {
   "cell_type": "code",
   "execution_count": 8,
   "metadata": {},
   "outputs": [
    {
     "data": {
      "image/png": "[encoded data removed]",
      "text/plain": [
       "<Figure size 432x288 with 1 Axes>"
      ]
     },
     "metadata": {
      "needs_background": "light"
     },
     "output_type": "display_data"
    }
   ],
   "source": [
    "payoff_short_call = call_payoff(sT, strike_price_short_call, premium_short_call) * -1.0\n",
    "\n",
    "fig, ax = plt.subplots()\n",
    "ax.spines['bottom'].set_position('zero')\n",
    "ax.plot(sT,payoff_short_call,label='Short Strike Call',color='r')\n",
    "plt.xlabel('Stock Price')\n",
    "plt.ylabel('Profit and Loss')\n",
    "plt.legend()\n",
    "plt.show()"
   ]
  },
  {
   "cell_type": "markdown",
   "metadata": {},
   "source": [
    "## Put Payoff"
   ]
  },
  {
   "cell_type": "code",
   "execution_count": 9,
   "metadata": {},
   "outputs": [
    {
     "data": {
      "image/png": "[encoded data removed]",
      "text/plain": [
       "<Figure size 432x288 with 1 Axes>"
      ]
     },
     "metadata": {
      "needs_background": "light"
     },
     "output_type": "display_data"
    }
   ],
   "source": [
    "def put_payoff(sT, strike_price, premium):\n",
    "    return np.where(sT < strike_price, strike_price - sT, 0) - premium\n",
    "# stock price\n",
    "spot_price = 688\n",
    "\n",
    "# Short put\n",
    "strike_price_short_put = 660\n",
    "premium_short_put = 7.85\n",
    "\n",
    "# Stock price range at expiration of the put\n",
    "sT = np.arange(0.9*spot_price,1.1*spot_price,1)\n",
    "payoff_short_put = put_payoff(sT, strike_price_short_put, premium_short_put) * -1.0\n",
    "\n",
    "fig, ax = plt.subplots()\n",
    "ax.spines['bottom'].set_position('zero')\n",
    "ax.plot(sT,payoff_short_put,label='Short Strike Put',color='m')\n",
    "plt.xlabel('Stock Price')\n",
    "plt.ylabel('Profit and Loss')\n",
    "plt.legend()\n",
    "plt.grid()\n",
    "plt.show()"
   ]
  },
  {
   "cell_type": "markdown",
   "metadata": {},
   "source": [
    "## Jade Lizard Payoff"
   ]
  },
  {
   "cell_type": "code",
   "execution_count": 10,
   "metadata": {},
   "outputs": [
    {
     "data": {
      "image/png": "[encoded data removed]",
      "text/plain": [
       "<Figure size 432x288 with 1 Axes>"
      ]
     },
     "metadata": {
      "needs_background": "light"
     },
     "output_type": "display_data"
    }
   ],
   "source": [
    "payoff = payoff_long_call + payoff_short_call + payoff_short_put\n",
    "\n",
    "fig, ax = plt.subplots()\n",
    "ax.spines['bottom'].set_position('zero')\n",
    "ax.plot(sT,payoff_long_call,'--',label='Long Strike Call',color='g')\n",
    "ax.plot(sT,payoff_short_call,'--',label='Short Strike Call',color='r')\n",
    "ax.plot(sT,payoff_short_put,'--',label='Short Strike Put',color='m')\n",
    "ax.plot(sT,payoff,label='Jade Lizard Payoff')\n",
    "plt.xlabel('Stock Price')\n",
    "plt.ylabel('Profit and Loss')\n",
    "plt.legend()\n",
    "plt.grid()\n",
    "plt.show()"
   ]
  },
  {
   "cell_type": "markdown",
   "metadata": {},
   "source": [
    "## Jade Lizard Formation"
   ]
  },
  {
   "cell_type": "code",
   "execution_count": 11,
   "metadata": {},
   "outputs": [
    {
     "data": {
      "image/png": "[encoded data removed]",
      "text/plain": [
       "<Figure size 432x288 with 1 Axes>"
      ]
     },
     "metadata": {
      "needs_background": "light"
     },
     "output_type": "display_data"
    }
   ],
   "source": [
    "payoff = payoff_long_call + payoff_short_call + payoff_short_put\n",
    "\n",
    "fig, ax = plt.subplots()\n",
    "ax.spines['bottom'].set_position('zero')\n",
    "ax.plot(sT,payoff,label='Jade Lizard Payoff')\n",
    "plt.xlabel('Stock Price')\n",
    "plt.ylabel('Profit and Loss')\n",
    "plt.legend()\n",
    "plt.grid()\n",
    "plt.show()"
   ]
  },
  {
   "cell_type": "code",
   "execution_count": 12,
   "metadata": {},
   "outputs": [
    {
     "name": "stdout",
     "output_type": "stream",
     "text": [
      "10.35\n",
      "-30.449999999999953\n"
     ]
    }
   ],
   "source": [
    "profit = max(payoff)\n",
    "loss = min(payoff)\n",
    "print (profit)\n",
    "print (loss)"
   ]
  },
  {
   "cell_type": "markdown",
   "metadata": {},
   "source": [
    "Since the period of high volatility associated with the trade war, problems in the Middle East,\n",
    "and in connection with this high volatility of oil prices, as well as Brexit, is already in the past,\n",
    "there is reason to believe that selling volatility in the near future is a good solution."
   ]
  },
  {
   "cell_type": "markdown",
   "metadata": {},
   "source": [
    "# Implementing The Bear Spread Options Strategy"
   ]
  },
  {
   "cell_type": "markdown",
   "metadata": {},
   "source": [
    "## Import Libraries"
   ]
  },
  {
   "cell_type": "code",
   "execution_count": 13,
   "metadata": {},
   "outputs": [],
   "source": [
    "import seaborn \n",
    "seaborn.set(style=\"darkgrid\")"
   ]
  },
  {
   "cell_type": "markdown",
   "metadata": {},
   "source": [
    "## Put Payoff"
   ]
  },
  {
   "cell_type": "code",
   "execution_count": 14,
   "metadata": {},
   "outputs": [],
   "source": [
    "def put_payoff(sT, strike_price, premium):\n",
    "     return np.where(sT < strike_price, strike_price - sT, 0) - premium"
   ]
  },
  {
   "cell_type": "code",
   "execution_count": 15,
   "metadata": {},
   "outputs": [
    {
     "data": {
      "image/png": "[encoded data removed]",
      "text/plain": [
       "<Figure size 432x288 with 1 Axes>"
      ]
     },
     "metadata": {},
     "output_type": "display_data"
    }
   ],
   "source": [
    "# Adani Enterprises Ltd Spot Price\n",
    "s0 = 160\n",
    " \n",
    "# Long Put\n",
    "strike_price_long_put =165\n",
    "premium_long_put = 9.7\n",
    " \n",
    "# Short Put\n",
    "strike_price_short_put = 155\n",
    "premium_short_put = 5.4\n",
    " \n",
    "# Range of put option at expiry\n",
    "sT = np.arange(100,220,1)\n",
    "\n",
    "\n",
    "long_put_payoff = put_payoff(sT, strike_price_long_put, premium_long_put)\n",
    " \n",
    "fig, ax = plt.subplots()\n",
    " \n",
    "ax.spines['bottom'].set_position('zero')\n",
    "ax.plot(sT, long_put_payoff, color ='g')\n",
    "ax.set_title('Long 165 Strike Put')\n",
    "plt.xlabel('Stock Price (sT)')\n",
    "plt.ylabel('Profit & Loss')\n",
    "plt.show()"
   ]
  },
  {
   "cell_type": "code",
   "execution_count": 16,
   "metadata": {},
   "outputs": [
    {
     "data": {
      "image/png": "[encoded data removed]",
      "text/plain": [
       "<Figure size 432x288 with 1 Axes>"
      ]
     },
     "metadata": {},
     "output_type": "display_data"
    }
   ],
   "source": [
    "short_put_payoff = put_payoff(sT, strike_price_short_put, premium_short_put) * -1.0\n",
    " \n",
    "fig, ax = plt.subplots()\n",
    "ax.spines['bottom'].set_position('zero')\n",
    "ax.plot(sT, short_put_payoff, color ='r')\n",
    "ax.set_title('Short 155 Strike Put')\n",
    "plt.xlabel('Stock Price (sT)')\n",
    "plt.ylabel('Profit & Loss')\n",
    "plt.show()"
   ]
  },
  {
   "cell_type": "markdown",
   "metadata": {},
   "source": [
    "## Bear Put Payoff"
   ]
  },
  {
   "cell_type": "code",
   "execution_count": 17,
   "metadata": {},
   "outputs": [
    {
     "data": {
      "image/png": "[encoded data removed]",
      "text/plain": [
       "<Figure size 432x288 with 1 Axes>"
      ]
     },
     "metadata": {},
     "output_type": "display_data"
    }
   ],
   "source": [
    "Bear_Put_payoff = long_put_payoff + short_put_payoff \n",
    " \n",
    "fig, ax = plt.subplots()\n",
    "ax.spines['bottom'].set_position('zero')\n",
    "ax.plot(sT, Bear_Put_payoff, color ='b')\n",
    "ax.set_title('Bear Put Spread Payoff')\n",
    "plt.xlabel('Stock Price (sT)')\n",
    "plt.ylabel('Profit & Loss')\n",
    "plt.show()"
   ]
  },
  {
   "cell_type": "code",
   "execution_count": 18,
   "metadata": {},
   "outputs": [
    {
     "data": {
      "image/png": "[encoded data removed]",
      "text/plain": [
       "<Figure size 720x360 with 1 Axes>"
      ]
     },
     "metadata": {},
     "output_type": "display_data"
    }
   ],
   "source": [
    "fig, ax = plt.subplots(figsize=(10,5))\n",
    "ax.spines['bottom'].set_position('zero')\n",
    "ax.plot(sT, Bear_Put_payoff, color ='b', label = 'Bear Put Spread')\n",
    "ax.plot(sT, long_put_payoff,'--', color ='g', label ='Long Put')\n",
    "ax.plot(sT, short_put_payoff,'--', color ='r', label ='Short Put')\n",
    "plt.legend()\n",
    "plt.xlabel('Stock Price (sT)')\n",
    "plt.ylabel('Profit & Loss')\n",
    "plt.show()"
   ]
  },
  {
   "cell_type": "code",
   "execution_count": 19,
   "metadata": {},
   "outputs": [
    {
     "name": "stdout",
     "output_type": "stream",
     "text": [
      "Max Profit 5.70\n",
      "Max Loss -4.30\n"
     ]
    }
   ],
   "source": [
    "profit = max (Bear_Put_payoff)\n",
    "loss = min (Bear_Put_payoff)\n",
    " \n",
    "print (\"Max Profit %.2f\" %profit)\n",
    "print (\"Max Loss %.2f\" %loss)\n"
   ]
  },
  {
   "cell_type": "markdown",
   "metadata": {},
   "source": [
    "# Calculating The Butterfly Spread Options Trading Strategy Payoff"
   ]
  },
  {
   "cell_type": "markdown",
   "metadata": {},
   "source": [
    "## Call Payoff"
   ]
  },
  {
   "cell_type": "code",
   "execution_count": 20,
   "metadata": {},
   "outputs": [],
   "source": [
    "def call_payoff (sT, strike_price, premium):\n",
    "    return np.where(sT> strike_price, sT-strike_price, 0)-premium\n",
    "# Spot Price\n",
    "s0 = 40\n",
    "\n",
    "# Long Call\n",
    "higher_strike_price_long_call = 35\n",
    "lower_strike_price_long_call=30\n",
    "\n",
    "premium_higher_strike_long_call = 0.85\n",
    "premium_lower_strike_long_call = 3.15\n",
    "\n",
    "# Short Call\n",
    "\n",
    "strike_price_short_call = 32.5\n",
    "premium_short_call = 1.80\n",
    "\n",
    "# Range of call option at expiration\n",
    "sT = np.arange(10,60,1)"
   ]
  },
  {
   "cell_type": "markdown",
   "metadata": {},
   "source": [
    "## Long Call Payoff"
   ]
  },
  {
   "cell_type": "code",
   "execution_count": 21,
   "metadata": {},
   "outputs": [
    {
     "data": {
      "image/png": "[encoded data removed]",
      "text/plain": [
       "<Figure size 432x288 with 1 Axes>"
      ]
     },
     "metadata": {},
     "output_type": "display_data"
    }
   ],
   "source": [
    "# OTM Strike Long Call Payoff\n",
    "lower_strike_long_call_payoff = call_payoff(sT, lower_strike_price_long_call, premium_lower_strike_long_call)\n",
    "\n",
    "fig, ax = plt.subplots()\n",
    "ax.spines['bottom'].set_position('zero')\n",
    "ax.plot(sT,lower_strike_long_call_payoff, color='g')\n",
    "ax.set_title('LONG 30 Strike Call')\n",
    "plt.xlabel('Stock Price')\n",
    "plt.ylabel('Profit & Loss')\n",
    "\n",
    "plt.show()"
   ]
  },
  {
   "cell_type": "markdown",
   "metadata": {},
   "source": [
    "## Higher Strike Long Call Payoff"
   ]
  },
  {
   "cell_type": "code",
   "execution_count": 22,
   "metadata": {},
   "outputs": [
    {
     "data": {
      "image/png": "[encoded data removed]",
      "text/plain": [
       "<Figure size 432x288 with 1 Axes>"
      ]
     },
     "metadata": {},
     "output_type": "display_data"
    }
   ],
   "source": [
    "# Higher Strike Long Call Payoff\n",
    "\n",
    "higher_strike_long_call_payoff = call_payoff(sT, higher_strike_price_long_call, premium_higher_strike_long_call)\n",
    "\n",
    "fig, ax = plt.subplots()\n",
    "ax.spines['bottom'].set_position('zero')\n",
    "ax.plot(sT,higher_strike_long_call_payoff, color='g')\n",
    "ax.set_title('LONG 35 Strike Call')\n",
    "plt.xlabel('Stock Price (sT)')\n",
    "plt.ylabel('Profit & Loss')\n",
    "\n",
    "plt.show()"
   ]
  },
  {
   "cell_type": "markdown",
   "metadata": {},
   "source": [
    "## Short Call Payoff"
   ]
  },
  {
   "cell_type": "code",
   "execution_count": 23,
   "metadata": {},
   "outputs": [
    {
     "data": {
      "image/png": "[encoded data removed]",
      "text/plain": [
       "<Figure size 432x288 with 1 Axes>"
      ]
     },
     "metadata": {},
     "output_type": "display_data"
    }
   ],
   "source": [
    "# Short Call Payoff\n",
    "\n",
    "Short_call_payoff = call_payoff(sT, strike_price_short_call, premium_short_call)*-1.0\n",
    "\n",
    "fig, ax = plt.subplots()\n",
    "ax.spines['bottom'].set_position('zero')\n",
    "ax.plot(sT, Short_call_payoff, color='r')\n",
    "ax.set_title('Short 32.5 Strike Call')\n",
    "plt.xlabel('Stock Price')\n",
    "plt.ylabel('Profit & Loss')\n",
    "\n",
    "plt.show()"
   ]
  },
  {
   "cell_type": "markdown",
   "metadata": {},
   "source": [
    "## Butterfly Spread Payoff"
   ]
  },
  {
   "cell_type": "code",
   "execution_count": 24,
   "metadata": {},
   "outputs": [
    {
     "data": {
      "image/png": "[encoded data removed]",
      "text/plain": [
       "<Figure size 432x288 with 1 Axes>"
      ]
     },
     "metadata": {},
     "output_type": "display_data"
    }
   ],
   "source": [
    "Butterfly_spread_payoff = lower_strike_long_call_payoff + higher_strike_long_call_payoff + 2 *Short_call_payoff\n",
    "\n",
    "fig, ax = plt.subplots()\n",
    "ax.spines['bottom'].set_position('zero')\n",
    "ax.plot(sT,Butterfly_spread_payoff ,color='b', label= 'Butterfly Spread')\n",
    "ax.plot(sT, lower_strike_long_call_payoff,'--', color='g',label='Lower Strike Long Call')\n",
    "ax.plot(sT, higher_strike_long_call_payoff,'--', color='g', label='Higher Strike Long Call')\n",
    "ax.plot(sT, Short_call_payoff, '--', color='r', label='Short call')\n",
    "plt.legend()\n",
    "plt.xlabel('Stock Price')\n",
    "plt.ylabel('Profit & Loss')\n",
    "plt.show()"
   ]
  },
  {
   "cell_type": "code",
   "execution_count": 25,
   "metadata": {},
   "outputs": [
    {
     "data": {
      "image/png": "[encoded data removed]",
      "text/plain": [
       "<Figure size 432x288 with 1 Axes>"
      ]
     },
     "metadata": {},
     "output_type": "display_data"
    }
   ],
   "source": [
    "Butterfly_spread_payoff = lower_strike_long_call_payoff + higher_strike_long_call_payoff + 2 *Short_call_payoff\n",
    "\n",
    "fig, ax = plt.subplots()\n",
    "ax.spines['bottom'].set_position('zero')\n",
    "ax.plot(sT,Butterfly_spread_payoff ,color='b', label= 'Butterfly Spread')\n",
    "plt.legend()\n",
    "plt.xlabel('Stock Price')\n",
    "plt.ylabel('Profit & Loss')\n",
    "plt.show()"
   ]
  },
  {
   "cell_type": "code",
   "execution_count": 26,
   "metadata": {},
   "outputs": [
    {
     "name": "stdout",
     "output_type": "stream",
     "text": [
      "1.60\n",
      "-0.40\n"
     ]
    }
   ],
   "source": [
    "profit = max(Butterfly_spread_payoff)\n",
    "loss = min(Butterfly_spread_payoff)\n",
    "\n",
    "print (\"%.2f\" %profit)\n",
    "print (\"%.2f\" %loss)"
   ]
  },
  {
   "cell_type": "markdown",
   "metadata": {},
   "source": [
    "Since the period of high volatility associated with the trade war, problems in the Middle East,\n",
    "and in connection with this high volatility of oil prices, as well as Brexit, is already in the\n",
    "past, there is reason to believe that selling volatility in the near future is a good solution."
   ]
  },
  {
   "cell_type": "markdown",
   "metadata": {},
   "source": [
    "# Covered Call Payoff chart"
   ]
  },
  {
   "cell_type": "markdown",
   "metadata": {},
   "source": [
    "## Covered Call"
   ]
  },
  {
   "cell_type": "code",
   "execution_count": 27,
   "metadata": {
    "scrolled": true
   },
   "outputs": [
    {
     "data": {
      "image/png": "[encoded data removed]",
      "text/plain": [
       "<Figure size 432x288 with 1 Axes>"
      ]
     },
     "metadata": {},
     "output_type": "display_data"
    }
   ],
   "source": [
    "s0=189 # Initial stock price\n",
    "\n",
    "k=195;c=6.30; # Strike price and Premium of the option\n",
    "\n",
    "shares = 100 # Shares per lot\n",
    "\n",
    "sT = np.arange(0,2*s0,5) # Stock Price at expiration of the Call\n",
    "# Profit/loss from long stock position\n",
    "\n",
    "y1= (sT-s0) * shares\n",
    "# Payoff from a Short Call Option\n",
    "\n",
    "y2 = np.where(sT > k,((k - sT) + c) * shares, c * shares)\n",
    "# Payoff from a Covered Call\n",
    "\n",
    "y3 = np.where(sT > k,((k - s0) + c) * shares,((sT- s0) + c) * shares )\n",
    "# Create a plot using matplotlib\n",
    "\n",
    "fig, ax = plt.subplots()\n",
    "\n",
    "ax.spines['top'].set_visible(False) # Top border removed\n",
    "\n",
    "ax.spines['right'].set_visible(False) # Right border removed\n",
    "\n",
    "ax.spines['bottom'].set_position('zero') # Sets the X-axis in the center\n",
    "\n",
    "ax.tick_params(top=False, right=False) # Removes the tick-marks on the RHS\n",
    "\n",
    "\n",
    "plt.plot(sT,y1,lw=1.5,label='Long Stock')\n",
    "\n",
    "plt.plot(sT,y2,lw=1.5,label='Short Call')\n",
    "\n",
    "plt.plot(sT,y3,lw=1.5,label='Covered Call')\n",
    "\n",
    "\n",
    "plt.title('Covered Call')\n",
    "\n",
    "plt.xlabel('Stock Prices')\n",
    "\n",
    "plt.ylabel('Profit/loss')\n",
    "\n",
    "\n",
    "plt.grid(True)\n",
    "\n",
    "plt.axis('tight')\n",
    "\n",
    "plt.legend(loc=0)\n",
    "\n",
    "plt.show()"
   ]
  },
  {
   "cell_type": "markdown",
   "metadata": {},
   "source": [
    "### Straddle"
   ]
  },
  {
   "cell_type": "code",
   "execution_count": 60,
   "metadata": {},
   "outputs": [],
   "source": [
    "# PNB stock price \n",
    "spot_price = 117.05 \n",
    "# Long put\n",
    "strike_price_long_put = 110 \n",
    "premium_long_put = 8.3\n",
    "# Long call\n",
    "strike_price_long_call = 110 \n",
    "premium_long_call = 16.05\n",
    "# Stock price range at expiration of the put\n",
    "sT = np.arange(0,2*spot_price,1)"
   ]
  },
  {
   "cell_type": "markdown",
   "metadata": {},
   "source": [
    "### Call Payoff"
   ]
  },
  {
   "cell_type": "code",
   "execution_count": 62,
   "metadata": {},
   "outputs": [],
   "source": [
    "def call_payoff(sT, strike_price, premium):\n",
    "    return np.where(sT > strike_price, sT - strike_price, 0) - premium\n",
    "payoff_long_call = call_payoff (sT, strike_price_long_call, premium_long_call)\n"
   ]
  },
  {
   "cell_type": "markdown",
   "metadata": {},
   "source": [
    "#### Plot"
   ]
  },
  {
   "cell_type": "code",
   "execution_count": 63,
   "metadata": {},
   "outputs": [
    {
     "data": {
      "image/png": "[encoded data removed]",
      "text/plain": [
       "<Figure size 432x288 with 1 Axes>"
      ]
     },
     "metadata": {},
     "output_type": "display_data"
    }
   ],
   "source": [
    "fig, ax = plt.subplots()\n",
    "\n",
    "ax.spines['top'].set_visible(False) # Top border removed\n",
    "\n",
    "ax.spines['right'].set_visible(False) # Right border removed\n",
    "\n",
    "ax.spines['bottom'].set_position('zero') # Sets the X-axis in the center\n",
    "\n",
    "ax.plot(sT,payoff_long_call,label='Long Call',color='r')\n",
    "\n",
    "plt.xlabel('Stock Price')\n",
    "\n",
    "plt.ylabel('Profit and loss')\n",
    "\n",
    "plt.legend()\n",
    "\n",
    "plt.show()"
   ]
  },
  {
   "cell_type": "markdown",
   "metadata": {},
   "source": [
    "### Put Payoff"
   ]
  },
  {
   "cell_type": "code",
   "execution_count": 64,
   "metadata": {},
   "outputs": [],
   "source": [
    "def put_payoff(sT, strike_price, premium):\n",
    "    return np.where(sT < strike_price, strike_price - sT, 0) - premium \n",
    "payoff_long_put = put_payoff(sT, strike_price_long_put, premium_long_put)"
   ]
  },
  {
   "cell_type": "markdown",
   "metadata": {},
   "source": [
    "#### Plot"
   ]
  },
  {
   "cell_type": "code",
   "execution_count": 65,
   "metadata": {},
   "outputs": [
    {
     "data": {
      "image/png": "[encoded data removed]",
      "text/plain": [
       "<Figure size 432x288 with 1 Axes>"
      ]
     },
     "metadata": {},
     "output_type": "display_data"
    }
   ],
   "source": [
    "fig, ax = plt.subplots()\n",
    "\n",
    "ax.spines['top'].set_visible(False) # Top border removed\n",
    "\n",
    "ax.spines['right'].set_visible(False) # Right border removed\n",
    "\n",
    "ax.spines['bottom'].set_position('zero') # Sets the X-axis in the center\n",
    "\n",
    "ax.plot(sT,payoff_long_put,label='Long Put',color='g')\n",
    "\n",
    "plt.xlabel('Stock Price')\n",
    "\n",
    "plt.ylabel('Profit and loss')\n",
    "\n",
    "plt.legend()\n",
    "\n",
    "plt.show()"
   ]
  },
  {
   "cell_type": "markdown",
   "metadata": {},
   "source": [
    "### Straddle Payoff"
   ]
  },
  {
   "cell_type": "code",
   "execution_count": 66,
   "metadata": {},
   "outputs": [
    {
     "name": "stdout",
     "output_type": "stream",
     "text": [
      "Max Profit: Unlimited\n",
      "Max Loss: -24.35\n"
     ]
    }
   ],
   "source": [
    "payoff_straddle = payoff_long_call + payoff_long_put\n",
    "print (\"Max Profit: Unlimited\")\n",
    "\n",
    "print (\"Max Loss:\", min(payoff_straddle))"
   ]
  },
  {
   "cell_type": "markdown",
   "metadata": {},
   "source": [
    "#### Plot"
   ]
  },
  {
   "cell_type": "code",
   "execution_count": 67,
   "metadata": {},
   "outputs": [
    {
     "data": {
      "image/png": "[encoded data removed]",
      "text/plain": [
       "<Figure size 432x288 with 1 Axes>"
      ]
     },
     "metadata": {},
     "output_type": "display_data"
    }
   ],
   "source": [
    "fig, ax = plt.subplots()\n",
    "\n",
    "ax.spines['top'].set_visible(False) # Top border removed\n",
    "\n",
    "ax.spines['right'].set_visible(False) # Right border removed\n",
    "\n",
    "ax.spines['bottom'].set_position('zero') # Sets the X-axis in the center\n",
    "\n",
    "\n",
    "ax.plot(sT,payoff_long_call,'--',label='Long Call',color='r')\n",
    "\n",
    "ax.plot(sT,payoff_long_put,'--',label='Long Put',color='g')\n",
    "\n",
    "\n",
    "ax.plot(sT,payoff_straddle,label='Straddle')\n",
    "\n",
    "plt.xlabel('Stock Price', ha='left')\n",
    "\n",
    "plt.ylabel('Profit and loss')\n",
    "\n",
    "plt.legend()\n",
    "\n",
    "plt.show()"
   ]
  },
  {
   "cell_type": "code",
   "execution_count": null,
   "metadata": {},
   "outputs": [],
   "source": []
  },
  {
   "cell_type": "markdown",
   "metadata": {},
   "source": [
    "That's it"
   ]
  },
  {
   "cell_type": "code",
   "execution_count": 28,
   "metadata": {},
   "outputs": [
    {
     "ename": "SyntaxError",
     "evalue": "invalid syntax (<ipython-input-28-87807a0127aa>, line 1)",
     "output_type": "error",
     "traceback": [
      "\u001b[1;36m  File \u001b[1;32m\"<ipython-input-28-87807a0127aa>\"\u001b[1;36m, line \u001b[1;32m1\u001b[0m\n\u001b[1;33m    1) DPS самый большой + наискорейший рост дивидендов\u001b[0m\n\u001b[1;37m     ^\u001b[0m\n\u001b[1;31mSyntaxError\u001b[0m\u001b[1;31m:\u001b[0m invalid syntax\n"
     ]
    }
   ],
   "source": [
    "1) DPS самый большой + наискорейший рост дивидендов\n",
    "2) date of payment\n",
    "3) price, close\n",
    "\n",
    "2019 close/2018 close - 1 + closet/closet-1 - 1 \n"
   ]
  },
  {
   "cell_type": "code",
   "execution_count": 29,
   "metadata": {},
   "outputs": [
    {
     "ename": "SyntaxError",
     "evalue": "invalid syntax (<ipython-input-29-90c49b1fc267>, line 1)",
     "output_type": "error",
     "traceback": [
      "\u001b[1;36m  File \u001b[1;32m\"<ipython-input-29-90c49b1fc267>\"\u001b[1;36m, line \u001b[1;32m1\u001b[0m\n\u001b[1;33m    * data of declaration\u001b[0m\n\u001b[1;37m            ^\u001b[0m\n\u001b[1;31mSyntaxError\u001b[0m\u001b[1;31m:\u001b[0m invalid syntax\n"
     ]
    }
   ],
   "source": [
    "* data of declaration \n",
    "еесли это есть, то нужно правильно формировать див. доходность\n",
    "date of declaration = closet-n\n",
    "data of payment = closet\n",
    "divident yield = closet/closet-n - 1"
   ]
  },
  {
   "cell_type": "code",
   "execution_count": null,
   "metadata": {},
   "outputs": [],
   "source": []
  },
  {
   "cell_type": "code",
   "execution_count": null,
   "metadata": {},
   "outputs": [],
   "source": []
  }
 ],
 "metadata": {
  "kernelspec": {
   "display_name": "Python 3",
   "language": "python",
   "name": "python3"
  },
  "language_info": {
   "codemirror_mode": {
    "name": "ipython",
    "version": 3
   },
   "file_extension": ".py",
   "mimetype": "text/x-python",
   "name": "python",
   "nbconvert_exporter": "python",
   "pygments_lexer": "ipython3",
   "version": "3.7.4"
  }
 },
 "nbformat": 4,
 "nbformat_minor": 2
}
