{
 "cells": [
  {
   "cell_type": "code",
   "execution_count": 1,
   "metadata": {},
   "outputs": [],
   "source": [
    "import warnings\n",
    "warnings.filterwarnings(\"ignore\")"
   ]
  },
  {
   "cell_type": "markdown",
   "metadata": {},
   "source": [
    "# Imports"
   ]
  },
  {
   "cell_type": "code",
   "execution_count": 2,
   "metadata": {},
   "outputs": [],
   "source": [
    "import numpy as np\n",
    "import pandas as pd\n",
    "from matplotlib import pyplot as plt"
   ]
  },
  {
   "cell_type": "markdown",
   "metadata": {},
   "source": [
    "# Скачиваем данные"
   ]
  },
  {
   "cell_type": "code",
   "execution_count": 3,
   "metadata": {},
   "outputs": [],
   "source": [
    "df_train = pd.read_csv('./X_train.csv')\n",
    "df_test = pd.read_csv('./X_test.csv')\n",
    "\n",
    "df_target = pd.read_csv('./y_train.csv')\n",
    "df_test_sample = pd.read_csv('./y_test_sample.csv')"
   ]
  },
  {
   "cell_type": "code",
   "execution_count": 4,
   "metadata": {
    "scrolled": false
   },
   "outputs": [
    {
     "data": {
      "text/html": [
       "<div>\n",
       "<style scoped>\n",
       "    .dataframe tbody tr th:only-of-type {\n",
       "        vertical-align: middle;\n",
       "    }\n",
       "\n",
       "    .dataframe tbody tr th {\n",
       "        vertical-align: top;\n",
       "    }\n",
       "\n",
       "    .dataframe thead th {\n",
       "        text-align: right;\n",
       "    }\n",
       "</style>\n",
       "<table border=\"1\" class=\"dataframe\">\n",
       "  <thead>\n",
       "    <tr style=\"text-align: right;\">\n",
       "      <th></th>\n",
       "      <th>credit_card_utilization</th>\n",
       "      <th>age</th>\n",
       "      <th>overdue_30_59_days</th>\n",
       "      <th>debt_to_income</th>\n",
       "      <th>monthly_income</th>\n",
       "      <th>credits_loans</th>\n",
       "      <th>overdue__more_than_90_days</th>\n",
       "      <th>mortgage_loans</th>\n",
       "      <th>overdue_60_89_days</th>\n",
       "      <th>family_members</th>\n",
       "    </tr>\n",
       "  </thead>\n",
       "  <tbody>\n",
       "    <tr>\n",
       "      <th>0</th>\n",
       "      <td>0.000000</td>\n",
       "      <td>56</td>\n",
       "      <td>0</td>\n",
       "      <td>0.504328</td>\n",
       "      <td>6823.894458</td>\n",
       "      <td>9</td>\n",
       "      <td>0</td>\n",
       "      <td>1</td>\n",
       "      <td>0</td>\n",
       "      <td>5.0</td>\n",
       "    </tr>\n",
       "    <tr>\n",
       "      <th>1</th>\n",
       "      <td>0.170659</td>\n",
       "      <td>45</td>\n",
       "      <td>1</td>\n",
       "      <td>2.405860</td>\n",
       "      <td>356.580765</td>\n",
       "      <td>5</td>\n",
       "      <td>0</td>\n",
       "      <td>0</td>\n",
       "      <td>0</td>\n",
       "      <td>0.0</td>\n",
       "    </tr>\n",
       "    <tr>\n",
       "      <th>2</th>\n",
       "      <td>0.342176</td>\n",
       "      <td>75</td>\n",
       "      <td>1</td>\n",
       "      <td>0.445066</td>\n",
       "      <td>20349.895825</td>\n",
       "      <td>9</td>\n",
       "      <td>0</td>\n",
       "      <td>3</td>\n",
       "      <td>0</td>\n",
       "      <td>0.0</td>\n",
       "    </tr>\n",
       "    <tr>\n",
       "      <th>3</th>\n",
       "      <td>0.046219</td>\n",
       "      <td>50</td>\n",
       "      <td>0</td>\n",
       "      <td>0.814508</td>\n",
       "      <td>2894.368968</td>\n",
       "      <td>12</td>\n",
       "      <td>0</td>\n",
       "      <td>1</td>\n",
       "      <td>0</td>\n",
       "      <td>3.0</td>\n",
       "    </tr>\n",
       "    <tr>\n",
       "      <th>4</th>\n",
       "      <td>0.679556</td>\n",
       "      <td>58</td>\n",
       "      <td>0</td>\n",
       "      <td>0.390311</td>\n",
       "      <td>24833.227614</td>\n",
       "      <td>15</td>\n",
       "      <td>0</td>\n",
       "      <td>4</td>\n",
       "      <td>0</td>\n",
       "      <td>2.0</td>\n",
       "    </tr>\n",
       "  </tbody>\n",
       "</table>\n",
       "</div>"
      ],
      "text/plain": [
       "   credit_card_utilization  age  overdue_30_59_days  debt_to_income  \\\n",
       "0                 0.000000   56                   0        0.504328   \n",
       "1                 0.170659   45                   1        2.405860   \n",
       "2                 0.342176   75                   1        0.445066   \n",
       "3                 0.046219   50                   0        0.814508   \n",
       "4                 0.679556   58                   0        0.390311   \n",
       "\n",
       "   monthly_income  credits_loans  overdue__more_than_90_days  mortgage_loans  \\\n",
       "0     6823.894458              9                           0               1   \n",
       "1      356.580765              5                           0               0   \n",
       "2    20349.895825              9                           0               3   \n",
       "3     2894.368968             12                           0               1   \n",
       "4    24833.227614             15                           0               4   \n",
       "\n",
       "   overdue_60_89_days  family_members  \n",
       "0                   0             5.0  \n",
       "1                   0             0.0  \n",
       "2                   0             0.0  \n",
       "3                   0             3.0  \n",
       "4                   0             2.0  "
      ]
     },
     "execution_count": 4,
     "metadata": {},
     "output_type": "execute_result"
    }
   ],
   "source": [
    "df_train.head()\n"
   ]
  },
  {
   "cell_type": "code",
   "execution_count": 5,
   "metadata": {
    "scrolled": true
   },
   "outputs": [
    {
     "data": {
      "text/html": [
       "<div>\n",
       "<style scoped>\n",
       "    .dataframe tbody tr th:only-of-type {\n",
       "        vertical-align: middle;\n",
       "    }\n",
       "\n",
       "    .dataframe tbody tr th {\n",
       "        vertical-align: top;\n",
       "    }\n",
       "\n",
       "    .dataframe thead th {\n",
       "        text-align: right;\n",
       "    }\n",
       "</style>\n",
       "<table border=\"1\" class=\"dataframe\">\n",
       "  <thead>\n",
       "    <tr style=\"text-align: right;\">\n",
       "      <th></th>\n",
       "      <th>index</th>\n",
       "      <th>credit_card_utilization</th>\n",
       "      <th>age</th>\n",
       "      <th>overdue_30_59_days</th>\n",
       "      <th>debt_to_income</th>\n",
       "      <th>monthly_income</th>\n",
       "      <th>credits_loans</th>\n",
       "      <th>overdue__more_than_90_days</th>\n",
       "      <th>mortgage_loans</th>\n",
       "      <th>overdue_60_89_days</th>\n",
       "      <th>family_members</th>\n",
       "    </tr>\n",
       "  </thead>\n",
       "  <tbody>\n",
       "    <tr>\n",
       "      <th>0</th>\n",
       "      <td>143522</td>\n",
       "      <td>0.021069</td>\n",
       "      <td>60</td>\n",
       "      <td>0</td>\n",
       "      <td>0.184907</td>\n",
       "      <td>14403.715440</td>\n",
       "      <td>9</td>\n",
       "      <td>0</td>\n",
       "      <td>1</td>\n",
       "      <td>0</td>\n",
       "      <td>0.0</td>\n",
       "    </tr>\n",
       "    <tr>\n",
       "      <th>1</th>\n",
       "      <td>116747</td>\n",
       "      <td>0.009985</td>\n",
       "      <td>82</td>\n",
       "      <td>0</td>\n",
       "      <td>0.446264</td>\n",
       "      <td>6768.581963</td>\n",
       "      <td>6</td>\n",
       "      <td>0</td>\n",
       "      <td>3</td>\n",
       "      <td>0</td>\n",
       "      <td>0.0</td>\n",
       "    </tr>\n",
       "    <tr>\n",
       "      <th>2</th>\n",
       "      <td>66075</td>\n",
       "      <td>0.535187</td>\n",
       "      <td>43</td>\n",
       "      <td>1</td>\n",
       "      <td>0.406317</td>\n",
       "      <td>4686.080429</td>\n",
       "      <td>14</td>\n",
       "      <td>0</td>\n",
       "      <td>2</td>\n",
       "      <td>0</td>\n",
       "      <td>3.0</td>\n",
       "    </tr>\n",
       "    <tr>\n",
       "      <th>3</th>\n",
       "      <td>133292</td>\n",
       "      <td>0.051264</td>\n",
       "      <td>31</td>\n",
       "      <td>0</td>\n",
       "      <td>0.311893</td>\n",
       "      <td>3867.175176</td>\n",
       "      <td>8</td>\n",
       "      <td>0</td>\n",
       "      <td>0</td>\n",
       "      <td>0</td>\n",
       "      <td>1.0</td>\n",
       "    </tr>\n",
       "    <tr>\n",
       "      <th>4</th>\n",
       "      <td>83134</td>\n",
       "      <td>0.069525</td>\n",
       "      <td>45</td>\n",
       "      <td>0</td>\n",
       "      <td>0.294956</td>\n",
       "      <td>9869.273012</td>\n",
       "      <td>6</td>\n",
       "      <td>0</td>\n",
       "      <td>1</td>\n",
       "      <td>0</td>\n",
       "      <td>2.0</td>\n",
       "    </tr>\n",
       "  </tbody>\n",
       "</table>\n",
       "</div>"
      ],
      "text/plain": [
       "    index  credit_card_utilization  age  overdue_30_59_days  debt_to_income  \\\n",
       "0  143522                 0.021069   60                   0        0.184907   \n",
       "1  116747                 0.009985   82                   0        0.446264   \n",
       "2   66075                 0.535187   43                   1        0.406317   \n",
       "3  133292                 0.051264   31                   0        0.311893   \n",
       "4   83134                 0.069525   45                   0        0.294956   \n",
       "\n",
       "   monthly_income  credits_loans  overdue__more_than_90_days  mortgage_loans  \\\n",
       "0    14403.715440              9                           0               1   \n",
       "1     6768.581963              6                           0               3   \n",
       "2     4686.080429             14                           0               2   \n",
       "3     3867.175176              8                           0               0   \n",
       "4     9869.273012              6                           0               1   \n",
       "\n",
       "   overdue_60_89_days  family_members  \n",
       "0                   0             0.0  \n",
       "1                   0             0.0  \n",
       "2                   0             3.0  \n",
       "3                   0             1.0  \n",
       "4                   0             2.0  "
      ]
     },
     "execution_count": 5,
     "metadata": {},
     "output_type": "execute_result"
    }
   ],
   "source": [
    "df_test.head()\n",
    "\n"
   ]
  },
  {
   "cell_type": "code",
   "execution_count": 6,
   "metadata": {},
   "outputs": [],
   "source": [
    "df_full = pd.concat([df_train, df_target], axis=1, ignore_index=False)"
   ]
  },
  {
   "cell_type": "code",
   "execution_count": 7,
   "metadata": {},
   "outputs": [
    {
     "data": {
      "text/html": [
       "<div>\n",
       "<style scoped>\n",
       "    .dataframe tbody tr th:only-of-type {\n",
       "        vertical-align: middle;\n",
       "    }\n",
       "\n",
       "    .dataframe tbody tr th {\n",
       "        vertical-align: top;\n",
       "    }\n",
       "\n",
       "    .dataframe thead th {\n",
       "        text-align: right;\n",
       "    }\n",
       "</style>\n",
       "<table border=\"1\" class=\"dataframe\">\n",
       "  <thead>\n",
       "    <tr style=\"text-align: right;\">\n",
       "      <th></th>\n",
       "      <th>credit_card_utilization</th>\n",
       "      <th>age</th>\n",
       "      <th>overdue_30_59_days</th>\n",
       "      <th>debt_to_income</th>\n",
       "      <th>monthly_income</th>\n",
       "      <th>credits_loans</th>\n",
       "      <th>overdue__more_than_90_days</th>\n",
       "      <th>mortgage_loans</th>\n",
       "      <th>overdue_60_89_days</th>\n",
       "      <th>family_members</th>\n",
       "      <th>target</th>\n",
       "    </tr>\n",
       "  </thead>\n",
       "  <tbody>\n",
       "    <tr>\n",
       "      <th>0</th>\n",
       "      <td>0.000000</td>\n",
       "      <td>56</td>\n",
       "      <td>0</td>\n",
       "      <td>0.504328</td>\n",
       "      <td>6823.894458</td>\n",
       "      <td>9</td>\n",
       "      <td>0</td>\n",
       "      <td>1</td>\n",
       "      <td>0</td>\n",
       "      <td>5.0</td>\n",
       "      <td>0</td>\n",
       "    </tr>\n",
       "    <tr>\n",
       "      <th>1</th>\n",
       "      <td>0.170659</td>\n",
       "      <td>45</td>\n",
       "      <td>1</td>\n",
       "      <td>2.405860</td>\n",
       "      <td>356.580765</td>\n",
       "      <td>5</td>\n",
       "      <td>0</td>\n",
       "      <td>0</td>\n",
       "      <td>0</td>\n",
       "      <td>0.0</td>\n",
       "      <td>0</td>\n",
       "    </tr>\n",
       "    <tr>\n",
       "      <th>2</th>\n",
       "      <td>0.342176</td>\n",
       "      <td>75</td>\n",
       "      <td>1</td>\n",
       "      <td>0.445066</td>\n",
       "      <td>20349.895825</td>\n",
       "      <td>9</td>\n",
       "      <td>0</td>\n",
       "      <td>3</td>\n",
       "      <td>0</td>\n",
       "      <td>0.0</td>\n",
       "      <td>0</td>\n",
       "    </tr>\n",
       "    <tr>\n",
       "      <th>3</th>\n",
       "      <td>0.046219</td>\n",
       "      <td>50</td>\n",
       "      <td>0</td>\n",
       "      <td>0.814508</td>\n",
       "      <td>2894.368968</td>\n",
       "      <td>12</td>\n",
       "      <td>0</td>\n",
       "      <td>1</td>\n",
       "      <td>0</td>\n",
       "      <td>3.0</td>\n",
       "      <td>0</td>\n",
       "    </tr>\n",
       "    <tr>\n",
       "      <th>4</th>\n",
       "      <td>0.679556</td>\n",
       "      <td>58</td>\n",
       "      <td>0</td>\n",
       "      <td>0.390311</td>\n",
       "      <td>24833.227614</td>\n",
       "      <td>15</td>\n",
       "      <td>0</td>\n",
       "      <td>4</td>\n",
       "      <td>0</td>\n",
       "      <td>2.0</td>\n",
       "      <td>0</td>\n",
       "    </tr>\n",
       "  </tbody>\n",
       "</table>\n",
       "</div>"
      ],
      "text/plain": [
       "   credit_card_utilization  age  overdue_30_59_days  debt_to_income  \\\n",
       "0                 0.000000   56                   0        0.504328   \n",
       "1                 0.170659   45                   1        2.405860   \n",
       "2                 0.342176   75                   1        0.445066   \n",
       "3                 0.046219   50                   0        0.814508   \n",
       "4                 0.679556   58                   0        0.390311   \n",
       "\n",
       "   monthly_income  credits_loans  overdue__more_than_90_days  mortgage_loans  \\\n",
       "0     6823.894458              9                           0               1   \n",
       "1      356.580765              5                           0               0   \n",
       "2    20349.895825              9                           0               3   \n",
       "3     2894.368968             12                           0               1   \n",
       "4    24833.227614             15                           0               4   \n",
       "\n",
       "   overdue_60_89_days  family_members  target  \n",
       "0                   0             5.0       0  \n",
       "1                   0             0.0       0  \n",
       "2                   0             0.0       0  \n",
       "3                   0             3.0       0  \n",
       "4                   0             2.0       0  "
      ]
     },
     "execution_count": 7,
     "metadata": {},
     "output_type": "execute_result"
    }
   ],
   "source": [
    "df_full.head()"
   ]
  },
  {
   "cell_type": "markdown",
   "metadata": {},
   "source": [
    "# Краткий анализ имеющихся данных"
   ]
  },
  {
   "cell_type": "markdown",
   "metadata": {},
   "source": [
    "###### Баланс классов"
   ]
  },
  {
   "cell_type": "code",
   "execution_count": 8,
   "metadata": {},
   "outputs": [
    {
     "data": {
      "text/plain": [
       "0    0.933108\n",
       "1    0.066892\n",
       "Name: target, dtype: float64"
      ]
     },
     "execution_count": 8,
     "metadata": {},
     "output_type": "execute_result"
    }
   ],
   "source": [
    "df_full['target'].value_counts(normalize=True)"
   ]
  },
  {
   "cell_type": "markdown",
   "metadata": {},
   "source": [
    "###### Проверка пропусков"
   ]
  },
  {
   "cell_type": "code",
   "execution_count": 9,
   "metadata": {},
   "outputs": [
    {
     "data": {
      "text/plain": [
       "credit_card_utilization           0\n",
       "age                               0\n",
       "overdue_30_59_days                0\n",
       "debt_to_income                    0\n",
       "monthly_income                20993\n",
       "credits_loans                     0\n",
       "overdue__more_than_90_days        0\n",
       "mortgage_loans                    0\n",
       "overdue_60_89_days                0\n",
       "family_members                 2805\n",
       "target                            0\n",
       "dtype: int64"
      ]
     },
     "execution_count": 9,
     "metadata": {},
     "output_type": "execute_result"
    }
   ],
   "source": [
    "pd.isnull(df_full).sum()"
   ]
  },
  {
   "cell_type": "markdown",
   "metadata": {},
   "source": [
    "###### Проверка типов данных"
   ]
  },
  {
   "cell_type": "code",
   "execution_count": 10,
   "metadata": {},
   "outputs": [
    {
     "data": {
      "text/plain": [
       "credit_card_utilization       float64\n",
       "age                             int64\n",
       "overdue_30_59_days              int64\n",
       "debt_to_income                float64\n",
       "monthly_income                float64\n",
       "credits_loans                   int64\n",
       "overdue__more_than_90_days      int64\n",
       "mortgage_loans                  int64\n",
       "overdue_60_89_days              int64\n",
       "family_members                float64\n",
       "target                          int64\n",
       "dtype: object"
      ]
     },
     "execution_count": 10,
     "metadata": {},
     "output_type": "execute_result"
    }
   ],
   "source": [
    "df_full.dtypes"
   ]
  },
  {
   "cell_type": "markdown",
   "metadata": {},
   "source": [
    "###### Проверка количества уникальных"
   ]
  },
  {
   "cell_type": "code",
   "execution_count": 11,
   "metadata": {},
   "outputs": [
    {
     "data": {
      "text/plain": [
       "credit_card_utilization        97475\n",
       "age                               86\n",
       "overdue_30_59_days                15\n",
       "debt_to_income                102217\n",
       "monthly_income                 82956\n",
       "credits_loans                     59\n",
       "overdue__more_than_90_days        16\n",
       "mortgage_loans                    27\n",
       "overdue_60_89_days                13\n",
       "family_members                    13\n",
       "target                             2\n",
       "dtype: int64"
      ]
     },
     "execution_count": 11,
     "metadata": {},
     "output_type": "execute_result"
    }
   ],
   "source": [
    "df_full.nunique()"
   ]
  },
  {
   "cell_type": "markdown",
   "metadata": {},
   "source": [
    "###### Просмотр некоторых зависимостей"
   ]
  },
  {
   "cell_type": "code",
   "execution_count": 12,
   "metadata": {},
   "outputs": [
    {
     "data": {
      "text/plain": [
       "0.0     0.594737\n",
       "1.0     0.181078\n",
       "2.0     0.133015\n",
       "3.0     0.064465\n",
       "4.0     0.019765\n",
       "5.0     0.005259\n",
       "6.0     0.001085\n",
       "7.0     0.000323\n",
       "8.0     0.000186\n",
       "10.0    0.000049\n",
       "9.0     0.000020\n",
       "13.0    0.000010\n",
       "20.0    0.000010\n",
       "Name: family_members, dtype: float64"
      ]
     },
     "execution_count": 12,
     "metadata": {},
     "output_type": "execute_result"
    }
   ],
   "source": [
    "df_full['family_members'].value_counts(normalize=True)"
   ]
  },
  {
   "cell_type": "markdown",
   "metadata": {},
   "source": [
    "###### Выбор категориальных и количественных признаков"
   ]
  },
  {
   "cell_type": "code",
   "execution_count": 13,
   "metadata": {},
   "outputs": [],
   "source": [
    "num = ['age', 'monthly_income', 'credit_card_utilization',\n",
    "      'debt_to_income', 'credits_loans', 'mortgage_loans', \n",
    "      'family_members','overdue_30_59_days',\n",
    "       'overdue_60_89_days',\n",
    "      'overdue__more_than_90_days']\n",
    "\n",
    "target = 'target'"
   ]
  },
  {
   "cell_type": "markdown",
   "metadata": {},
   "source": [
    "# Предобработка данных"
   ]
  },
  {
   "cell_type": "markdown",
   "metadata": {},
   "source": [
    "#### Drop columns with NaN"
   ]
  },
  {
   "cell_type": "code",
   "execution_count": 34,
   "metadata": {},
   "outputs": [],
   "source": [
    "columns_to_drop = ['monthly_income', 'family_members']\n",
    "df_full.drop(columns=columns_to_drop, inplace=True)"
   ]
  },
  {
   "cell_type": "code",
   "execution_count": 35,
   "metadata": {},
   "outputs": [
    {
     "data": {
      "text/html": [
       "<div>\n",
       "<style scoped>\n",
       "    .dataframe tbody tr th:only-of-type {\n",
       "        vertical-align: middle;\n",
       "    }\n",
       "\n",
       "    .dataframe tbody tr th {\n",
       "        vertical-align: top;\n",
       "    }\n",
       "\n",
       "    .dataframe thead th {\n",
       "        text-align: right;\n",
       "    }\n",
       "</style>\n",
       "<table border=\"1\" class=\"dataframe\">\n",
       "  <thead>\n",
       "    <tr style=\"text-align: right;\">\n",
       "      <th></th>\n",
       "      <th>credit_card_utilization</th>\n",
       "      <th>age</th>\n",
       "      <th>overdue_30_59_days</th>\n",
       "      <th>debt_to_income</th>\n",
       "      <th>credits_loans</th>\n",
       "      <th>overdue__more_than_90_days</th>\n",
       "      <th>mortgage_loans</th>\n",
       "      <th>overdue_60_89_days</th>\n",
       "      <th>target</th>\n",
       "    </tr>\n",
       "  </thead>\n",
       "  <tbody>\n",
       "    <tr>\n",
       "      <th>0</th>\n",
       "      <td>0.000000</td>\n",
       "      <td>56</td>\n",
       "      <td>0</td>\n",
       "      <td>0.504328</td>\n",
       "      <td>9</td>\n",
       "      <td>0</td>\n",
       "      <td>1</td>\n",
       "      <td>0</td>\n",
       "      <td>0</td>\n",
       "    </tr>\n",
       "    <tr>\n",
       "      <th>1</th>\n",
       "      <td>0.170659</td>\n",
       "      <td>45</td>\n",
       "      <td>1</td>\n",
       "      <td>2.405860</td>\n",
       "      <td>5</td>\n",
       "      <td>0</td>\n",
       "      <td>0</td>\n",
       "      <td>0</td>\n",
       "      <td>0</td>\n",
       "    </tr>\n",
       "    <tr>\n",
       "      <th>2</th>\n",
       "      <td>0.342176</td>\n",
       "      <td>75</td>\n",
       "      <td>1</td>\n",
       "      <td>0.445066</td>\n",
       "      <td>9</td>\n",
       "      <td>0</td>\n",
       "      <td>3</td>\n",
       "      <td>0</td>\n",
       "      <td>0</td>\n",
       "    </tr>\n",
       "    <tr>\n",
       "      <th>3</th>\n",
       "      <td>0.046219</td>\n",
       "      <td>50</td>\n",
       "      <td>0</td>\n",
       "      <td>0.814508</td>\n",
       "      <td>12</td>\n",
       "      <td>0</td>\n",
       "      <td>1</td>\n",
       "      <td>0</td>\n",
       "      <td>0</td>\n",
       "    </tr>\n",
       "    <tr>\n",
       "      <th>4</th>\n",
       "      <td>0.679556</td>\n",
       "      <td>58</td>\n",
       "      <td>0</td>\n",
       "      <td>0.390311</td>\n",
       "      <td>15</td>\n",
       "      <td>0</td>\n",
       "      <td>4</td>\n",
       "      <td>0</td>\n",
       "      <td>0</td>\n",
       "    </tr>\n",
       "    <tr>\n",
       "      <th>5</th>\n",
       "      <td>0.874546</td>\n",
       "      <td>32</td>\n",
       "      <td>0</td>\n",
       "      <td>0.000000</td>\n",
       "      <td>0</td>\n",
       "      <td>0</td>\n",
       "      <td>0</td>\n",
       "      <td>0</td>\n",
       "      <td>0</td>\n",
       "    </tr>\n",
       "    <tr>\n",
       "      <th>6</th>\n",
       "      <td>0.525989</td>\n",
       "      <td>69</td>\n",
       "      <td>2</td>\n",
       "      <td>0.170485</td>\n",
       "      <td>8</td>\n",
       "      <td>0</td>\n",
       "      <td>1</td>\n",
       "      <td>1</td>\n",
       "      <td>0</td>\n",
       "    </tr>\n",
       "    <tr>\n",
       "      <th>7</th>\n",
       "      <td>0.013340</td>\n",
       "      <td>90</td>\n",
       "      <td>0</td>\n",
       "      <td>0.241279</td>\n",
       "      <td>4</td>\n",
       "      <td>0</td>\n",
       "      <td>1</td>\n",
       "      <td>0</td>\n",
       "      <td>0</td>\n",
       "    </tr>\n",
       "    <tr>\n",
       "      <th>8</th>\n",
       "      <td>0.115604</td>\n",
       "      <td>41</td>\n",
       "      <td>0</td>\n",
       "      <td>0.449502</td>\n",
       "      <td>19</td>\n",
       "      <td>0</td>\n",
       "      <td>4</td>\n",
       "      <td>0</td>\n",
       "      <td>0</td>\n",
       "    </tr>\n",
       "    <tr>\n",
       "      <th>9</th>\n",
       "      <td>0.002793</td>\n",
       "      <td>81</td>\n",
       "      <td>1</td>\n",
       "      <td>0.308468</td>\n",
       "      <td>21</td>\n",
       "      <td>0</td>\n",
       "      <td>1</td>\n",
       "      <td>0</td>\n",
       "      <td>0</td>\n",
       "    </tr>\n",
       "    <tr>\n",
       "      <th>10</th>\n",
       "      <td>0.007025</td>\n",
       "      <td>80</td>\n",
       "      <td>0</td>\n",
       "      <td>0.462520</td>\n",
       "      <td>8</td>\n",
       "      <td>0</td>\n",
       "      <td>2</td>\n",
       "      <td>0</td>\n",
       "      <td>0</td>\n",
       "    </tr>\n",
       "    <tr>\n",
       "      <th>11</th>\n",
       "      <td>0.035220</td>\n",
       "      <td>76</td>\n",
       "      <td>0</td>\n",
       "      <td>0.016681</td>\n",
       "      <td>6</td>\n",
       "      <td>0</td>\n",
       "      <td>0</td>\n",
       "      <td>0</td>\n",
       "      <td>0</td>\n",
       "    </tr>\n",
       "    <tr>\n",
       "      <th>12</th>\n",
       "      <td>0.152552</td>\n",
       "      <td>38</td>\n",
       "      <td>0</td>\n",
       "      <td>0.791688</td>\n",
       "      <td>9</td>\n",
       "      <td>0</td>\n",
       "      <td>0</td>\n",
       "      <td>0</td>\n",
       "      <td>0</td>\n",
       "    </tr>\n",
       "    <tr>\n",
       "      <th>13</th>\n",
       "      <td>0.030659</td>\n",
       "      <td>70</td>\n",
       "      <td>0</td>\n",
       "      <td>0.002657</td>\n",
       "      <td>6</td>\n",
       "      <td>0</td>\n",
       "      <td>0</td>\n",
       "      <td>0</td>\n",
       "      <td>0</td>\n",
       "    </tr>\n",
       "    <tr>\n",
       "      <th>14</th>\n",
       "      <td>0.130225</td>\n",
       "      <td>49</td>\n",
       "      <td>0</td>\n",
       "      <td>0.288093</td>\n",
       "      <td>9</td>\n",
       "      <td>0</td>\n",
       "      <td>1</td>\n",
       "      <td>0</td>\n",
       "      <td>0</td>\n",
       "    </tr>\n",
       "    <tr>\n",
       "      <th>15</th>\n",
       "      <td>0.000000</td>\n",
       "      <td>54</td>\n",
       "      <td>0</td>\n",
       "      <td>0.000000</td>\n",
       "      <td>5</td>\n",
       "      <td>0</td>\n",
       "      <td>0</td>\n",
       "      <td>0</td>\n",
       "      <td>0</td>\n",
       "    </tr>\n",
       "    <tr>\n",
       "      <th>16</th>\n",
       "      <td>0.329667</td>\n",
       "      <td>40</td>\n",
       "      <td>0</td>\n",
       "      <td>0.121353</td>\n",
       "      <td>7</td>\n",
       "      <td>0</td>\n",
       "      <td>0</td>\n",
       "      <td>0</td>\n",
       "      <td>0</td>\n",
       "    </tr>\n",
       "    <tr>\n",
       "      <th>17</th>\n",
       "      <td>0.700914</td>\n",
       "      <td>46</td>\n",
       "      <td>0</td>\n",
       "      <td>0.634394</td>\n",
       "      <td>4</td>\n",
       "      <td>0</td>\n",
       "      <td>1</td>\n",
       "      <td>0</td>\n",
       "      <td>0</td>\n",
       "    </tr>\n",
       "    <tr>\n",
       "      <th>18</th>\n",
       "      <td>0.013792</td>\n",
       "      <td>77</td>\n",
       "      <td>0</td>\n",
       "      <td>0.009940</td>\n",
       "      <td>13</td>\n",
       "      <td>0</td>\n",
       "      <td>0</td>\n",
       "      <td>0</td>\n",
       "      <td>0</td>\n",
       "    </tr>\n",
       "    <tr>\n",
       "      <th>19</th>\n",
       "      <td>0.019991</td>\n",
       "      <td>88</td>\n",
       "      <td>0</td>\n",
       "      <td>0.014871</td>\n",
       "      <td>9</td>\n",
       "      <td>0</td>\n",
       "      <td>0</td>\n",
       "      <td>0</td>\n",
       "      <td>0</td>\n",
       "    </tr>\n",
       "    <tr>\n",
       "      <th>20</th>\n",
       "      <td>1.156862</td>\n",
       "      <td>69</td>\n",
       "      <td>0</td>\n",
       "      <td>34.666092</td>\n",
       "      <td>0</td>\n",
       "      <td>0</td>\n",
       "      <td>0</td>\n",
       "      <td>0</td>\n",
       "      <td>0</td>\n",
       "    </tr>\n",
       "    <tr>\n",
       "      <th>21</th>\n",
       "      <td>0.000000</td>\n",
       "      <td>58</td>\n",
       "      <td>0</td>\n",
       "      <td>0.118510</td>\n",
       "      <td>5</td>\n",
       "      <td>0</td>\n",
       "      <td>1</td>\n",
       "      <td>0</td>\n",
       "      <td>0</td>\n",
       "    </tr>\n",
       "    <tr>\n",
       "      <th>22</th>\n",
       "      <td>0.368058</td>\n",
       "      <td>40</td>\n",
       "      <td>0</td>\n",
       "      <td>0.519532</td>\n",
       "      <td>8</td>\n",
       "      <td>0</td>\n",
       "      <td>2</td>\n",
       "      <td>0</td>\n",
       "      <td>0</td>\n",
       "    </tr>\n",
       "    <tr>\n",
       "      <th>23</th>\n",
       "      <td>0.176205</td>\n",
       "      <td>93</td>\n",
       "      <td>0</td>\n",
       "      <td>297.962783</td>\n",
       "      <td>3</td>\n",
       "      <td>0</td>\n",
       "      <td>0</td>\n",
       "      <td>0</td>\n",
       "      <td>0</td>\n",
       "    </tr>\n",
       "    <tr>\n",
       "      <th>24</th>\n",
       "      <td>0.014566</td>\n",
       "      <td>76</td>\n",
       "      <td>1</td>\n",
       "      <td>0.234352</td>\n",
       "      <td>20</td>\n",
       "      <td>0</td>\n",
       "      <td>0</td>\n",
       "      <td>0</td>\n",
       "      <td>0</td>\n",
       "    </tr>\n",
       "    <tr>\n",
       "      <th>25</th>\n",
       "      <td>0.023357</td>\n",
       "      <td>46</td>\n",
       "      <td>0</td>\n",
       "      <td>0.323160</td>\n",
       "      <td>4</td>\n",
       "      <td>0</td>\n",
       "      <td>1</td>\n",
       "      <td>0</td>\n",
       "      <td>0</td>\n",
       "    </tr>\n",
       "    <tr>\n",
       "      <th>26</th>\n",
       "      <td>0.002558</td>\n",
       "      <td>80</td>\n",
       "      <td>0</td>\n",
       "      <td>0.004157</td>\n",
       "      <td>7</td>\n",
       "      <td>0</td>\n",
       "      <td>0</td>\n",
       "      <td>0</td>\n",
       "      <td>0</td>\n",
       "    </tr>\n",
       "    <tr>\n",
       "      <th>27</th>\n",
       "      <td>0.197839</td>\n",
       "      <td>60</td>\n",
       "      <td>0</td>\n",
       "      <td>0.154631</td>\n",
       "      <td>5</td>\n",
       "      <td>0</td>\n",
       "      <td>0</td>\n",
       "      <td>0</td>\n",
       "      <td>0</td>\n",
       "    </tr>\n",
       "    <tr>\n",
       "      <th>28</th>\n",
       "      <td>0.169956</td>\n",
       "      <td>54</td>\n",
       "      <td>0</td>\n",
       "      <td>1.112453</td>\n",
       "      <td>17</td>\n",
       "      <td>0</td>\n",
       "      <td>5</td>\n",
       "      <td>0</td>\n",
       "      <td>0</td>\n",
       "    </tr>\n",
       "    <tr>\n",
       "      <th>29</th>\n",
       "      <td>0.013231</td>\n",
       "      <td>74</td>\n",
       "      <td>0</td>\n",
       "      <td>0.051366</td>\n",
       "      <td>19</td>\n",
       "      <td>0</td>\n",
       "      <td>0</td>\n",
       "      <td>0</td>\n",
       "      <td>0</td>\n",
       "    </tr>\n",
       "    <tr>\n",
       "      <th>...</th>\n",
       "      <td>...</td>\n",
       "      <td>...</td>\n",
       "      <td>...</td>\n",
       "      <td>...</td>\n",
       "      <td>...</td>\n",
       "      <td>...</td>\n",
       "      <td>...</td>\n",
       "      <td>...</td>\n",
       "      <td>...</td>\n",
       "    </tr>\n",
       "    <tr>\n",
       "      <th>105079</th>\n",
       "      <td>0.125532</td>\n",
       "      <td>36</td>\n",
       "      <td>0</td>\n",
       "      <td>3.482070</td>\n",
       "      <td>9</td>\n",
       "      <td>0</td>\n",
       "      <td>2</td>\n",
       "      <td>0</td>\n",
       "      <td>0</td>\n",
       "    </tr>\n",
       "    <tr>\n",
       "      <th>105080</th>\n",
       "      <td>0.771081</td>\n",
       "      <td>54</td>\n",
       "      <td>3</td>\n",
       "      <td>0.478352</td>\n",
       "      <td>9</td>\n",
       "      <td>1</td>\n",
       "      <td>1</td>\n",
       "      <td>2</td>\n",
       "      <td>1</td>\n",
       "    </tr>\n",
       "    <tr>\n",
       "      <th>105081</th>\n",
       "      <td>0.017460</td>\n",
       "      <td>39</td>\n",
       "      <td>0</td>\n",
       "      <td>0.279714</td>\n",
       "      <td>12</td>\n",
       "      <td>0</td>\n",
       "      <td>1</td>\n",
       "      <td>0</td>\n",
       "      <td>0</td>\n",
       "    </tr>\n",
       "    <tr>\n",
       "      <th>105082</th>\n",
       "      <td>0.795569</td>\n",
       "      <td>62</td>\n",
       "      <td>0</td>\n",
       "      <td>0.973926</td>\n",
       "      <td>14</td>\n",
       "      <td>0</td>\n",
       "      <td>1</td>\n",
       "      <td>0</td>\n",
       "      <td>0</td>\n",
       "    </tr>\n",
       "    <tr>\n",
       "      <th>105083</th>\n",
       "      <td>0.020971</td>\n",
       "      <td>59</td>\n",
       "      <td>0</td>\n",
       "      <td>0.145536</td>\n",
       "      <td>11</td>\n",
       "      <td>0</td>\n",
       "      <td>0</td>\n",
       "      <td>0</td>\n",
       "      <td>0</td>\n",
       "    </tr>\n",
       "    <tr>\n",
       "      <th>105084</th>\n",
       "      <td>0.004643</td>\n",
       "      <td>34</td>\n",
       "      <td>0</td>\n",
       "      <td>0.035101</td>\n",
       "      <td>9</td>\n",
       "      <td>0</td>\n",
       "      <td>0</td>\n",
       "      <td>0</td>\n",
       "      <td>0</td>\n",
       "    </tr>\n",
       "    <tr>\n",
       "      <th>105085</th>\n",
       "      <td>1.084618</td>\n",
       "      <td>41</td>\n",
       "      <td>3</td>\n",
       "      <td>0.506882</td>\n",
       "      <td>8</td>\n",
       "      <td>1</td>\n",
       "      <td>2</td>\n",
       "      <td>3</td>\n",
       "      <td>1</td>\n",
       "    </tr>\n",
       "    <tr>\n",
       "      <th>105086</th>\n",
       "      <td>0.273988</td>\n",
       "      <td>78</td>\n",
       "      <td>1</td>\n",
       "      <td>1.362684</td>\n",
       "      <td>13</td>\n",
       "      <td>0</td>\n",
       "      <td>2</td>\n",
       "      <td>0</td>\n",
       "      <td>0</td>\n",
       "    </tr>\n",
       "    <tr>\n",
       "      <th>105087</th>\n",
       "      <td>0.463775</td>\n",
       "      <td>25</td>\n",
       "      <td>1</td>\n",
       "      <td>0.113164</td>\n",
       "      <td>6</td>\n",
       "      <td>0</td>\n",
       "      <td>0</td>\n",
       "      <td>0</td>\n",
       "      <td>0</td>\n",
       "    </tr>\n",
       "    <tr>\n",
       "      <th>105088</th>\n",
       "      <td>0.321033</td>\n",
       "      <td>71</td>\n",
       "      <td>1</td>\n",
       "      <td>0.445762</td>\n",
       "      <td>17</td>\n",
       "      <td>0</td>\n",
       "      <td>3</td>\n",
       "      <td>0</td>\n",
       "      <td>0</td>\n",
       "    </tr>\n",
       "    <tr>\n",
       "      <th>105089</th>\n",
       "      <td>0.158306</td>\n",
       "      <td>65</td>\n",
       "      <td>0</td>\n",
       "      <td>0.646000</td>\n",
       "      <td>14</td>\n",
       "      <td>0</td>\n",
       "      <td>0</td>\n",
       "      <td>0</td>\n",
       "      <td>0</td>\n",
       "    </tr>\n",
       "    <tr>\n",
       "      <th>105090</th>\n",
       "      <td>0.315519</td>\n",
       "      <td>41</td>\n",
       "      <td>0</td>\n",
       "      <td>0.512791</td>\n",
       "      <td>14</td>\n",
       "      <td>0</td>\n",
       "      <td>1</td>\n",
       "      <td>0</td>\n",
       "      <td>0</td>\n",
       "    </tr>\n",
       "    <tr>\n",
       "      <th>105091</th>\n",
       "      <td>0.293973</td>\n",
       "      <td>38</td>\n",
       "      <td>0</td>\n",
       "      <td>3082.137895</td>\n",
       "      <td>8</td>\n",
       "      <td>0</td>\n",
       "      <td>1</td>\n",
       "      <td>0</td>\n",
       "      <td>0</td>\n",
       "    </tr>\n",
       "    <tr>\n",
       "      <th>105092</th>\n",
       "      <td>0.013233</td>\n",
       "      <td>57</td>\n",
       "      <td>0</td>\n",
       "      <td>0.402988</td>\n",
       "      <td>5</td>\n",
       "      <td>0</td>\n",
       "      <td>2</td>\n",
       "      <td>0</td>\n",
       "      <td>0</td>\n",
       "    </tr>\n",
       "    <tr>\n",
       "      <th>105093</th>\n",
       "      <td>0.682914</td>\n",
       "      <td>67</td>\n",
       "      <td>0</td>\n",
       "      <td>0.468343</td>\n",
       "      <td>12</td>\n",
       "      <td>0</td>\n",
       "      <td>1</td>\n",
       "      <td>0</td>\n",
       "      <td>0</td>\n",
       "    </tr>\n",
       "    <tr>\n",
       "      <th>105094</th>\n",
       "      <td>0.993887</td>\n",
       "      <td>63</td>\n",
       "      <td>0</td>\n",
       "      <td>0.246868</td>\n",
       "      <td>4</td>\n",
       "      <td>0</td>\n",
       "      <td>0</td>\n",
       "      <td>0</td>\n",
       "      <td>0</td>\n",
       "    </tr>\n",
       "    <tr>\n",
       "      <th>105095</th>\n",
       "      <td>0.819842</td>\n",
       "      <td>30</td>\n",
       "      <td>0</td>\n",
       "      <td>0.468866</td>\n",
       "      <td>15</td>\n",
       "      <td>0</td>\n",
       "      <td>0</td>\n",
       "      <td>0</td>\n",
       "      <td>0</td>\n",
       "    </tr>\n",
       "    <tr>\n",
       "      <th>105096</th>\n",
       "      <td>0.524379</td>\n",
       "      <td>31</td>\n",
       "      <td>0</td>\n",
       "      <td>2.233637</td>\n",
       "      <td>6</td>\n",
       "      <td>0</td>\n",
       "      <td>1</td>\n",
       "      <td>0</td>\n",
       "      <td>0</td>\n",
       "    </tr>\n",
       "    <tr>\n",
       "      <th>105097</th>\n",
       "      <td>0.775696</td>\n",
       "      <td>34</td>\n",
       "      <td>0</td>\n",
       "      <td>0.597164</td>\n",
       "      <td>7</td>\n",
       "      <td>0</td>\n",
       "      <td>2</td>\n",
       "      <td>0</td>\n",
       "      <td>0</td>\n",
       "    </tr>\n",
       "    <tr>\n",
       "      <th>105098</th>\n",
       "      <td>1.001111</td>\n",
       "      <td>35</td>\n",
       "      <td>2</td>\n",
       "      <td>0.208052</td>\n",
       "      <td>11</td>\n",
       "      <td>0</td>\n",
       "      <td>0</td>\n",
       "      <td>0</td>\n",
       "      <td>0</td>\n",
       "    </tr>\n",
       "    <tr>\n",
       "      <th>105099</th>\n",
       "      <td>0.841857</td>\n",
       "      <td>53</td>\n",
       "      <td>0</td>\n",
       "      <td>0.103334</td>\n",
       "      <td>6</td>\n",
       "      <td>0</td>\n",
       "      <td>0</td>\n",
       "      <td>0</td>\n",
       "      <td>0</td>\n",
       "    </tr>\n",
       "    <tr>\n",
       "      <th>105100</th>\n",
       "      <td>0.004837</td>\n",
       "      <td>73</td>\n",
       "      <td>0</td>\n",
       "      <td>0.004675</td>\n",
       "      <td>11</td>\n",
       "      <td>0</td>\n",
       "      <td>0</td>\n",
       "      <td>0</td>\n",
       "      <td>0</td>\n",
       "    </tr>\n",
       "    <tr>\n",
       "      <th>105101</th>\n",
       "      <td>0.164116</td>\n",
       "      <td>66</td>\n",
       "      <td>0</td>\n",
       "      <td>0.512132</td>\n",
       "      <td>11</td>\n",
       "      <td>0</td>\n",
       "      <td>1</td>\n",
       "      <td>0</td>\n",
       "      <td>0</td>\n",
       "    </tr>\n",
       "    <tr>\n",
       "      <th>105102</th>\n",
       "      <td>0.000000</td>\n",
       "      <td>54</td>\n",
       "      <td>0</td>\n",
       "      <td>0.246005</td>\n",
       "      <td>5</td>\n",
       "      <td>0</td>\n",
       "      <td>2</td>\n",
       "      <td>0</td>\n",
       "      <td>0</td>\n",
       "    </tr>\n",
       "    <tr>\n",
       "      <th>105103</th>\n",
       "      <td>0.690853</td>\n",
       "      <td>60</td>\n",
       "      <td>0</td>\n",
       "      <td>0.835582</td>\n",
       "      <td>18</td>\n",
       "      <td>0</td>\n",
       "      <td>1</td>\n",
       "      <td>0</td>\n",
       "      <td>0</td>\n",
       "    </tr>\n",
       "    <tr>\n",
       "      <th>105104</th>\n",
       "      <td>0.017608</td>\n",
       "      <td>62</td>\n",
       "      <td>0</td>\n",
       "      <td>0.184589</td>\n",
       "      <td>6</td>\n",
       "      <td>0</td>\n",
       "      <td>2</td>\n",
       "      <td>0</td>\n",
       "      <td>0</td>\n",
       "    </tr>\n",
       "    <tr>\n",
       "      <th>105105</th>\n",
       "      <td>0.980631</td>\n",
       "      <td>25</td>\n",
       "      <td>0</td>\n",
       "      <td>0.158753</td>\n",
       "      <td>3</td>\n",
       "      <td>0</td>\n",
       "      <td>0</td>\n",
       "      <td>0</td>\n",
       "      <td>0</td>\n",
       "    </tr>\n",
       "    <tr>\n",
       "      <th>105106</th>\n",
       "      <td>0.050256</td>\n",
       "      <td>73</td>\n",
       "      <td>1</td>\n",
       "      <td>0.849711</td>\n",
       "      <td>12</td>\n",
       "      <td>0</td>\n",
       "      <td>2</td>\n",
       "      <td>0</td>\n",
       "      <td>0</td>\n",
       "    </tr>\n",
       "    <tr>\n",
       "      <th>105107</th>\n",
       "      <td>0.447882</td>\n",
       "      <td>43</td>\n",
       "      <td>0</td>\n",
       "      <td>0.068033</td>\n",
       "      <td>4</td>\n",
       "      <td>0</td>\n",
       "      <td>0</td>\n",
       "      <td>1</td>\n",
       "      <td>0</td>\n",
       "    </tr>\n",
       "    <tr>\n",
       "      <th>105108</th>\n",
       "      <td>0.563791</td>\n",
       "      <td>50</td>\n",
       "      <td>1</td>\n",
       "      <td>0.285641</td>\n",
       "      <td>13</td>\n",
       "      <td>0</td>\n",
       "      <td>3</td>\n",
       "      <td>0</td>\n",
       "      <td>0</td>\n",
       "    </tr>\n",
       "  </tbody>\n",
       "</table>\n",
       "<p>105109 rows × 9 columns</p>\n",
       "</div>"
      ],
      "text/plain": [
       "        credit_card_utilization  age  overdue_30_59_days  debt_to_income  \\\n",
       "0                      0.000000   56                   0        0.504328   \n",
       "1                      0.170659   45                   1        2.405860   \n",
       "2                      0.342176   75                   1        0.445066   \n",
       "3                      0.046219   50                   0        0.814508   \n",
       "4                      0.679556   58                   0        0.390311   \n",
       "5                      0.874546   32                   0        0.000000   \n",
       "6                      0.525989   69                   2        0.170485   \n",
       "7                      0.013340   90                   0        0.241279   \n",
       "8                      0.115604   41                   0        0.449502   \n",
       "9                      0.002793   81                   1        0.308468   \n",
       "10                     0.007025   80                   0        0.462520   \n",
       "11                     0.035220   76                   0        0.016681   \n",
       "12                     0.152552   38                   0        0.791688   \n",
       "13                     0.030659   70                   0        0.002657   \n",
       "14                     0.130225   49                   0        0.288093   \n",
       "15                     0.000000   54                   0        0.000000   \n",
       "16                     0.329667   40                   0        0.121353   \n",
       "17                     0.700914   46                   0        0.634394   \n",
       "18                     0.013792   77                   0        0.009940   \n",
       "19                     0.019991   88                   0        0.014871   \n",
       "20                     1.156862   69                   0       34.666092   \n",
       "21                     0.000000   58                   0        0.118510   \n",
       "22                     0.368058   40                   0        0.519532   \n",
       "23                     0.176205   93                   0      297.962783   \n",
       "24                     0.014566   76                   1        0.234352   \n",
       "25                     0.023357   46                   0        0.323160   \n",
       "26                     0.002558   80                   0        0.004157   \n",
       "27                     0.197839   60                   0        0.154631   \n",
       "28                     0.169956   54                   0        1.112453   \n",
       "29                     0.013231   74                   0        0.051366   \n",
       "...                         ...  ...                 ...             ...   \n",
       "105079                 0.125532   36                   0        3.482070   \n",
       "105080                 0.771081   54                   3        0.478352   \n",
       "105081                 0.017460   39                   0        0.279714   \n",
       "105082                 0.795569   62                   0        0.973926   \n",
       "105083                 0.020971   59                   0        0.145536   \n",
       "105084                 0.004643   34                   0        0.035101   \n",
       "105085                 1.084618   41                   3        0.506882   \n",
       "105086                 0.273988   78                   1        1.362684   \n",
       "105087                 0.463775   25                   1        0.113164   \n",
       "105088                 0.321033   71                   1        0.445762   \n",
       "105089                 0.158306   65                   0        0.646000   \n",
       "105090                 0.315519   41                   0        0.512791   \n",
       "105091                 0.293973   38                   0     3082.137895   \n",
       "105092                 0.013233   57                   0        0.402988   \n",
       "105093                 0.682914   67                   0        0.468343   \n",
       "105094                 0.993887   63                   0        0.246868   \n",
       "105095                 0.819842   30                   0        0.468866   \n",
       "105096                 0.524379   31                   0        2.233637   \n",
       "105097                 0.775696   34                   0        0.597164   \n",
       "105098                 1.001111   35                   2        0.208052   \n",
       "105099                 0.841857   53                   0        0.103334   \n",
       "105100                 0.004837   73                   0        0.004675   \n",
       "105101                 0.164116   66                   0        0.512132   \n",
       "105102                 0.000000   54                   0        0.246005   \n",
       "105103                 0.690853   60                   0        0.835582   \n",
       "105104                 0.017608   62                   0        0.184589   \n",
       "105105                 0.980631   25                   0        0.158753   \n",
       "105106                 0.050256   73                   1        0.849711   \n",
       "105107                 0.447882   43                   0        0.068033   \n",
       "105108                 0.563791   50                   1        0.285641   \n",
       "\n",
       "        credits_loans  overdue__more_than_90_days  mortgage_loans  \\\n",
       "0                   9                           0               1   \n",
       "1                   5                           0               0   \n",
       "2                   9                           0               3   \n",
       "3                  12                           0               1   \n",
       "4                  15                           0               4   \n",
       "5                   0                           0               0   \n",
       "6                   8                           0               1   \n",
       "7                   4                           0               1   \n",
       "8                  19                           0               4   \n",
       "9                  21                           0               1   \n",
       "10                  8                           0               2   \n",
       "11                  6                           0               0   \n",
       "12                  9                           0               0   \n",
       "13                  6                           0               0   \n",
       "14                  9                           0               1   \n",
       "15                  5                           0               0   \n",
       "16                  7                           0               0   \n",
       "17                  4                           0               1   \n",
       "18                 13                           0               0   \n",
       "19                  9                           0               0   \n",
       "20                  0                           0               0   \n",
       "21                  5                           0               1   \n",
       "22                  8                           0               2   \n",
       "23                  3                           0               0   \n",
       "24                 20                           0               0   \n",
       "25                  4                           0               1   \n",
       "26                  7                           0               0   \n",
       "27                  5                           0               0   \n",
       "28                 17                           0               5   \n",
       "29                 19                           0               0   \n",
       "...               ...                         ...             ...   \n",
       "105079              9                           0               2   \n",
       "105080              9                           1               1   \n",
       "105081             12                           0               1   \n",
       "105082             14                           0               1   \n",
       "105083             11                           0               0   \n",
       "105084              9                           0               0   \n",
       "105085              8                           1               2   \n",
       "105086             13                           0               2   \n",
       "105087              6                           0               0   \n",
       "105088             17                           0               3   \n",
       "105089             14                           0               0   \n",
       "105090             14                           0               1   \n",
       "105091              8                           0               1   \n",
       "105092              5                           0               2   \n",
       "105093             12                           0               1   \n",
       "105094              4                           0               0   \n",
       "105095             15                           0               0   \n",
       "105096              6                           0               1   \n",
       "105097              7                           0               2   \n",
       "105098             11                           0               0   \n",
       "105099              6                           0               0   \n",
       "105100             11                           0               0   \n",
       "105101             11                           0               1   \n",
       "105102              5                           0               2   \n",
       "105103             18                           0               1   \n",
       "105104              6                           0               2   \n",
       "105105              3                           0               0   \n",
       "105106             12                           0               2   \n",
       "105107              4                           0               0   \n",
       "105108             13                           0               3   \n",
       "\n",
       "        overdue_60_89_days  target  \n",
       "0                        0       0  \n",
       "1                        0       0  \n",
       "2                        0       0  \n",
       "3                        0       0  \n",
       "4                        0       0  \n",
       "5                        0       0  \n",
       "6                        1       0  \n",
       "7                        0       0  \n",
       "8                        0       0  \n",
       "9                        0       0  \n",
       "10                       0       0  \n",
       "11                       0       0  \n",
       "12                       0       0  \n",
       "13                       0       0  \n",
       "14                       0       0  \n",
       "15                       0       0  \n",
       "16                       0       0  \n",
       "17                       0       0  \n",
       "18                       0       0  \n",
       "19                       0       0  \n",
       "20                       0       0  \n",
       "21                       0       0  \n",
       "22                       0       0  \n",
       "23                       0       0  \n",
       "24                       0       0  \n",
       "25                       0       0  \n",
       "26                       0       0  \n",
       "27                       0       0  \n",
       "28                       0       0  \n",
       "29                       0       0  \n",
       "...                    ...     ...  \n",
       "105079                   0       0  \n",
       "105080                   2       1  \n",
       "105081                   0       0  \n",
       "105082                   0       0  \n",
       "105083                   0       0  \n",
       "105084                   0       0  \n",
       "105085                   3       1  \n",
       "105086                   0       0  \n",
       "105087                   0       0  \n",
       "105088                   0       0  \n",
       "105089                   0       0  \n",
       "105090                   0       0  \n",
       "105091                   0       0  \n",
       "105092                   0       0  \n",
       "105093                   0       0  \n",
       "105094                   0       0  \n",
       "105095                   0       0  \n",
       "105096                   0       0  \n",
       "105097                   0       0  \n",
       "105098                   0       0  \n",
       "105099                   0       0  \n",
       "105100                   0       0  \n",
       "105101                   0       0  \n",
       "105102                   0       0  \n",
       "105103                   0       0  \n",
       "105104                   0       0  \n",
       "105105                   0       0  \n",
       "105106                   0       0  \n",
       "105107                   1       0  \n",
       "105108                   0       0  \n",
       "\n",
       "[105109 rows x 9 columns]"
      ]
     },
     "execution_count": 35,
     "metadata": {},
     "output_type": "execute_result"
    }
   ],
   "source": [
    "df_full"
   ]
  },
  {
   "cell_type": "code",
   "execution_count": null,
   "metadata": {},
   "outputs": [],
   "source": []
  },
  {
   "cell_type": "code",
   "execution_count": null,
   "metadata": {
    "collapsed": true
   },
   "outputs": [],
   "source": []
  },
  {
   "cell_type": "markdown",
   "metadata": {},
   "source": [
    "###### Заполнение пропусков"
   ]
  },
  {
   "cell_type": "code",
   "execution_count": 14,
   "metadata": {},
   "outputs": [],
   "source": [
    "df_full['monthly_income'] = df_full['monthly_income'].fillna(0)\n",
    "df_full['family_members'] = df_full['family_members'].fillna(0)"
   ]
  },
  {
   "cell_type": "markdown",
   "metadata": {},
   "source": [
    "###### Проверка заполнения пропусков"
   ]
  },
  {
   "cell_type": "code",
   "execution_count": 15,
   "metadata": {
    "scrolled": true
   },
   "outputs": [
    {
     "data": {
      "text/plain": [
       "credit_card_utilization       0\n",
       "age                           0\n",
       "overdue_30_59_days            0\n",
       "debt_to_income                0\n",
       "monthly_income                0\n",
       "credits_loans                 0\n",
       "overdue__more_than_90_days    0\n",
       "mortgage_loans                0\n",
       "overdue_60_89_days            0\n",
       "family_members                0\n",
       "target                        0\n",
       "dtype: int64"
      ]
     },
     "execution_count": 15,
     "metadata": {},
     "output_type": "execute_result"
    }
   ],
   "source": [
    "pd.isnull(df_full).sum()"
   ]
  },
  {
   "cell_type": "code",
   "execution_count": 16,
   "metadata": {},
   "outputs": [],
   "source": [
    "df = df_full.iloc[:-100]\n",
    "df_test = df_full.iloc[-100:]\n"
   ]
  },
  {
   "cell_type": "code",
   "execution_count": 17,
   "metadata": {},
   "outputs": [],
   "source": [
    "df.target = df.target.astype(int)"
   ]
  },
  {
   "cell_type": "markdown",
   "metadata": {},
   "source": [
    "###### Выбираем признаки для обучения"
   ]
  },
  {
   "cell_type": "code",
   "execution_count": 18,
   "metadata": {},
   "outputs": [],
   "source": [
    "train_cols = df.columns.difference([target])"
   ]
  },
  {
   "cell_type": "code",
   "execution_count": 19,
   "metadata": {},
   "outputs": [
    {
     "data": {
      "text/plain": [
       "Index(['age', 'credit_card_utilization', 'credits_loans', 'debt_to_income',\n",
       "       'family_members', 'monthly_income', 'mortgage_loans',\n",
       "       'overdue_30_59_days', 'overdue_60_89_days',\n",
       "       'overdue__more_than_90_days'],\n",
       "      dtype='object')"
      ]
     },
     "execution_count": 19,
     "metadata": {},
     "output_type": "execute_result"
    }
   ],
   "source": [
    "train_cols"
   ]
  },
  {
   "cell_type": "markdown",
   "metadata": {},
   "source": [
    "# Генерация признаков"
   ]
  },
  {
   "cell_type": "markdown",
   "metadata": {},
   "source": [
    "###### Полиномиальные признаки"
   ]
  },
  {
   "cell_type": "code",
   "execution_count": 20,
   "metadata": {},
   "outputs": [],
   "source": [
    "from sklearn.preprocessing import PolynomialFeatures"
   ]
  },
  {
   "cell_type": "code",
   "execution_count": 21,
   "metadata": {},
   "outputs": [],
   "source": [
    "pf = PolynomialFeatures(degree=2)"
   ]
  },
  {
   "cell_type": "code",
   "execution_count": 22,
   "metadata": {},
   "outputs": [],
   "source": [
    "# df = pf.fit_transform(df)"
   ]
  },
  {
   "cell_type": "markdown",
   "metadata": {},
   "source": [
    "# Выбор модели и оптимизация"
   ]
  },
  {
   "cell_type": "markdown",
   "metadata": {},
   "source": [
    "###### Decision Tree Classifier"
   ]
  },
  {
   "cell_type": "code",
   "execution_count": 23,
   "metadata": {},
   "outputs": [],
   "source": [
    "from sklearn.tree import DecisionTreeClassifier\n",
    "from sklearn.model_selection import StratifiedKFold, GridSearchCV"
   ]
  },
  {
   "cell_type": "code",
   "execution_count": 24,
   "metadata": {},
   "outputs": [],
   "source": [
    "dtc = DecisionTreeClassifier()\n",
    "params = {'min_samples_split': [3,4,5,6,7,8,9,10]}\n",
    "cv = StratifiedKFold(shuffle=True, n_splits=5)"
   ]
  },
  {
   "cell_type": "code",
   "execution_count": 25,
   "metadata": {},
   "outputs": [],
   "source": [
    "GS_dtc = GridSearchCV(estimator=dtc, param_grid=params, cv=cv, scoring='roc_auc')"
   ]
  },
  {
   "cell_type": "code",
   "execution_count": 26,
   "metadata": {},
   "outputs": [
    {
     "data": {
      "text/plain": [
       "GridSearchCV(cv=StratifiedKFold(n_splits=5, random_state=None, shuffle=True),\n",
       "       error_score='raise',\n",
       "       estimator=DecisionTreeClassifier(class_weight=None, criterion='gini', max_depth=None,\n",
       "            max_features=None, max_leaf_nodes=None,\n",
       "            min_impurity_decrease=0.0, min_impurity_split=None,\n",
       "            min_samples_leaf=1, min_samples_split=2,\n",
       "            min_weight_fraction_leaf=0.0, presort=False, random_state=None,\n",
       "            splitter='best'),\n",
       "       fit_params=None, iid=True, n_jobs=1,\n",
       "       param_grid={'min_samples_split': [3, 4, 5, 6, 7, 8, 9, 10]},\n",
       "       pre_dispatch='2*n_jobs', refit=True, return_train_score='warn',\n",
       "       scoring='roc_auc', verbose=0)"
      ]
     },
     "execution_count": 26,
     "metadata": {},
     "output_type": "execute_result"
    }
   ],
   "source": [
    "GS_dtc.fit(X=df[train_cols], y=df[target])"
   ]
  },
  {
   "cell_type": "code",
   "execution_count": 27,
   "metadata": {},
   "outputs": [
    {
     "data": {
      "text/plain": [
       "0.6644762691710736"
      ]
     },
     "execution_count": 27,
     "metadata": {},
     "output_type": "execute_result"
    }
   ],
   "source": [
    "GS_dtc.best_score_"
   ]
  },
  {
   "cell_type": "code",
   "execution_count": 28,
   "metadata": {},
   "outputs": [
    {
     "data": {
      "text/html": [
       "<div>\n",
       "<style scoped>\n",
       "    .dataframe tbody tr th:only-of-type {\n",
       "        vertical-align: middle;\n",
       "    }\n",
       "\n",
       "    .dataframe tbody tr th {\n",
       "        vertical-align: top;\n",
       "    }\n",
       "\n",
       "    .dataframe thead th {\n",
       "        text-align: right;\n",
       "    }\n",
       "</style>\n",
       "<table border=\"1\" class=\"dataframe\">\n",
       "  <thead>\n",
       "    <tr style=\"text-align: right;\">\n",
       "      <th></th>\n",
       "      <th>age</th>\n",
       "      <th>credit_card_utilization</th>\n",
       "      <th>credits_loans</th>\n",
       "      <th>debt_to_income</th>\n",
       "      <th>family_members</th>\n",
       "      <th>monthly_income</th>\n",
       "      <th>mortgage_loans</th>\n",
       "      <th>overdue_30_59_days</th>\n",
       "      <th>overdue_60_89_days</th>\n",
       "      <th>overdue__more_than_90_days</th>\n",
       "    </tr>\n",
       "  </thead>\n",
       "  <tbody>\n",
       "    <tr>\n",
       "      <th>0</th>\n",
       "      <td>56</td>\n",
       "      <td>0.000000</td>\n",
       "      <td>9</td>\n",
       "      <td>0.504328</td>\n",
       "      <td>5.0</td>\n",
       "      <td>6823.894458</td>\n",
       "      <td>1</td>\n",
       "      <td>0</td>\n",
       "      <td>0</td>\n",
       "      <td>0</td>\n",
       "    </tr>\n",
       "    <tr>\n",
       "      <th>1</th>\n",
       "      <td>45</td>\n",
       "      <td>0.170659</td>\n",
       "      <td>5</td>\n",
       "      <td>2.405860</td>\n",
       "      <td>0.0</td>\n",
       "      <td>356.580765</td>\n",
       "      <td>0</td>\n",
       "      <td>1</td>\n",
       "      <td>0</td>\n",
       "      <td>0</td>\n",
       "    </tr>\n",
       "    <tr>\n",
       "      <th>2</th>\n",
       "      <td>75</td>\n",
       "      <td>0.342176</td>\n",
       "      <td>9</td>\n",
       "      <td>0.445066</td>\n",
       "      <td>0.0</td>\n",
       "      <td>20349.895825</td>\n",
       "      <td>3</td>\n",
       "      <td>1</td>\n",
       "      <td>0</td>\n",
       "      <td>0</td>\n",
       "    </tr>\n",
       "    <tr>\n",
       "      <th>3</th>\n",
       "      <td>50</td>\n",
       "      <td>0.046219</td>\n",
       "      <td>12</td>\n",
       "      <td>0.814508</td>\n",
       "      <td>3.0</td>\n",
       "      <td>2894.368968</td>\n",
       "      <td>1</td>\n",
       "      <td>0</td>\n",
       "      <td>0</td>\n",
       "      <td>0</td>\n",
       "    </tr>\n",
       "    <tr>\n",
       "      <th>4</th>\n",
       "      <td>58</td>\n",
       "      <td>0.679556</td>\n",
       "      <td>15</td>\n",
       "      <td>0.390311</td>\n",
       "      <td>2.0</td>\n",
       "      <td>24833.227614</td>\n",
       "      <td>4</td>\n",
       "      <td>0</td>\n",
       "      <td>0</td>\n",
       "      <td>0</td>\n",
       "    </tr>\n",
       "  </tbody>\n",
       "</table>\n",
       "</div>"
      ],
      "text/plain": [
       "   age  credit_card_utilization  credits_loans  debt_to_income  \\\n",
       "0   56                 0.000000              9        0.504328   \n",
       "1   45                 0.170659              5        2.405860   \n",
       "2   75                 0.342176              9        0.445066   \n",
       "3   50                 0.046219             12        0.814508   \n",
       "4   58                 0.679556             15        0.390311   \n",
       "\n",
       "   family_members  monthly_income  mortgage_loans  overdue_30_59_days  \\\n",
       "0             5.0     6823.894458               1                   0   \n",
       "1             0.0      356.580765               0                   1   \n",
       "2             0.0    20349.895825               3                   1   \n",
       "3             3.0     2894.368968               1                   0   \n",
       "4             2.0    24833.227614               4                   0   \n",
       "\n",
       "   overdue_60_89_days  overdue__more_than_90_days  \n",
       "0                   0                           0  \n",
       "1                   0                           0  \n",
       "2                   0                           0  \n",
       "3                   0                           0  \n",
       "4                   0                           0  "
      ]
     },
     "execution_count": 28,
     "metadata": {},
     "output_type": "execute_result"
    }
   ],
   "source": [
    "df[train_cols].head()"
   ]
  },
  {
   "cell_type": "markdown",
   "metadata": {},
   "source": [
    "###### Logistic Regression"
   ]
  },
  {
   "cell_type": "code",
   "execution_count": 29,
   "metadata": {},
   "outputs": [],
   "source": [
    "from sklearn.linear_model import LogisticRegression"
   ]
  },
  {
   "cell_type": "code",
   "execution_count": 30,
   "metadata": {},
   "outputs": [],
   "source": [
    "import random"
   ]
  },
  {
   "cell_type": "code",
   "execution_count": 31,
   "metadata": {},
   "outputs": [],
   "source": [
    "random.seed(123)"
   ]
  },
  {
   "cell_type": "code",
   "execution_count": 32,
   "metadata": {},
   "outputs": [],
   "source": [
    "model = LogisticRegression()\n",
    "params = {'C': np.logspace(-7, 0, 100)}\n",
    "GS_LR = GridSearchCV(estimator=model, param_grid=params, cv=cv, scoring='roc_auc')"
   ]
  },
  {
   "cell_type": "code",
   "execution_count": 33,
   "metadata": {},
   "outputs": [
    {
     "data": {
      "text/plain": [
       "GridSearchCV(cv=StratifiedKFold(n_splits=5, random_state=None, shuffle=True),\n",
       "       error_score='raise',\n",
       "       estimator=LogisticRegression(C=1.0, class_weight=None, dual=False, fit_intercept=True,\n",
       "          intercept_scaling=1, max_iter=100, multi_class='ovr', n_jobs=1,\n",
       "          penalty='l2', random_state=None, solver='liblinear', tol=0.0001,\n",
       "          verbose=0, warm_start=False),\n",
       "       fit_params=None, iid=True, n_jobs=1,\n",
       "       param_grid={'C': array([1.00000e-07, 1.17681e-07, ..., 8.49753e-01, 1.00000e+00])},\n",
       "       pre_dispatch='2*n_jobs', refit=True, return_train_score='warn',\n",
       "       scoring='roc_auc', verbose=0)"
      ]
     },
     "execution_count": 33,
     "metadata": {},
     "output_type": "execute_result"
    }
   ],
   "source": [
    "GS_LR.fit(X=df[train_cols], y=df[target])"
   ]
  },
  {
   "cell_type": "code",
   "execution_count": 94,
   "metadata": {},
   "outputs": [
    {
     "data": {
      "text/plain": [
       "{'C': 0.014508287784959401}"
      ]
     },
     "execution_count": 94,
     "metadata": {},
     "output_type": "execute_result"
    }
   ],
   "source": [
    "# Лучшая модель при параметре \"C\"\n",
    "GS_LR.best_params_"
   ]
  },
  {
   "cell_type": "code",
   "execution_count": 95,
   "metadata": {},
   "outputs": [
    {
     "data": {
      "text/plain": [
       "0.699670543334869"
      ]
     },
     "execution_count": 95,
     "metadata": {},
     "output_type": "execute_result"
    }
   ],
   "source": [
    "# Лучший показатель ROC_AUC\n",
    "GS_LR.best_score_"
   ]
  },
  {
   "cell_type": "code",
   "execution_count": 96,
   "metadata": {},
   "outputs": [
    {
     "data": {
      "text/plain": [
       "GridSearchCV(cv=StratifiedKFold(n_splits=5, random_state=None, shuffle=True),\n",
       "       error_score='raise',\n",
       "       estimator=LogisticRegression(C=1.0, class_weight=None, dual=False, fit_intercept=True,\n",
       "          intercept_scaling=1, max_iter=100, multi_class='ovr', n_jobs=1,\n",
       "          penalty='l2', random_state=None, solver='liblinear', tol=0.0001,\n",
       "          verbose=0, warm_start=False),\n",
       "       fit_params=None, iid=True, n_jobs=1,\n",
       "       param_grid={'C': array([1.00000e-07, 1.17681e-07, ..., 8.49753e-01, 1.00000e+00])},\n",
       "       pre_dispatch='2*n_jobs', refit=True, return_train_score='warn',\n",
       "       scoring='roc_auc', verbose=0)"
      ]
     },
     "execution_count": 96,
     "metadata": {},
     "output_type": "execute_result"
    }
   ],
   "source": [
    "GS_LR"
   ]
  },
  {
   "cell_type": "code",
   "execution_count": 97,
   "metadata": {},
   "outputs": [
    {
     "data": {
      "image/png": "[encoded data removed]",
      "text/plain": [
       "<Figure size 432x288 with 1 Axes>"
      ]
     },
     "metadata": {},
     "output_type": "display_data"
    }
   ],
   "source": [
    "means = GS_LR.cv_results_['mean_test_score']\n",
    "stds = GS_LR.cv_results_['std_test_score']\n",
    "error = 1.95 * stds\n",
    "plt.plot(params['C'], means, color = 'blue')\n",
    "plt.plot(params['C'], means - error, color = 'green')\n",
    "plt.plot(params['C'], means + error, color = 'green')\n",
    "plt.fill_between(params['C'], means - error, means + error, color = 'green')\n",
    "plt.xlabel('C')\n",
    "plt.ylabel('Average quality')\n",
    "plt.title('Average quality for LR model')\n",
    "plt.show()"
   ]
  },
  {
   "cell_type": "markdown",
   "metadata": {},
   "source": [
    "###### kNN"
   ]
  },
  {
   "cell_type": "code",
   "execution_count": 98,
   "metadata": {},
   "outputs": [],
   "source": [
    "from sklearn.neighbors import KNeighborsClassifier"
   ]
  },
  {
   "cell_type": "code",
   "execution_count": 99,
   "metadata": {},
   "outputs": [],
   "source": [
    "model = KNeighborsClassifier()\n",
    "params = {'n_neighbors': range(1,100)}\n",
    "cv = StratifiedKFold(shuffle=True, n_splits=5)\n",
    "GS_kNN = GridSearchCV(estimator=model, param_grid=params, cv=cv, scoring='roc_auc')"
   ]
  },
  {
   "cell_type": "code",
   "execution_count": 100,
   "metadata": {},
   "outputs": [
    {
     "data": {
      "text/plain": [
       "GridSearchCV(cv=StratifiedKFold(n_splits=5, random_state=None, shuffle=True),\n",
       "       error_score='raise',\n",
       "       estimator=KNeighborsClassifier(algorithm='auto', leaf_size=30, metric='minkowski',\n",
       "           metric_params=None, n_jobs=1, n_neighbors=5, p=2,\n",
       "           weights='uniform'),\n",
       "       fit_params=None, iid=True, n_jobs=1,\n",
       "       param_grid={'n_neighbors': range(1, 100)}, pre_dispatch='2*n_jobs',\n",
       "       refit=True, return_train_score='warn', scoring='roc_auc', verbose=0)"
      ]
     },
     "execution_count": 100,
     "metadata": {},
     "output_type": "execute_result"
    }
   ],
   "source": [
    "GS_kNN.fit(df[train_cols], df[target])"
   ]
  },
  {
   "cell_type": "code",
   "execution_count": 101,
   "metadata": {},
   "outputs": [
    {
     "data": {
      "text/plain": [
       "{'n_neighbors': 98}"
      ]
     },
     "execution_count": 101,
     "metadata": {},
     "output_type": "execute_result"
    }
   ],
   "source": [
    "# Лучший параметр 'n_neighbors'\n",
    "GS_kNN.best_params_"
   ]
  },
  {
   "cell_type": "code",
   "execution_count": 102,
   "metadata": {},
   "outputs": [
    {
     "data": {
      "text/plain": [
       "0.6279347747645829"
      ]
     },
     "execution_count": 102,
     "metadata": {},
     "output_type": "execute_result"
    }
   ],
   "source": [
    "# Лучший показатель ROC_AUC\n",
    "GS_kNN.best_score_"
   ]
  },
  {
   "cell_type": "code",
   "execution_count": 103,
   "metadata": {},
   "outputs": [
    {
     "data": {
      "image/png": "[encoded data removed]",
      "text/plain": [
       "<Figure size 432x288 with 1 Axes>"
      ]
     },
     "metadata": {},
     "output_type": "display_data"
    }
   ],
   "source": [
    "means = GS_kNN.cv_results_['mean_test_score']\n",
    "stds = GS_kNN.cv_results_['std_test_score']\n",
    "error = 1.95 * stds\n",
    "plt.plot(params['n_neighbors'], means, color = 'blue')\n",
    "plt.plot(params['n_neighbors'], means - error, color = 'green')\n",
    "plt.plot(params['n_neighbors'], means + error, color = 'green')\n",
    "plt.fill_between(params['n_neighbors'], means - error, means + error, color = 'green')\n",
    "plt.xlabel('n_neighbors')\n",
    "plt.ylabel('Average quality')\n",
    "plt.title('Average quality for kNN model')\n",
    "plt.show()"
   ]
  },
  {
   "cell_type": "markdown",
   "metadata": {},
   "source": [
    "# Нормировка данных"
   ]
  },
  {
   "cell_type": "markdown",
   "metadata": {},
   "source": [
    "Нормируем данные и проверяем качество"
   ]
  },
  {
   "cell_type": "code",
   "execution_count": 104,
   "metadata": {},
   "outputs": [],
   "source": [
    "from sklearn.preprocessing import StandardScaler"
   ]
  },
  {
   "cell_type": "code",
   "execution_count": 105,
   "metadata": {},
   "outputs": [],
   "source": [
    "ss = StandardScaler(with_mean=True, with_std=True)"
   ]
  },
  {
   "cell_type": "code",
   "execution_count": 106,
   "metadata": {},
   "outputs": [],
   "source": [
    "X_scaled = ss.fit_transform(df[train_cols])"
   ]
  },
  {
   "cell_type": "code",
   "execution_count": 107,
   "metadata": {},
   "outputs": [],
   "source": [
    "X_test_scaled = ss.transform(df_test[train_cols])"
   ]
  },
  {
   "cell_type": "markdown",
   "metadata": {},
   "source": [
    "# Модели на нормированных данных"
   ]
  },
  {
   "cell_type": "markdown",
   "metadata": {},
   "source": [
    "###### Decision Tree Classifier"
   ]
  },
  {
   "cell_type": "code",
   "execution_count": 108,
   "metadata": {},
   "outputs": [],
   "source": [
    "dtc = DecisionTreeClassifier()\n",
    "params = {'min_samples_split': [3,4,5,6,7,8,9,10]}\n",
    "cv = StratifiedKFold(shuffle=True, n_splits=5)"
   ]
  },
  {
   "cell_type": "code",
   "execution_count": 109,
   "metadata": {},
   "outputs": [],
   "source": [
    "GS_dtc = GridSearchCV(estimator=dtc, param_grid=params, cv=cv, scoring='roc_auc')"
   ]
  },
  {
   "cell_type": "code",
   "execution_count": 110,
   "metadata": {},
   "outputs": [
    {
     "data": {
      "text/plain": [
       "GridSearchCV(cv=StratifiedKFold(n_splits=5, random_state=None, shuffle=True),\n",
       "       error_score='raise',\n",
       "       estimator=DecisionTreeClassifier(class_weight=None, criterion='gini', max_depth=None,\n",
       "            max_features=None, max_leaf_nodes=None,\n",
       "            min_impurity_decrease=0.0, min_impurity_split=None,\n",
       "            min_samples_leaf=1, min_samples_split=2,\n",
       "            min_weight_fraction_leaf=0.0, presort=False, random_state=None,\n",
       "            splitter='best'),\n",
       "       fit_params=None, iid=True, n_jobs=1,\n",
       "       param_grid={'min_samples_split': [3, 4, 5, 6, 7, 8, 9, 10]},\n",
       "       pre_dispatch='2*n_jobs', refit=True, return_train_score='warn',\n",
       "       scoring='roc_auc', verbose=0)"
      ]
     },
     "execution_count": 110,
     "metadata": {},
     "output_type": "execute_result"
    }
   ],
   "source": [
    "# Заменяем df[train_cols] на X_scaled\n",
    "GS_dtc.fit(X=X_scaled, y=df[target])"
   ]
  },
  {
   "cell_type": "code",
   "execution_count": 111,
   "metadata": {},
   "outputs": [
    {
     "data": {
      "text/plain": [
       "0.6643150383349541"
      ]
     },
     "execution_count": 111,
     "metadata": {},
     "output_type": "execute_result"
    }
   ],
   "source": [
    "# Алгоритмы на деревьях не чуствительны к масштабированию данных, поэтому скор не изменился\n",
    "GS_dtc.best_score_"
   ]
  },
  {
   "cell_type": "markdown",
   "metadata": {},
   "source": [
    "Скор не большой, так как мы перебрали не все параметры"
   ]
  },
  {
   "cell_type": "markdown",
   "metadata": {},
   "source": [
    "Попробуйте факультативно попробовать поварьировать другие параметры и добиться лучшего ROC_AUC"
   ]
  },
  {
   "cell_type": "markdown",
   "metadata": {},
   "source": [
    "###### Logistic Regression"
   ]
  },
  {
   "cell_type": "code",
   "execution_count": 112,
   "metadata": {},
   "outputs": [],
   "source": [
    "model = LogisticRegression()\n",
    "params = {'C': np.logspace(-7, 0, 100)}\n",
    "GS_LR = GridSearchCV(estimator=model, param_grid=params, cv=cv, scoring='roc_auc')"
   ]
  },
  {
   "cell_type": "code",
   "execution_count": 113,
   "metadata": {},
   "outputs": [
    {
     "data": {
      "text/plain": [
       "GridSearchCV(cv=StratifiedKFold(n_splits=5, random_state=None, shuffle=True),\n",
       "       error_score='raise',\n",
       "       estimator=LogisticRegression(C=1.0, class_weight=None, dual=False, fit_intercept=True,\n",
       "          intercept_scaling=1, max_iter=100, multi_class='ovr', n_jobs=1,\n",
       "          penalty='l2', random_state=None, solver='liblinear', tol=0.0001,\n",
       "          verbose=0, warm_start=False),\n",
       "       fit_params=None, iid=True, n_jobs=1,\n",
       "       param_grid={'C': array([1.00000e-07, 1.17681e-07, ..., 8.49753e-01, 1.00000e+00])},\n",
       "       pre_dispatch='2*n_jobs', refit=True, return_train_score='warn',\n",
       "       scoring='roc_auc', verbose=0)"
      ]
     },
     "execution_count": 113,
     "metadata": {},
     "output_type": "execute_result"
    }
   ],
   "source": [
    "GS_LR.fit(X=X_scaled, y=df[target])"
   ]
  },
  {
   "cell_type": "code",
   "execution_count": 114,
   "metadata": {},
   "outputs": [
    {
     "data": {
      "text/plain": [
       "{'C': 1e-07}"
      ]
     },
     "execution_count": 114,
     "metadata": {},
     "output_type": "execute_result"
    }
   ],
   "source": [
    "# Лучший параметр \"C\" сильно уменьшился,\n",
    "# Так как мы нормировали данные и теперь надо меньше штрафовать большие веса\n",
    "GS_LR.best_params_"
   ]
  },
  {
   "cell_type": "code",
   "execution_count": 115,
   "metadata": {},
   "outputs": [
    {
     "data": {
      "text/plain": [
       "0.7150933286685235"
      ]
     },
     "execution_count": 115,
     "metadata": {},
     "output_type": "execute_result"
    }
   ],
   "source": [
    "GS_LR.best_score_"
   ]
  },
  {
   "cell_type": "markdown",
   "metadata": {},
   "source": [
    "###### kNN"
   ]
  },
  {
   "cell_type": "code",
   "execution_count": 116,
   "metadata": {},
   "outputs": [],
   "source": [
    "model = KNeighborsClassifier()\n",
    "params = {'n_neighbors': range(1,100)}\n",
    "cv = StratifiedKFold(shuffle=True, n_splits=5)\n",
    "GS_kNN = GridSearchCV(estimator=model, param_grid=params, cv=cv, scoring='roc_auc')"
   ]
  },
  {
   "cell_type": "code",
   "execution_count": 117,
   "metadata": {},
   "outputs": [
    {
     "data": {
      "text/plain": [
       "GridSearchCV(cv=StratifiedKFold(n_splits=5, random_state=None, shuffle=True),\n",
       "       error_score='raise',\n",
       "       estimator=KNeighborsClassifier(algorithm='auto', leaf_size=30, metric='minkowski',\n",
       "           metric_params=None, n_jobs=1, n_neighbors=5, p=2,\n",
       "           weights='uniform'),\n",
       "       fit_params=None, iid=True, n_jobs=1,\n",
       "       param_grid={'n_neighbors': range(1, 100)}, pre_dispatch='2*n_jobs',\n",
       "       refit=True, return_train_score='warn', scoring='roc_auc', verbose=0)"
      ]
     },
     "execution_count": 117,
     "metadata": {},
     "output_type": "execute_result"
    }
   ],
   "source": [
    "GS_kNN.fit(X_scaled, df[target])"
   ]
  },
  {
   "cell_type": "code",
   "execution_count": 118,
   "metadata": {},
   "outputs": [
    {
     "data": {
      "text/plain": [
       "{'n_neighbors': 98}"
      ]
     },
     "execution_count": 118,
     "metadata": {},
     "output_type": "execute_result"
    }
   ],
   "source": [
    "# Лучший параметр 'n_neighbors'\n",
    "GS_kNN.best_params_"
   ]
  },
  {
   "cell_type": "code",
   "execution_count": 119,
   "metadata": {},
   "outputs": [
    {
     "data": {
      "text/plain": [
       "0.7685681262220746"
      ]
     },
     "execution_count": 119,
     "metadata": {},
     "output_type": "execute_result"
    }
   ],
   "source": [
    "# Показатель метрики ROC_AUC сильно увеличился после нормировки (с 0.59 до 0.75),\n",
    "# Так как метрические алгоритмы очень чуствительны к ненормированным данным.\n",
    "GS_kNN.best_score_"
   ]
  },
  {
   "cell_type": "code",
   "execution_count": 120,
   "metadata": {},
   "outputs": [
    {
     "data": {
      "image/png": "[encoded data removed]",
      "text/plain": [
       "<Figure size 432x288 with 1 Axes>"
      ]
     },
     "metadata": {},
     "output_type": "display_data"
    }
   ],
   "source": [
    "means = GS_kNN.cv_results_['mean_test_score']\n",
    "stds = GS_kNN.cv_results_['std_test_score']\n",
    "error = 1.95 * stds\n",
    "plt.plot(params['n_neighbors'], means, color = 'blue')\n",
    "plt.plot(params['n_neighbors'], means - error, color = 'green')\n",
    "plt.plot(params['n_neighbors'], means + error, color = 'green')\n",
    "plt.fill_between(params['n_neighbors'], means - error, means + error, color = 'green')\n",
    "plt.xlabel('n_neighbors')\n",
    "plt.ylabel('Average quality')\n",
    "plt.title('Average quality for kNN model')\n",
    "plt.show()"
   ]
  },
  {
   "cell_type": "markdown",
   "metadata": {},
   "source": [
    "# Blending"
   ]
  },
  {
   "cell_type": "markdown",
   "metadata": {},
   "source": [
    "Подробнее про ансамбли хорошо объясняется здесь:\n",
    "\n",
    "https://dyakonov.org/2017/03/10/cтекинг-stacking-и-блендинг-blending/"
   ]
  },
  {
   "cell_type": "code",
   "execution_count": 121,
   "metadata": {},
   "outputs": [],
   "source": [
    "# Библиотека для блендинга\n",
    "from sklearn.ensemble import VotingClassifier"
   ]
  },
  {
   "cell_type": "markdown",
   "metadata": {},
   "source": [
    "###### Выбираем наши лучшие модели (модели при лучших параметрах)"
   ]
  },
  {
   "cell_type": "code",
   "execution_count": 122,
   "metadata": {},
   "outputs": [],
   "source": [
    "kNN_model = GS_kNN.best_estimator_ # Лучший ROC_AUC при гиперпараметре\n",
    "LR_model = GS_LR.best_estimator_ # Лучший ROC_AUC при гиперпараметре"
   ]
  },
  {
   "cell_type": "code",
   "execution_count": 123,
   "metadata": {},
   "outputs": [],
   "source": [
    "# Передаем в VotingClassifier наши модели для ансамбля\n",
    "vc = VotingClassifier([('kNN', kNN_model), ('LR', LR_model)], voting='soft')"
   ]
  },
  {
   "cell_type": "code",
   "execution_count": 124,
   "metadata": {},
   "outputs": [
    {
     "data": {
      "text/plain": [
       "GridSearchCV(cv=StratifiedKFold(n_splits=5, random_state=None, shuffle=True),\n",
       "       error_score='raise',\n",
       "       estimator=VotingClassifier(estimators=[('kNN', KNeighborsClassifier(algorithm='auto', leaf_size=30, metric='minkowski',\n",
       "           metric_params=None, n_jobs=1, n_neighbors=98, p=2,\n",
       "           weights='uniform')), ('LR', LogisticRegression(C=1e-07, class_weight=None, dual=False, fit_intercept=True,\n",
       "...bose=0, warm_start=False))],\n",
       "         flatten_transform=None, n_jobs=1, voting='soft', weights=None),\n",
       "       fit_params=None, iid=True, n_jobs=1,\n",
       "       param_grid={'weights': [[0.0, 1.0], [0.1, 0.9], [0.2, 0.8], [0.30000000000000004, 0.7], [0.4, 0.6], [0.5, 0.5], [0.6000000000000001, 0.3999999999999999], [0.7000000000000001, 0.29999999999999993], [0.8, 0.19999999999999996], [0.9, 0.09999999999999998], [1.0, 0.0]]},\n",
       "       pre_dispatch='2*n_jobs', refit=True, return_train_score='warn',\n",
       "       scoring='roc_auc', verbose=0)"
      ]
     },
     "execution_count": 124,
     "metadata": {},
     "output_type": "execute_result"
    }
   ],
   "source": [
    "# Запускаем поиск лучших параметров alpha_1, alpha_2 на кроссвалидации\n",
    "grid = GridSearchCV(estimator=vc,\n",
    "                    param_grid={'weights': [[i, 1 - i] for i in np.arange(0,1.1,0.1)]},\n",
    "                    cv=cv,\n",
    "                    scoring='roc_auc')\n",
    "grid.fit(X_scaled, df[target].values)"
   ]
  },
  {
   "cell_type": "code",
   "execution_count": 125,
   "metadata": {},
   "outputs": [
    {
     "data": {
      "text/plain": [
       "{'weights': [0.4, 0.6]}"
      ]
     },
     "execution_count": 125,
     "metadata": {},
     "output_type": "execute_result"
    }
   ],
   "source": [
    "grid.best_params_"
   ]
  },
  {
   "cell_type": "code",
   "execution_count": 126,
   "metadata": {},
   "outputs": [
    {
     "data": {
      "text/plain": [
       "0.7724400110943923"
      ]
     },
     "execution_count": 126,
     "metadata": {},
     "output_type": "execute_result"
    }
   ],
   "source": [
    "# Лучший показатель ROC_AUC\n",
    "grid.best_score_"
   ]
  },
  {
   "cell_type": "code",
   "execution_count": 132,
   "metadata": {},
   "outputs": [
    {
     "name": "stdout",
     "output_type": "stream",
     "text": [
      "Качество алгоритма kNN = 0.7685681262220746\n",
      "Качество алгоритма LogReg = 0.7150933286685235\n",
      "Качество алгоритма ансамбля kNN и LogReg = 0.7724400110943923\n"
     ]
    }
   ],
   "source": [
    "# Напомним\n",
    "print(\"Качество алгоритма kNN =\", GS_kNN.best_score_)\n",
    "print(\"Качество алгоритма LogReg =\", GS_LR.best_score_)\n",
    "print(\"Качество алгоритма ансамбля kNN и LogReg =\", grid.best_score_)"
   ]
  },
  {
   "cell_type": "markdown",
   "metadata": {},
   "source": [
    "Стало лучше)"
   ]
  },
  {
   "cell_type": "markdown",
   "metadata": {},
   "source": [
    "### Делаем предсказания на тесте"
   ]
  },
  {
   "cell_type": "code",
   "execution_count": 130,
   "metadata": {},
   "outputs": [],
   "source": [
    "model = grid.best_estimator_"
   ]
  },
  {
   "cell_type": "code",
   "execution_count": 135,
   "metadata": {},
   "outputs": [
    {
     "data": {
      "text/plain": [
       "VotingClassifier(estimators=[('kNN', KNeighborsClassifier(algorithm='auto', leaf_size=30, metric='minkowski',\n",
       "           metric_params=None, n_jobs=1, n_neighbors=98, p=2,\n",
       "           weights='uniform')), ('LR', LogisticRegression(C=1e-07, class_weight=None, dual=False, fit_intercept=True,\n",
       "          intercept_scaling=1, max_iter=100, multi_class='ovr', n_jobs=1,\n",
       "          penalty='l2', random_state=None, solver='liblinear', tol=0.0001,\n",
       "          verbose=0, warm_start=False))],\n",
       "         flatten_transform=None, n_jobs=1, voting='soft',\n",
       "         weights=[0.4, 0.6])"
      ]
     },
     "execution_count": 135,
     "metadata": {},
     "output_type": "execute_result"
    }
   ],
   "source": [
    "model.fit(X_scaled, df['target'])"
   ]
  },
  {
   "cell_type": "code",
   "execution_count": 136,
   "metadata": {},
   "outputs": [],
   "source": [
    "preds = model.predict_proba(X_test_scaled)[:, 1]"
   ]
  },
  {
   "cell_type": "markdown",
   "metadata": {},
   "source": [
    "### Готовим предсказания на отправку"
   ]
  },
  {
   "cell_type": "code",
   "execution_count": 138,
   "metadata": {},
   "outputs": [],
   "source": [
    "df_test['target'] = preds"
   ]
  },
  {
   "cell_type": "code",
   "execution_count": 139,
   "metadata": {},
   "outputs": [],
   "source": [
    "df_test = df_test[['target']]"
   ]
  },
  {
   "cell_type": "code",
   "execution_count": 140,
   "metadata": {},
   "outputs": [],
   "source": [
    "df_test.to_csv('./submition.csv')"
   ]
  },
  {
   "cell_type": "code",
   "execution_count": null,
   "metadata": {},
   "outputs": [],
   "source": []
  },
  {
   "cell_type": "code",
   "execution_count": null,
   "metadata": {},
   "outputs": [],
   "source": []
  },
  {
   "cell_type": "code",
   "execution_count": null,
   "metadata": {},
   "outputs": [],
   "source": []
  },
  {
   "cell_type": "code",
   "execution_count": null,
   "metadata": {},
   "outputs": [],
   "source": []
  },
  {
   "cell_type": "code",
   "execution_count": null,
   "metadata": {},
   "outputs": [],
   "source": []
  },
  {
   "cell_type": "code",
   "execution_count": null,
   "metadata": {},
   "outputs": [],
   "source": []
  },
  {
   "cell_type": "code",
   "execution_count": null,
   "metadata": {},
   "outputs": [],
   "source": []
  },
  {
   "cell_type": "code",
   "execution_count": null,
   "metadata": {},
   "outputs": [],
   "source": []
  },
  {
   "cell_type": "code",
   "execution_count": null,
   "metadata": {},
   "outputs": [],
   "source": []
  },
  {
   "cell_type": "code",
   "execution_count": null,
   "metadata": {},
   "outputs": [],
   "source": []
  },
  {
   "cell_type": "code",
   "execution_count": null,
   "metadata": {},
   "outputs": [],
   "source": []
  },
  {
   "cell_type": "markdown",
   "metadata": {},
   "source": [
    "_____"
   ]
  },
  {
   "cell_type": "markdown",
   "metadata": {},
   "source": [
    "_____"
   ]
  },
  {
   "cell_type": "markdown",
   "metadata": {},
   "source": [
    "_____"
   ]
  },
  {
   "cell_type": "markdown",
   "metadata": {},
   "source": [
    "_____"
   ]
  },
  {
   "cell_type": "markdown",
   "metadata": {},
   "source": [
    "_____"
   ]
  },
  {
   "cell_type": "markdown",
   "metadata": {},
   "source": [
    "_____"
   ]
  },
  {
   "cell_type": "markdown",
   "metadata": {},
   "source": [
    "_____"
   ]
  }
 ],
 "metadata": {
  "kernelspec": {
   "display_name": "Python 3",
   "language": "python",
   "name": "python3"
  },
  "language_info": {
   "codemirror_mode": {
    "name": "ipython",
    "version": 3
   },
   "file_extension": ".py",
   "mimetype": "text/x-python",
   "name": "python",
   "nbconvert_exporter": "python",
   "pygments_lexer": "ipython3",
   "version": "3.7.4"
  }
 },
 "nbformat": 4,
 "nbformat_minor": 2
}
