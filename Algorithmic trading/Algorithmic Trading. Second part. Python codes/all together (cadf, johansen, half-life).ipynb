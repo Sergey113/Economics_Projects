{
 "cells": [
  {
   "cell_type": "code",
   "execution_count": 1,
   "metadata": {},
   "outputs": [
    {
     "data": {
      "text/plain": [
       "<Figure size 640x480 with 1 Axes>"
      ]
     },
     "metadata": {},
     "output_type": "display_data"
    },
    {
     "data": {
      "text/plain": [
       "<Figure size 640x480 with 1 Axes>"
      ]
     },
     "metadata": {},
     "output_type": "display_data"
    },
    {
     "name": "stdout",
     "output_type": "stream",
     "text": [
      "Intercept    6.411331\n",
      "EWA          0.962429\n",
      "dtype: float64\n",
      "hedgeRatio=0.962429\n"
     ]
    },
    {
     "data": {
      "text/plain": [
       "<Figure size 640x480 with 1 Axes>"
      ]
     },
     "metadata": {},
     "output_type": "display_data"
    },
    {
     "name": "stdout",
     "output_type": "stream",
     "text": [
      "(-3.063528097618719, 0.09586561374353242, array([-3.90376106, -3.34020915, -3.04728056]))\n",
      "t-statistic=-3.063528\n",
      "pvalue=0.095866\n",
      "[-3.90376106 -3.34020915 -3.04728056]\n",
      "Johansen test\n",
      "[19.98321869  3.98276124]\n",
      "[[13.4294 15.4943 19.9349]\n",
      " [ 2.7055  3.8415  6.6349]]\n",
      "[16.00045745  3.98276124]\n",
      "[[12.2971 14.2639 18.52  ]\n",
      " [ 2.7055  3.8415  6.6349]]\n",
      "Add IGE for Johansen test\n",
      "[34.42862022 17.53171895  4.47102054]\n",
      "[[27.0669 29.7961 35.4628]\n",
      " [13.4294 15.4943 19.9349]\n",
      " [ 2.7055  3.8415  6.6349]]\n",
      "[16.89690127 13.06069841  4.47102054]\n",
      "[[18.8928 21.1314 25.865 ]\n",
      " [12.2971 14.2639 18.52  ]\n",
      " [ 2.7055  3.8415  6.6349]]\n",
      "eigenvalues\n",
      "[0.01121626 0.00868086 0.00298021]\n",
      "eigenvectors\n",
      "[[ 0.7599635  -0.11204898  0.0789828 ]\n",
      " [-1.04602749 -0.5796762   0.26467204]\n",
      " [ 0.22330592  0.53159644 -0.09515547]]\n",
      "Intercept   -0.115768\n",
      "ylag        -0.030586\n",
      "dtype: float64\n",
      "halflife=22.662578 days\n",
      "APR=0.125739 Sharpe=1.402653\n"
     ]
    }
   ],
   "source": [
    "# Using the CADF test for cointegration\n",
    "\n",
    "import numpy as np\n",
    "import pandas as pd\n",
    "import matplotlib.pyplot as plt\n",
    "import statsmodels.formula.api as sm\n",
    "import statsmodels.tsa.stattools as ts\n",
    "import statsmodels.tsa.vector_ar.vecm as vm\n",
    "\n",
    "df=pd.read_csv('data\\inputData_EWA_EWC_IGE.csv')\n",
    "df['Date']=pd.to_datetime(df['Date'],  format='%Y%m%d').dt.date # remove HH:MM:SS\n",
    "df.set_index('Date', inplace=True)\n",
    "\n",
    "\n",
    "df.plot()\n",
    "df.plot.scatter(x='EWA', y='EWC')\n",
    "plt.xlabel('EWA share price')\n",
    "plt.ylabel('EWC share price')\n",
    "plt.xlabel('April 4,2006, to April 9,2012')\n",
    "plt.ylabel('Share price $')\n",
    "plt.show()\n",
    "results=sm.ols(formula=\"EWC ~ EWA\", data=df[['EWA', 'EWC']]).fit()\n",
    "print(results.params)\n",
    "hedgeRatio=results.params[1]\n",
    "print('hedgeRatio=%f' % hedgeRatio)\n",
    "\n",
    "(df['EWC']-hedgeRatio*df['EWA']).plot()\n",
    "plt.xlabel('Stationarity of Residuals of Linear ')\n",
    "plt.ylabel('EWC - hedgeRatio*EWA')\n",
    "plt.show()\n",
    "\n",
    "print(ts.coint(df['EWA'], df['EWC']))\n",
    "\n",
    "# cadf test\n",
    "coint_t, pvalue, crit_value=ts.coint(df['EWA'], df['EWC'])\n",
    "print('t-statistic=%f' % coint_t)\n",
    "print('pvalue=%f' % pvalue)\n",
    "print(crit_value)\n",
    "\n",
    "# Johansen test\n",
    "result=vm.coint_johansen(df[['EWA', 'EWC']].values, det_order=0, k_ar_diff=1)\n",
    "print('Johansen test')\n",
    "print(result.lr1)\n",
    "print(result.cvt)\n",
    "print(result.lr2)\n",
    "print(result.cvm)\n",
    "\n",
    "# Add IGE for Johansen test\n",
    "result=vm.coint_johansen(df.values, det_order=0, k_ar_diff=1)\n",
    "print('Add IGE for Johansen test')\n",
    "print(result.lr1)\n",
    "print(result.cvt)\n",
    "print(result.lr2)\n",
    "print(result.cvm)\n",
    "\n",
    "print('eigenvalues')\n",
    "print(result.eig)  # eigenvalues\n",
    "print('eigenvectors')\n",
    "print(result.evec)  # eigenvectors\n",
    "\n",
    "yport=pd.DataFrame(np.dot(df.values, result.evec[:, 0])) #  (net) market value of portfolio\n",
    "\n",
    "ylag=yport.shift()\n",
    "deltaY=yport-ylag\n",
    "df2=pd.concat([ylag, deltaY], axis=1)\n",
    "df2.columns=['ylag', 'deltaY']\n",
    "regress_results=sm.ols(formula=\"deltaY ~ ylag\", data=df2).fit() # Note this can deal with NaN in top row\n",
    "print(regress_results.params)\n",
    "\n",
    "halflife=-np.log(2)/regress_results.params['ylag']\n",
    "print('halflife=%f days' % halflife)\n",
    "\n",
    "#  Apply a simple linear mean reversion strategy to EWA-EWC-IGE\n",
    "lookback=np.round(halflife).astype(int) #  setting lookback to the halflife found above\n",
    "numUnits =-(yport-yport.rolling(lookback).mean())/yport.rolling(lookback).std() # capital invested in portfolio in dollars.  movingAvg and movingStd are functions from epchan.com/book2\n",
    "positions=pd.DataFrame(np.dot(numUnits.values, np.expand_dims(result.evec[:, 0], axis=1).T)*df.values) # results.evec(:, 1)' can be viewed as the capital allocation, while positions is the dollar capital in each ETF.\n",
    "pnl=np.sum((positions.shift().values)*(df.pct_change().values), axis=1) # daily P&L of the strategy\n",
    "ret=pnl/np.sum(np.abs(positions.shift()), axis=1)\n",
    "(np.cumprod(1+ret)-1).plot()\n",
    "print('APR=%f Sharpe=%f' % (np.prod(1+ret)**(252/len(ret))-1, np.sqrt(252)*np.mean(ret)/np.std(ret)))\n",
    "# APR=0.125739 Sharpe=1.391310\n"
   ]
  },
  {
   "cell_type": "code",
   "execution_count": 2,
   "metadata": {},
   "outputs": [
    {
     "data": {
      "text/plain": [
       "-0.030585539965171365"
      ]
     },
     "execution_count": 2,
     "metadata": {},
     "output_type": "execute_result"
    }
   ],
   "source": [
    "regress_results.params['ylag']"
   ]
  },
  {
   "cell_type": "code",
   "execution_count": 4,
   "metadata": {},
   "outputs": [
    {
     "data": {
      "text/plain": [
       "Intercept   -0.115768\n",
       "ylag        -0.030586\n",
       "dtype: float64"
      ]
     },
     "execution_count": 4,
     "metadata": {},
     "output_type": "execute_result"
    }
   ],
   "source": [
    "regress_results.params"
   ]
  },
  {
   "cell_type": "code",
   "execution_count": null,
   "metadata": {},
   "outputs": [],
   "source": []
  }
 ],
 "metadata": {
  "kernelspec": {
   "display_name": "Python 3",
   "language": "python",
   "name": "python3"
  },
  "language_info": {
   "codemirror_mode": {
    "name": "ipython",
    "version": 3
   },
   "file_extension": ".py",
   "mimetype": "text/x-python",
   "name": "python",
   "nbconvert_exporter": "python",
   "pygments_lexer": "ipython3",
   "version": "3.7.4"
  }
 },
 "nbformat": 4,
 "nbformat_minor": 2
}
