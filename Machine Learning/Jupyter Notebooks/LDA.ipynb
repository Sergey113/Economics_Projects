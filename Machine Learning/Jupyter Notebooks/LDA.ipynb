{
 "cells": [
  {
   "cell_type": "code",
   "execution_count": 1,
   "metadata": {},
   "outputs": [],
   "source": [
    "import time\n",
    "import itertools\n",
    "import os\n",
    "import re\n",
    "import json\n",
    "import pickle\n",
    "from tqdm.notebook import tqdm\n",
    "\n",
    "import numpy as np\n",
    "import scipy\n",
    "import pandas as pd\n",
    "import matplotlib\n",
    "import matplotlib.pyplot as plt\n",
    "import seaborn as sns\n",
    "%matplotlib inline\n",
    "\n",
    "import gensim\n",
    "import spacy\n",
    "# для подсвечивания слов\n",
    "from ipymarkup import show_box_markup"
   ]
  },
  {
   "cell_type": "code",
   "execution_count": 2,
   "metadata": {},
   "outputs": [],
   "source": [
    "matplotlib.rcParams['figure.figsize'] = (8, 8)\n",
    "sns.set_style('whitegrid')"
   ]
  },
  {
   "cell_type": "markdown",
   "metadata": {},
   "source": [
    " "
   ]
  },
  {
   "cell_type": "code",
   "execution_count": 3,
   "metadata": {},
   "outputs": [],
   "source": [
    "colors = np.array(['red', 'blue', 'green', 'yellow', 'orange', 'purple', 'pink', 'brown', 'black', \n",
    "                   'limegreen'])"
   ]
  },
  {
   "cell_type": "code",
   "execution_count": 4,
   "metadata": {},
   "outputs": [],
   "source": [
    "from sklearn.datasets import fetch_20newsgroups"
   ]
  },
  {
   "cell_type": "code",
   "execution_count": 5,
   "metadata": {},
   "outputs": [],
   "source": [
    "data = fetch_20newsgroups()['data']\n",
    "target = np.array(fetch_20newsgroups()['target_names'])[fetch_20newsgroups()['target']]"
   ]
  },
  {
   "cell_type": "code",
   "execution_count": 6,
   "metadata": {},
   "outputs": [
    {
     "data": {
      "application/vnd.jupyter.widget-view+json": {
       "model_id": "9eceea04c1484cb6be82b87c736d7bfe",
       "version_major": 2,
       "version_minor": 0
      },
      "text/plain": [
       "HBox(children=(FloatProgress(value=0.0, max=11314.0), HTML(value='')))"
      ]
     },
     "metadata": {},
     "output_type": "display_data"
    },
    {
     "name": "stdout",
     "output_type": "stream",
     "text": [
      "\n"
     ]
    },
    {
     "data": {
      "application/vnd.jupyter.widget-view+json": {
       "model_id": "7ee39a1955fd4ce383d995c721443fa9",
       "version_major": 2,
       "version_minor": 0
      },
      "text/plain": [
       "HBox(children=(FloatProgress(value=0.0, max=11314.0), HTML(value='')))"
      ]
     },
     "metadata": {},
     "output_type": "display_data"
    },
    {
     "name": "stdout",
     "output_type": "stream",
     "text": [
      "\n"
     ]
    },
    {
     "data": {
      "application/vnd.jupyter.widget-view+json": {
       "model_id": "6c19e8960ccc4b0db2e40c047b1bbd5f",
       "version_major": 2,
       "version_minor": 0
      },
      "text/plain": [
       "HBox(children=(FloatProgress(value=0.0, max=11314.0), HTML(value='')))"
      ]
     },
     "metadata": {},
     "output_type": "display_data"
    },
    {
     "name": "stdout",
     "output_type": "stream",
     "text": [
      "\n"
     ]
    },
    {
     "data": {
      "application/vnd.jupyter.widget-view+json": {
       "model_id": "32f2c68bbdb2430db87528ab89638648",
       "version_major": 2,
       "version_minor": 0
      },
      "text/plain": [
       "HBox(children=(FloatProgress(value=0.0, max=11314.0), HTML(value='')))"
      ]
     },
     "metadata": {},
     "output_type": "display_data"
    },
    {
     "name": "stdout",
     "output_type": "stream",
     "text": [
      "\n"
     ]
    }
   ],
   "source": [
    "# Remove Emails\n",
    "processed_data = [re.sub('\\S*@\\S*\\s?', '', sent) for sent in tqdm(data)]\n",
    "\n",
    "# Remove new line characters\n",
    "processed_data = [re.sub('\\s+', ' ', sent) for sent in tqdm(data)]\n",
    "\n",
    "# Remove distracting single quotes\n",
    "processed_data = [re.sub(\"\\'\", \"\", sent) for sent in tqdm(data)]\n",
    "\n",
    "# Убираем заголовки письма:\n",
    "processed_data2 = []\n",
    "for text in tqdm(processed_data):\n",
    "    for val in re.findall(r'\\w+:.+\\n', text):\n",
    "        if 'subject' not in val:\n",
    "            text = text.replace(val, '')\n",
    "    processed_data2.append(text)"
   ]
  },
  {
   "cell_type": "code",
   "execution_count": 7,
   "metadata": {},
   "outputs": [
    {
     "name": "stdout",
     "output_type": "stream",
     "text": [
      "k: 369\n",
      "target: talk.politics.misc \n",
      "\n",
      "\n",
      "text--------------------------------------------------\n",
      "\n",
      "From: riggs@descartes.etl.army.mil (Bill Riggs)\n",
      "Subject: Re: hard times investments was: (no subject given)\n",
      "Organization: LNK Corporation, Riverdale, MD\n",
      "Lines: 50\n",
      "Nntp-Posting-Host: descartes.tec.army.mil\n",
      "\n",
      "In article <1pkvcl$nu0@usenet.INS.CWRU.Edu> an030@cleveland.Freenet.Edu (Broward Horne) writes:\n",
      ">\n",
      ">In a previous article, riggs@descartes.etl.army.mil (Bill Riggs) says:\n",
      ">\n",
      ">>so much land, and in the long run, we have a zero sum game going. Someone,\n",
      ">>somewhere, is going to make a killing from nosediving real estate\n",
      ">>markets. The worst thing to do is panic. The best thing you can do is\n",
      ">>to ride out deflation to the end. It hurts, but you're better off \n",
      ">>than if you sell short and donate to someone else's inheritance.\n",
      ">\n",
      ">\n",
      ">      Sad.  Paradigm Shift is coming, chum.\n",
      ">     Ride the WAVE!\n",
      "\n",
      "\tI don't believe in the \"Wave Theory\".\n",
      "\n",
      ">\n",
      ">     \" There's only so much land \".   Oh, God, is this Mike Zimmer's\n",
      ">    replacement?!\n",
      "\n",
      "\tMy mother-in-law, who grew up in Germany, doesn't believe in \n",
      "money at all. She started out as a real estate developer, and now raises\n",
      "horses. She keeps telling me that inflation is coming back, and to lock\n",
      "in my fixed rate mortgage as low as possible.\n",
      "\n",
      ">\n",
      ">     Here, let me spell it out for you.\n",
      ">\n",
      ">     Can you spell TWO TRILLION DOLLAR BANK BAILOUT?\n",
      "\n",
      "\tMaybe you'd like to invest in some foreign currency.\n",
      "\n",
      "\tWhich one would you guess to come out on top ?\n",
      "\n",
      "\t(Sigh - speculators never learn.)\n",
      "\n",
      "\n",
      "\n",
      "Bill R.\n",
      "\n",
      "--\n",
      "\n",
      "\"The only proposals in the Senate that I         \"My opinions do not represent\n",
      "have seen fit to mention are particularly        those of my employer or\n",
      "praiseworthy or particularly scandalous ones.    any government agency.\"\n",
      "It seems to me that the historian's foremost     - Bill Riggs\n",
      "duty is to ensure that virtue is remembered,\n",
      "and to deter evil words and deeds with the\n",
      "fear of posterity's damnation.\"\n",
      "- Tacitus, _Annals_ III. 65\n",
      "\n",
      "processed_text--------------------------------------------------------------------------------\n",
      "\n",
      "From: riggs@descartes.etl.army.mil (Bill Riggs)\n",
      "Subject: Re: hard times investments was: (no subject given)\n",
      "Organization: LNK Corporation, Riverdale, MD\n",
      "Lines: 50\n",
      "Nntp-Posting-Host: descartes.tec.army.mil\n",
      "\n",
      "In article <1pkvcl$nu0@usenet.INS.CWRU.Edu> an030@cleveland.Freenet.Edu (Broward Horne) writes:\n",
      ">\n",
      ">In a previous article, riggs@descartes.etl.army.mil (Bill Riggs) says:\n",
      ">\n",
      ">>so much land, and in the long run, we have a zero sum game going. Someone,\n",
      ">>somewhere, is going to make a killing from nosediving real estate\n",
      ">>markets. The worst thing to do is panic. The best thing you can do is\n",
      ">>to ride out deflation to the end. It hurts, but youre better off \n",
      ">>than if you sell short and donate to someone elses inheritance.\n",
      ">\n",
      ">\n",
      ">      Sad.  Paradigm Shift is coming, chum.\n",
      ">     Ride the WAVE!\n",
      "\n",
      "\tI dont believe in the \"Wave Theory\".\n",
      "\n",
      ">\n",
      ">     \" Theres only so much land \".   Oh, God, is this Mike Zimmers\n",
      ">    replacement?!\n",
      "\n",
      "\tMy mother-in-law, who grew up in Germany, doesnt believe in \n",
      "money at all. She started out as a real estate developer, and now raises\n",
      "horses. She keeps telling me that inflation is coming back, and to lock\n",
      "in my fixed rate mortgage as low as possible.\n",
      "\n",
      ">\n",
      ">     Here, let me spell it out for you.\n",
      ">\n",
      ">     Can you spell TWO TRILLION DOLLAR BANK BAILOUT?\n",
      "\n",
      "\tMaybe youd like to invest in some foreign currency.\n",
      "\n",
      "\tWhich one would you guess to come out on top ?\n",
      "\n",
      "\t(Sigh - speculators never learn.)\n",
      "\n",
      "\n",
      "\n",
      "Bill R.\n",
      "\n",
      "--\n",
      "\n",
      "\"The only proposals in the Senate that I         \"My opinions do not represent\n",
      "have seen fit to mention are particularly        those of my employer or\n",
      "praiseworthy or particularly scandalous ones.    any government agency.\"\n",
      "It seems to me that the historians foremost     - Bill Riggs\n",
      "duty is to ensure that virtue is remembered,\n",
      "and to deter evil words and deeds with the\n",
      "fear of posteritys damnation.\"\n",
      "- Tacitus, _Annals_ III. 65\n",
      "\n",
      "--------------------------------------------------------------------------------\n"
     ]
    }
   ],
   "source": [
    "k = np.random.randint(0, len(data))\n",
    "print('k:', k)\n",
    "print('target:', target[k], '\\n'*2)\n",
    "print('text' + '-'*50 + '\\n')\n",
    "print(data[k])\n",
    "print('processed_text' + '-'*80 + '\\n')\n",
    "print(processed_data[k])\n",
    "print('-'*80)"
   ]
  },
  {
   "cell_type": "code",
   "execution_count": 139,
   "metadata": {
    "scrolled": true
   },
   "outputs": [
    {
     "data": {
      "application/vnd.jupyter.widget-view+json": {
       "model_id": "ec81df1b67704cdab1d8b8f05fc46d6b",
       "version_major": 2,
       "version_minor": 0
      },
      "text/plain": [
       "HBox(children=(FloatProgress(value=0.0, max=11314.0), HTML(value='')))"
      ]
     },
     "metadata": {},
     "output_type": "display_data"
    },
    {
     "name": "stdout",
     "output_type": "stream",
     "text": [
      "\n"
     ]
    }
   ],
   "source": [
    "# Лемматизация и удаление стоп-слов:\n",
    "from nltk.corpus import stopwords\n",
    "stop_words = stopwords.words('english')\n",
    "stop_words.extend(['from', 'subject', 're', 'edu', 'use', 'be', 'the', 'is', '-PRON-', 'would', \n",
    "                  'one', 'get', 'like', 'know', 'make', 'say', 'think', 'go'])\n",
    "stop_words = set(stop_words)\n",
    "\n",
    "nlp = spacy.load('en', disable=['parser', 'ner'])\n",
    "\n",
    "texts = []\n",
    "for text in tqdm(processed_data2):\n",
    "    sentence = ' '.join(gensim.utils.simple_preprocess(text, deacc=True))\n",
    "    texts.append([word.lemma_ for word in nlp(sentence) if word.lemma_ not in stop_words])\n"
   ]
  },
  {
   "cell_type": "code",
   "execution_count": 163,
   "metadata": {},
   "outputs": [
    {
     "data": {
      "text/plain": [
       "'nntp posting wonder anyone could enlighten car see day door sport car look late early call bricklin door really small addition front bumper separate rest body anyone tellme model name engine spec year production car history whatever info funky look car please mail thank il bring neighborhood lerxst'"
      ]
     },
     "execution_count": 163,
     "metadata": {},
     "output_type": "execute_result"
    }
   ],
   "source": [
    "' '.join(texts[0])"
   ]
  },
  {
   "cell_type": "code",
   "execution_count": 140,
   "metadata": {},
   "outputs": [
    {
     "name": "stdout",
     "output_type": "stream",
     "text": [
      "CPU times: user 1.22 s, sys: 66.6 ms, total: 1.29 s\n",
      "Wall time: 1.51 s\n"
     ]
    }
   ],
   "source": [
    "%%time\n",
    "json.dump(texts, open('/Users/tony/Desktop/.processed_20newsgroups.json', mode='w', \n",
    "                      encoding='utf-8'), ensure_ascii=False, indent=2);"
   ]
  },
  {
   "cell_type": "code",
   "execution_count": 141,
   "metadata": {},
   "outputs": [
    {
     "name": "stdout",
     "output_type": "stream",
     "text": [
      "CPU times: user 672 ms, sys: 242 ms, total: 914 ms\n",
      "Wall time: 1.47 s\n"
     ]
    }
   ],
   "source": [
    "%%time\n",
    "texts = json.load(open('/Users/tony/Desktop/.processed_20newsgroups.json', mode='r', encoding='utf-8'))"
   ]
  },
  {
   "cell_type": "code",
   "execution_count": 142,
   "metadata": {},
   "outputs": [],
   "source": [
    "from gensim import corpora"
   ]
  },
  {
   "cell_type": "code",
   "execution_count": 143,
   "metadata": {},
   "outputs": [],
   "source": [
    "# Create Dictionary\n",
    "id2word = corpora.Dictionary(texts)\n",
    "\n",
    "# Term Document Frequency\n",
    "corpus = [id2word.doc2bow(text) for text in texts]"
   ]
  },
  {
   "cell_type": "code",
   "execution_count": 144,
   "metadata": {},
   "outputs": [
    {
     "name": "stdout",
     "output_type": "stream",
     "text": [
      "CPU times: user 7min 31s, sys: 38.5 s, total: 8min 9s\n",
      "Wall time: 4min 50s\n"
     ]
    }
   ],
   "source": [
    "%%time\n",
    "lda_model = gensim.models.ldamodel.LdaModel(corpus=corpus,\n",
    "                                           id2word=id2word,\n",
    "                                           num_topics=20, \n",
    "                                           random_state=100,\n",
    "                                           update_every=1,\n",
    "                                           chunksize=100,\n",
    "                                           passes=10,\n",
    "                                           alpha='auto',\n",
    "                                           per_word_topics=True)"
   ]
  },
  {
   "cell_type": "code",
   "execution_count": 145,
   "metadata": {},
   "outputs": [],
   "source": [
    "# pickle.dump(lda_model, open('/Users/tony/Desktop/lda_model.pkl', mode='wb'))\n",
    "lda_model_new = pickle.load(open('/Users/tony/Desktop/lda_model.pkl', mode='rb'))"
   ]
  },
  {
   "cell_type": "code",
   "execution_count": 166,
   "metadata": {},
   "outputs": [
    {
     "data": {
      "text/plain": [
       "[(0,\n",
       "  '0.045*\"israel\" + 0.019*\"war\" + 0.019*\"soldier\" + 0.018*\"village\" + 0.015*\"turkish\" + 0.014*\"jews\" + 0.013*\"attack\" + 0.013*\"president\" + 0.012*\"kill\" + 0.012*\"occupy\"'),\n",
       " (1,\n",
       "  '0.044*\"god\" + 0.024*\"evidence\" + 0.021*\"believe\" + 0.019*\"reason\" + 0.015*\"claim\" + 0.014*\"sense\" + 0.013*\"talk\" + 0.012*\"exist\" + 0.012*\"faith\" + 0.011*\"christian\"'),\n",
       " (2,\n",
       "  '0.015*\"program\" + 0.013*\"thank\" + 0.013*\"mail\" + 0.012*\"file\" + 0.012*\"information\" + 0.011*\"include\" + 0.011*\"send\" + 0.010*\"please\" + 0.010*\"number\" + 0.009*\"available\"'),\n",
       " (3,\n",
       "  '0.046*\"team\" + 0.043*\"game\" + 0.034*\"win\" + 0.032*\"play\" + 0.027*\"year\" + 0.016*\"season\" + 0.015*\"vs\" + 0.014*\"division\" + 0.014*\"wing\" + 0.014*\"fan\"'),\n",
       " (4,\n",
       "  '0.076*\"window\" + 0.040*\"entry\" + 0.034*\"master\" + 0.033*\"video\" + 0.031*\"graphic\" + 0.024*\"driver\" + 0.023*\"dos\" + 0.023*\"monitor\" + 0.023*\"st\" + 0.022*\"screen\"'),\n",
       " (5,\n",
       "  '0.081*\"patient\" + 0.053*\"health\" + 0.048*\"disease\" + 0.042*\"eat\" + 0.041*\"medical\" + 0.033*\"treatment\" + 0.030*\"wa\" + 0.030*\"doctor\" + 0.028*\"pitt\" + 0.023*\"cap\"'),\n",
       " (6,\n",
       "  '0.103*\"key\" + 0.038*\"chip\" + 0.028*\"encryption\" + 0.028*\"clipper\" + 0.026*\"public\" + 0.025*\"cd\" + 0.022*\"security\" + 0.019*\"government\" + 0.018*\"cup\" + 0.017*\"agency\"'),\n",
       " (7,\n",
       "  '0.059*\"family\" + 0.054*\"att\" + 0.040*\"cb\" + 0.035*\"nj\" + 0.031*\"nec\" + 0.028*\"intel\" + 0.022*\"oo\" + 0.021*\"strip\" + 0.021*\"stephen\" + 0.021*\"isc\"'),\n",
       " (8,\n",
       "  '0.057*\"gun\" + 0.044*\"physical\" + 0.029*\"weapon\" + 0.024*\"safety\" + 0.024*\"crime\" + 0.020*\"police\" + 0.019*\"fire\" + 0.018*\"firearm\" + 0.016*\"carry\" + 0.016*\"direct\"'),\n",
       " (9,\n",
       "  '0.050*\"pa\" + 0.046*\"la\" + 0.045*\"server\" + 0.044*\"md\" + 0.032*\"united\" + 0.029*\"states\" + 0.029*\"mr\" + 0.027*\"trust\" + 0.023*\"mi\" + 0.022*\"ss\"'),\n",
       " (10,\n",
       "  '0.669*\"ax\" + 0.055*\"max\" + 0.023*\"el\" + 0.014*\"sc\" + 0.012*\"mu\" + 0.008*\"ga\" + 0.007*\"benefit\" + 0.005*\"louis\" + 0.005*\"wm\" + 0.004*\"guilty\"'),\n",
       " (11,\n",
       "  '0.053*\"drug\" + 0.037*\"format\" + 0.035*\"motif\" + 0.032*\"du\" + 0.030*\"tax\" + 0.028*\"ohio\" + 0.016*\"besides\" + 0.016*\"imaging\" + 0.014*\"mph\" + 0.013*\"centre\"'),\n",
       " (12,\n",
       "  '0.024*\"write\" + 0.018*\"article\" + 0.016*\"com\" + 0.012*\"well\" + 0.011*\"nntp\" + 0.011*\"time\" + 0.011*\"good\" + 0.011*\"posting\" + 0.010*\"see\" + 0.009*\"could\"'),\n",
       " (13,\n",
       "  '0.021*\"air\" + 0.017*\"station\" + 0.017*\"au\" + 0.017*\"research\" + 0.016*\"dc\" + 0.016*\"listen\" + 0.015*\"dr\" + 0.014*\"hot\" + 0.014*\"jet\" + 0.013*\"april\"'),\n",
       " (14,\n",
       "  '0.102*\"space\" + 0.059*\"player\" + 0.054*\"nasa\" + 0.048*\"gov\" + 0.033*\"te\" + 0.032*\"launch\" + 0.028*\"orbit\" + 0.024*\"earth\" + 0.023*\"mission\" + 0.021*\"baseball\"'),\n",
       " (15,\n",
       "  '0.035*\"drive\" + 0.020*\"card\" + 0.018*\"system\" + 0.015*\"mac\" + 0.013*\"computer\" + 0.012*\"mb\" + 0.011*\"buy\" + 0.011*\"machine\" + 0.011*\"price\" + 0.011*\"disk\"'),\n",
       " (16,\n",
       "  '0.091*\"car\" + 0.038*\"bike\" + 0.027*\"engine\" + 0.023*\"dod\" + 0.023*\"ride\" + 0.021*\"replace\" + 0.020*\"road\" + 0.020*\"dealer\" + 0.017*\"cop\" + 0.017*\"buy\"'),\n",
       " (17,\n",
       "  '0.061*\"period\" + 0.040*\"plane\" + 0.038*\"pp\" + 0.035*\"pd\" + 0.028*\"nt\" + 0.025*\"host\" + 0.018*\"investigate\" + 0.015*\"positively\" + 0.014*\"kaldis\" + 0.010*\"theodore\"'),\n",
       " (18,\n",
       "  '0.043*\"people\" + 0.017*\"state\" + 0.016*\"right\" + 0.013*\"law\" + 0.011*\"issue\" + 0.011*\"group\" + 0.011*\"person\" + 0.011*\"jesus\" + 0.010*\"child\" + 0.009*\"case\"'),\n",
       " (19,\n",
       "  '0.041*\"moon\" + 0.037*\"rider\" + 0.025*\"dual\" + 0.022*\"lunar\" + 0.022*\"cbr\" + 0.020*\"harvard\" + 0.020*\"decent\" + 0.020*\"sr\" + 0.018*\"duo\" + 0.018*\"planetary\"')]"
      ]
     },
     "execution_count": 166,
     "metadata": {},
     "output_type": "execute_result"
    }
   ],
   "source": [
    "lda_model.print_topics()"
   ]
  },
  {
   "cell_type": "code",
   "execution_count": 146,
   "metadata": {},
   "outputs": [],
   "source": [
    "import pyLDAvis\n",
    "import pyLDAvis.gensim \n",
    "pyLDAvis.enable_notebook()"
   ]
  },
  {
   "cell_type": "code",
   "execution_count": 88,
   "metadata": {},
   "outputs": [],
   "source": [
    "# %%time\n",
    "# vis = pyLDAvis.gensim.prepare(lda_model, corpus, dictionary=lda_model.id2word) \n",
    "# pyLDAvis.display(vis)"
   ]
  },
  {
   "cell_type": "code",
   "execution_count": 147,
   "metadata": {},
   "outputs": [
    {
     "data": {
      "application/vnd.jupyter.widget-view+json": {
       "model_id": "cc43ef2b6e68460f8860970d78526bba",
       "version_major": 2,
       "version_minor": 0
      },
      "text/plain": [
       "HBox(children=(FloatProgress(value=1.0, bar_style='info', max=1.0), HTML(value='')))"
      ]
     },
     "metadata": {},
     "output_type": "display_data"
    },
    {
     "data": {
      "image/png": "[encoded data removed]",
      "text/plain": [
       "<Figure size 1152x1152 with 12 Axes>"
      ]
     },
     "metadata": {},
     "output_type": "display_data"
    }
   ],
   "source": [
    "from wordcloud import WordCloud, STOPWORDS\n",
    "import matplotlib.colors as mcolors\n",
    "\n",
    "cols = [color for name, color in mcolors.TABLEAU_COLORS.items()]  # more colors: 'mcolors.XKCD_COLORS'\n",
    "\n",
    "cloud = WordCloud(stopwords=stop_words,\n",
    "                  background_color='white',\n",
    "                  width=2500,\n",
    "                  height=1800,\n",
    "                  max_words=10,\n",
    "                  colormap='tab10',\n",
    "                  color_func=lambda *args, **kwargs: cols[i],\n",
    "                  prefer_horizontal=1.0)\n",
    "\n",
    "topics = lda_model.show_topics(formatted=False, num_topics=10)\n",
    "\n",
    "fig, axes = plt.subplots(4, 3, figsize=(16,16), sharex=True, sharey=True)\n",
    "\n",
    "for i, ax in tqdm(enumerate(axes.flatten())):\n",
    "    if i == len(topics):\n",
    "        break\n",
    "    fig.add_subplot(ax)\n",
    "    topic_words = dict(topics[i][1])\n",
    "    cloud.generate_from_frequencies(topic_words, max_font_size=300)\n",
    "    plt.gca().imshow(cloud)\n",
    "    plt.gca().set_title('Topic ' + str(i), fontdict=dict(size=16))\n",
    "    plt.gca().axis('off')\n",
    "\n",
    "\n",
    "plt.subplots_adjust(wspace=0, hspace=0)\n",
    "plt.axis('off')\n",
    "plt.margins(x=0, y=0)\n",
    "plt.tight_layout(h_pad=3)\n",
    "plt.show()"
   ]
  },
  {
   "cell_type": "code",
   "execution_count": null,
   "metadata": {},
   "outputs": [],
   "source": [
    "texts[]"
   ]
  },
  {
   "cell_type": "code",
   "execution_count": 156,
   "metadata": {},
   "outputs": [
    {
     "data": {
      "text/plain": [
       "[(12, 0.42729393),\n",
       " (16, 0.17145674),\n",
       " (15, 0.1534017),\n",
       " (2, 0.066259116),\n",
       " (13, 0.05183703),\n",
       " (9, 0.030444775),\n",
       " (18, 0.024641315),\n",
       " (3, 0.020825053),\n",
       " (8, 0.01295573),\n",
       " (0, 0.011631264),\n",
       " (5, 0.0105843)]"
      ]
     },
     "execution_count": 156,
     "metadata": {},
     "output_type": "execute_result"
    }
   ],
   "source": [
    "sorted(lda_model.get_document_topics(bow=corpus[k]), key=lambda x: x[1], reverse=True)"
   ]
  },
  {
   "cell_type": "code",
   "execution_count": 172,
   "metadata": {},
   "outputs": [
    {
     "data": {
      "text/plain": [
       "(15,\n",
       " '0.035*\"drive\" + 0.020*\"card\" + 0.018*\"system\" + 0.015*\"mac\" + 0.013*\"computer\" + 0.012*\"mb\" + 0.011*\"buy\" + 0.011*\"machine\" + 0.011*\"price\" + 0.011*\"disk\"')"
      ]
     },
     "execution_count": 172,
     "metadata": {},
     "output_type": "execute_result"
    }
   ],
   "source": [
    "lda_model.print_topics()[15]"
   ]
  },
  {
   "cell_type": "code",
   "execution_count": 150,
   "metadata": {},
   "outputs": [
    {
     "data": {
      "text/plain": [
       "'sci.space'"
      ]
     },
     "execution_count": 150,
     "metadata": {},
     "output_type": "execute_result"
    }
   ],
   "source": [
    "target[k]"
   ]
  },
  {
   "cell_type": "code",
   "execution_count": 155,
   "metadata": {},
   "outputs": [
    {
     "data": {
      "text/plain": [
       "'reply rec auto boyle cactus org craig boyle write xin article qgi einnhs skeena ucs ubc ca yiklam unixg ubc ca yik chong lam write hello anyone take bolt engine compartment turn clockwise counter try kind lubricant wd etc still fail electric drill change suitable bit turn succeed tighten tight safe without oil leak xassuming russian car opposite thread xyou turn professional xhelp may locate draing plug xactually try loosen something else xcraig thank much advance winson remind first time cousin oil change car crawl remove bolt drain fluid replace bolt carefully pour quart oil bother check dip stick drive far till find drain speed tran dump extra quart engine person help first time mack costello mcostell oasys dt navy mil code formerly david taylor model basin carderock division hq nswc bethesda md phone'"
      ]
     },
     "execution_count": 155,
     "metadata": {},
     "output_type": "execute_result"
    }
   ],
   "source": [
    "k = np.random.randint(len(texts))\n",
    "' '.join(texts[k])"
   ]
  },
  {
   "cell_type": "code",
   "execution_count": 168,
   "metadata": {},
   "outputs": [
    {
     "name": "stdout",
     "output_type": "stream",
     "text": [
      "From: mcostell@oasys.dt.navy.mil (Malcolm G. Costello)\n",
      "Subject: Re: Changing oil by self.\n",
      "Reply-To: mcostell@oasys.dt.navy.mil (Malcolm G. Costello)\n",
      "Distribution: usa\n",
      "Organization: Carderock Division, NSWC, Bethesda, MD\n",
      "Lines: 35\n",
      "\n",
      "In rec.autos, boyle@cactus.org (Craig Boyle) writes:\n",
      "xIn article <1qgi8eINNhs5@skeena.ucs.ubc.ca> yiklam@unixg.ubc.ca (Yik Chong Lam)\n",
      "x writes:\n",
      "x>Hello,\n",
      "x>\n",
      "x>       Does anyone know how to take out the bolt under the engine\n",
      "x>compartment?  Should I turn clockwise or counter?  I tried any kind\n",
      "x>of lubricants, WD-40,etc, but I still failed!\n",
      "x>       Do you think I can use a electric drill( change to a suitable\n",
      "x>bit ) to turn it out?  If I can succeed, can I re-tighten it not too\n",
      "x>tight, is it safe without oil leak?\n",
      "x\n",
      "xAssuming you don't have a Russian car with opposite threads, then\n",
      "xyou turn counterclockwise. I would get some professional\n",
      "xhelp here, you may not have located the draing plug and\n",
      "xactually be trying to loosen something else.\n",
      "x\n",
      "xCraig\n",
      "x>\n",
      "x>\n",
      "x>Thank you very much in advance------  Winson\n",
      "x>\n",
      " This reminds me of the first time my cousin did an oil change on his\n",
      "car. He crawled under, removed a bolt, drained the fluid, replaced the\n",
      "bolt, then carefully poured in 5 quarts of oil. Didn't bother to\n",
      "check the dip stick, just drove off. Didn't get too far till me found\n",
      "out that he'd drained the 4-speed trans and dumped an extra 5 quarts\n",
      "into the engine.:( MORAL: As Craig said don't be ashamed to get some\n",
      "*in person* help the first time.\n",
      "~~~~~~~~~~~~~~~~~~~~~~~~~~~~~~~~~~~~~~~~~~~~~~~~~~~~~~~~~~~~~~~~~~~~~~~\n",
      "Mack Costello <mcostell@oasys.dt.navy.mil> Code 65.1 (formerly 1720.1)\n",
      "David Taylor Model Basin, Carderock Division Hq. NSWC    ___/-\\____\n",
      "Bethesda, MD 20084-5000   Phone (301) 227-2431          (__________>|\n",
      "\n",
      "~~~~~~~~~~~~~~~~~~~~~~~~~~~~~~~~~~~~~~~~~~~~~~~~~~~~~~~~~~~~~~~~~~~~~~~\n",
      "\n"
     ]
    }
   ],
   "source": [
    "print(data[k])"
   ]
  },
  {
   "cell_type": "code",
   "execution_count": null,
   "metadata": {},
   "outputs": [],
   "source": []
  },
  {
   "cell_type": "code",
   "execution_count": null,
   "metadata": {},
   "outputs": [],
   "source": [
    "from wordcloud import WordCloud, STOPWORDS\n",
    "import matplotlib.colors as mcolors\n",
    "\n",
    "cols = [color for name, color in mcolors.TABLEAU_COLORS.items()]  # more colors: 'mcolors.XKCD_COLORS'\n",
    "\n",
    "cloud = WordCloud(stopwords=stop_words,\n",
    "                  background_color='white',\n",
    "                  width=2500,\n",
    "                  height=1800,\n",
    "                  max_words=10,\n",
    "                  colormap='tab10',\n",
    "                  color_func=lambda *args, **kwargs: cols[i],\n",
    "                  prefer_horizontal=1.0)\n",
    "\n",
    "topics = lda_model.show_topics(formatted=False, num_topics=10)\n",
    "\n",
    "fig, axes = plt.subplots(4, 3, figsize=(16,16), sharex=True, sharey=True)\n",
    "\n",
    "for i, ax in tqdm(enumerate(axes.flatten())):\n",
    "    if i == len(topics):\n",
    "        break\n",
    "    fig.add_subplot(ax)\n",
    "    topic_words = dict(topics[i][1])\n",
    "    cloud.generate_from_frequencies(topic_words, max_font_size=300)\n",
    "    plt.gca().imshow(cloud)\n",
    "    plt.gca().set_title('Topic ' + str(i), fontdict=dict(size=16))\n",
    "    plt.gca().axis('off')\n",
    "\n",
    "\n",
    "plt.subplots_adjust(wspace=0, hspace=0)\n",
    "plt.axis('off')\n",
    "plt.margins(x=0, y=0)\n",
    "plt.tight_layout(h_pad=3)\n",
    "plt.show()"
   ]
  },
  {
   "cell_type": "code",
   "execution_count": null,
   "metadata": {},
   "outputs": [],
   "source": []
  }
 ],
 "metadata": {
  "kernelspec": {
   "display_name": "Python 3",
   "language": "python",
   "name": "python3"
  },
  "language_info": {
   "codemirror_mode": {
    "name": "ipython",
    "version": 3
   },
   "file_extension": ".py",
   "mimetype": "text/x-python",
   "name": "python",
   "nbconvert_exporter": "python",
   "pygments_lexer": "ipython3",
   "version": "3.8.3"
  }
 },
 "nbformat": 4,
 "nbformat_minor": 2
}
