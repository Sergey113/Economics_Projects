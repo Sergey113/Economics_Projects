{
 "cells": [
  {
   "cell_type": "code",
   "execution_count": 264,
   "metadata": {},
   "outputs": [],
   "source": [
    "import os\n",
    "import sys\n",
    "import time\n",
    "from tqdm.notebook import tqdm\n",
    "import itertools\n",
    "from collections import Counter\n",
    "\n",
    "import numpy as np\n",
    "import pandas as pd\n",
    "import scipy\n",
    "import matplotlib\n",
    "import matplotlib.pyplot as plt\n",
    "import seaborn as sns\n",
    "\n",
    "%matplotlib inline"
   ]
  },
  {
   "cell_type": "code",
   "execution_count": 265,
   "metadata": {},
   "outputs": [],
   "source": [
    "SEED = 42\n",
    "matplotlib.rcParams['figure.figsize'] = (8, 8)\n",
    "sns.set_style('whitegrid')"
   ]
  },
  {
   "cell_type": "markdown",
   "metadata": {},
   "source": [
    " "
   ]
  },
  {
   "cell_type": "code",
   "execution_count": 266,
   "metadata": {},
   "outputs": [
    {
     "name": "stderr",
     "output_type": "stream",
     "text": [
      "//anaconda3/lib/python3.7/site-packages/ipykernel_launcher.py:1: FutureWarning: read_table is deprecated, use read_csv instead, passing sep='\\t'.\n",
      "  \"\"\"Entry point for launching an IPython kernel.\n",
      "//anaconda3/lib/python3.7/site-packages/ipykernel_launcher.py:2: FutureWarning: read_table is deprecated, use read_csv instead, passing sep='\\t'.\n",
      "  \n"
     ]
    }
   ],
   "source": [
    "data = pd.read_table('./raw_data/data.txt', header=None)\n",
    "test_ids = pd.read_table('./raw_data/test.txt', header=None)[0].values\n",
    "data.columns = ['id', 'text']"
   ]
  },
  {
   "cell_type": "code",
   "execution_count": 61,
   "metadata": {},
   "outputs": [
    {
     "data": {
      "application/vnd.jupyter.widget-view+json": {
       "model_id": "1b9654d5d4704d0787d1fba52bfe6f87",
       "version_major": 2,
       "version_minor": 0
      },
      "text/plain": [
       "HBox(children=(FloatProgress(value=0.0, max=148775.0), HTML(value='')))"
      ]
     },
     "metadata": {},
     "output_type": "display_data"
    },
    {
     "name": "stdout",
     "output_type": "stream",
     "text": [
      "\n"
     ]
    }
   ],
   "source": [
    "# Загружаем train.txt\n",
    "train_df = {'id': [], 'text': [], 'normal': [], 'insult': [], 'obscenity': [], 'threat': []}\n",
    "\n",
    "with open('./raw_data/train.txt', mode='r', encoding='utf-8') as f:\n",
    "    for row in tqdm(f, total=148775):\n",
    "        val = row.split('\\t')\n",
    "        train_df['id'].append(int(val[0]))\n",
    "        train_df['text'].append(val[-1])\n",
    "        \n",
    "        present_labels = [tag for tag in ['normal', 'insult', 'obscenity', 'threat'] if row.lower().find(tag) != -1]\n",
    "        nonpresent_labels = set(['normal', 'insult', 'obscenity', 'threat']) - set(present_labels)\n",
    "        for label in present_labels:\n",
    "            train_df[label].append(1)\n",
    "        for label in nonpresent_labels:\n",
    "            train_df[label].append(0)\n",
    "            \n",
    "train_df = pd.DataFrame(train_df)\n",
    "# Сохраняем train_df для дальнейшего обращения к нему\n",
    "# train_df.to_csv('./processed_data/train_df.csv', index=False)"
   ]
  },
  {
   "cell_type": "code",
   "execution_count": 207,
   "metadata": {},
   "outputs": [
    {
     "data": {
      "text/plain": [
       "set()"
      ]
     },
     "execution_count": 207,
     "metadata": {},
     "output_type": "execute_result"
    }
   ],
   "source": [
    "# Проверяем, что в data есть только индексы из train_df и test_df\n",
    "set(data['id']) - (set(train_df['id']) | set(test_ids))"
   ]
  },
  {
   "cell_type": "code",
   "execution_count": 139,
   "metadata": {},
   "outputs": [],
   "source": [
    "tags = ['normal', 'insult', 'obscenity', 'threat']"
   ]
  },
  {
   "cell_type": "code",
   "execution_count": 63,
   "metadata": {},
   "outputs": [],
   "source": [
    "# train_df = pd.read_csv('./processed_data/train_df.csv')"
   ]
  },
  {
   "cell_type": "markdown",
   "metadata": {},
   "source": [
    "### EDA"
   ]
  },
  {
   "cell_type": "code",
   "execution_count": 126,
   "metadata": {},
   "outputs": [
    {
     "name": "stdout",
     "output_type": "stream",
     "text": [
      "id: 194723\n",
      "----------------------------------------------------------------------------------------------------\n",
      "data[\"id\"]: 194723\n",
      "data[\"text\"]: не надо холодец - растает. не донесу я студень.(вокзал для двоих)\n",
      "----------------------------------------------------------------------------------------------------\n",
      "train_df[\"id\"]: 194723\n",
      "train_df[\"text\"]: не надо холодец - растает. не донесу я студень.(вокзал для двоих)\n",
      "\n",
      "train_df[\"labels\"]: ['normal']\n"
     ]
    }
   ],
   "source": [
    "# Проверим корректность сопоставления айдишников в data и в train_df\n",
    "random_id = train_df['id'].sample().values[0]\n",
    "print('id:', random_id)\n",
    "print('-'*100)\n",
    "print('data[\"id\"]:', data['id'][(data['id'] == random_id)].values[0])\n",
    "print('data[\"text\"]:', data['text'][(data['id'] == random_id)].values[0])\n",
    "print('-'*100)\n",
    "print('train_df[\"id\"]:', train_df['id'][(train_df['id'] == random_id)].values[0])\n",
    "print('train_df[\"text\"]:', train_df['text'][(train_df['id'] == random_id)].values[0])\n",
    "print('train_df[\"labels\"]:', np.array(['normal', 'insult', 'obscenity', 'threat'])[np.array(train_df[(train_df['id'] == random_id)].values[0][-4:]).astype(bool)].tolist())\n"
   ]
  },
  {
   "cell_type": "code",
   "execution_count": 209,
   "metadata": {},
   "outputs": [
    {
     "name": "stdout",
     "output_type": "stream",
     "text": [
      "=================normal=================\n",
      "train_df[\"id\"]: 240048\n",
      "train_df[\"text\"]: може трохи дефа поставити ?\n",
      "\n",
      "train_df[\"labels\"]: ['normal']\n",
      "\n",
      "\n",
      "\n",
      "=================insult=================\n",
      "train_df[\"id\"]: 139935\n",
      "train_df[\"text\"]: так и будут дети гибнут от пьяных сволочей! то бьют, то насилуют... пока не вернут смертную казнь так все и будет продолжаться! будут,суки, рожать и пропивать детские деньги. будут плодить нищету ! что он ,бедный, видел за свою коротенькие жизнь??? голод, холод и побои!!! так и застыл, бедный, со слезами на глазах! твари, мрази! ненавижу вас и признаю! и правительству спасибо за самый гуманный суд в мире и наши законы!!!!\n",
      "\n",
      "train_df[\"labels\"]: ['insult']\n",
      "\n",
      "\n",
      "\n",
      "=================obscenity=================\n",
      "train_df[\"id\"]: 97629\n",
      "train_df[\"text\"]: сосёт видать однако хорошо👍\n",
      "\n",
      "train_df[\"labels\"]: ['obscenity']\n",
      "\n",
      "\n",
      "\n",
      "=================threat=================\n",
      "train_df[\"id\"]: 237394\n",
      "train_df[\"text\"]: ужас!!! сволочи, людьми назвать язык не поворачивается! привязать тварей покрепче в лесу к дереву на морозе и уехать!!!\n",
      "\n",
      "train_df[\"labels\"]: ['insult', 'threat']\n",
      "\n",
      "\n",
      "\n"
     ]
    }
   ],
   "source": [
    "# Посмотрим на примеры текстов с конкретными метками:\n",
    "for tag in tags:\n",
    "    random_id = train_df['id'][(train_df[tag] == 1)].sample().values[0]\n",
    "    print(f'================={tag}=================')\n",
    "    print('train_df[\"id\"]:', train_df['id'][(train_df['id'] == random_id)].values[0])\n",
    "    print('train_df[\"text\"]:', train_df['text'][(train_df['id'] == random_id)].values[0])\n",
    "    print('train_df[\"labels\"]:', np.array(['normal', 'insult', 'obscenity', 'threat'])\n",
    "          [np.array(train_df[(train_df['id'] == random_id)].values[0][-4:]).astype(bool)].tolist())\n",
    "    print('\\n'*2)"
   ]
  },
  {
   "cell_type": "code",
   "execution_count": 270,
   "metadata": {},
   "outputs": [
    {
     "data": {
      "image/png": "[encoded data removed]",
      "text/plain": [
       "<Figure size 576x576 with 1 Axes>"
      ]
     },
     "metadata": {},
     "output_type": "display_data"
    }
   ],
   "source": [
    "# Распределение классов в обучении\n",
    "plt.title(f'Распределение классов в обучении', fontsize=20);\n",
    "train_df[tags].mean().sort_values(ascending=False).plot(kind='bar', fontsize=15);\n",
    "plt.tick_params(axis='x', rotation=0)"
   ]
  },
  {
   "cell_type": "markdown",
   "metadata": {},
   "source": [
    "### Разбиение на обучение и валидацию"
   ]
  },
  {
   "cell_type": "code",
   "execution_count": 271,
   "metadata": {},
   "outputs": [],
   "source": [
    "from sklearn.model_selection import train_test_split\n",
    "\n",
    "tr_df, val_df = train_test_split(train_df, test_size=0.3, shuffle=True, random_state=SEED)\n",
    "\n",
    "tr_df.reset_index(drop=True, inplace=True)\n",
    "val_df.reset_index(drop=True, inplace=True)\n",
    "# tr_df.shape[0] / (train_df.shape[0]), val_df.shape[0] / (train_df.shape[0])"
   ]
  },
  {
   "cell_type": "code",
   "execution_count": 274,
   "metadata": {},
   "outputs": [
    {
     "data": {
      "image/png": "[encoded data removed]",
      "text/plain": [
       "<Figure size 576x576 with 1 Axes>"
      ]
     },
     "metadata": {},
     "output_type": "display_data"
    }
   ],
   "source": [
    "# Распределение классов в обучении\n",
    "plt.title(f'Распределение классов в обучении и валидации', fontsize=20);\n",
    "tr_df[tags].mean().sort_values(ascending=False).plot(kind='bar', fontsize=15, alpha=0.3, label='tr_df');\n",
    "val_df[tags].mean().sort_values(ascending=False).plot(kind='bar', fontsize=15, color='red', alpha=0.3, label='val_df');\n",
    "plt.legend(fontsize=15);\n",
    "plt.tick_params(axis='x', rotation=0)"
   ]
  },
  {
   "cell_type": "code",
   "execution_count": 275,
   "metadata": {},
   "outputs": [],
   "source": [
    "from sklearn.feature_extraction.text import CountVectorizer, TfidfVectorizer"
   ]
  },
  {
   "cell_type": "markdown",
   "metadata": {},
   "source": [
    "### Модели"
   ]
  },
  {
   "cell_type": "code",
   "execution_count": 292,
   "metadata": {},
   "outputs": [],
   "source": [
    "from sklearn.metrics import precision_score, recall_score, precision_recall_curve, f1_score, average_precision_score"
   ]
  },
  {
   "cell_type": "markdown",
   "metadata": {},
   "source": [
    "#### Tf-idf + logreg"
   ]
  },
  {
   "cell_type": "code",
   "execution_count": 293,
   "metadata": {},
   "outputs": [],
   "source": [
    "from sklearn.feature_extraction.text import TfidfVectorizer"
   ]
  },
  {
   "cell_type": "code",
   "execution_count": 294,
   "metadata": {},
   "outputs": [],
   "source": [
    "tf_idf = TfidfVectorizer(analyzer='word', min_df=1, max_df=1.0)\n",
    "tf_idf.fit(tr_df['text'])\n",
    "\n",
    "X_tr = tf_idf.transform(tr_df['text'])\n",
    "X_val = tf_idf.transform(val_df['text'])"
   ]
  },
  {
   "cell_type": "code",
   "execution_count": 302,
   "metadata": {},
   "outputs": [],
   "source": [
    "from sklearn.linear_model import LogisticRegression"
   ]
  },
  {
   "cell_type": "code",
   "execution_count": 304,
   "metadata": {},
   "outputs": [
    {
     "data": {
      "application/vnd.jupyter.widget-view+json": {
       "model_id": "7768b06cdfb74f54857a897fe9978f70",
       "version_major": 2,
       "version_minor": 0
      },
      "text/plain": [
       "HBox(children=(FloatProgress(value=0.0, max=4.0), HTML(value='')))"
      ]
     },
     "metadata": {},
     "output_type": "display_data"
    },
    {
     "name": "stderr",
     "output_type": "stream",
     "text": [
      "//anaconda3/lib/python3.7/site-packages/sklearn/linear_model/logistic.py:432: FutureWarning: Default solver will be changed to 'lbfgs' in 0.22. Specify a solver to silence this warning.\n",
      "  FutureWarning)\n"
     ]
    },
    {
     "name": "stdout",
     "output_type": "stream",
     "text": [
      "\n"
     ]
    }
   ],
   "source": [
    "models_dict = {}\n",
    "for tag in tqdm(tags):\n",
    "    model = LogisticRegression(C=1.0)\n",
    "    model.fit(X_tr, tr_df[tag])\n",
    "    models_dict[tag] = model"
   ]
  },
  {
   "cell_type": "code",
   "execution_count": 316,
   "metadata": {},
   "outputs": [
    {
     "name": "stdout",
     "output_type": "stream",
     "text": [
      "Обучение: 0.9172\n",
      "Валидация: 0.8453\n"
     ]
    }
   ],
   "source": [
    "print(f\"\"\"Обучение: {round(average_precision_score(\n",
    "    y_true=tr_df[tags].values,\n",
    "    y_score=np.hstack([models_dict[tag].predict_proba(X_tr)[:, 1].reshape(-1, 1) for tag in tags]),\n",
    "    average='macro'\n",
    "), 4)}\"\"\")\n",
    "print(f\"\"\"Валидация: {round(average_precision_score(\n",
    "    y_true=val_df[tags].values,\n",
    "    y_score=np.hstack([models_dict[tag].predict_proba(X_val)[:, 1].reshape(-1, 1) for tag in tags]),\n",
    "    average='macro'\n",
    "), 4)}\"\"\")"
   ]
  },
  {
   "cell_type": "code",
   "execution_count": null,
   "metadata": {},
   "outputs": [],
   "source": []
  },
  {
   "cell_type": "code",
   "execution_count": 318,
   "metadata": {},
   "outputs": [
    {
     "name": "stdout",
     "output_type": "stream",
     "text": [
      "[ 50 100 200 300 400]\n",
      "[2 1 0 3 4]\n"
     ]
    }
   ],
   "source": [
    "a = np.array([200, 100, 50, 300, 400])\n",
    "print(np.sort(a))\n",
    "print(np.argsort(a))"
   ]
  },
  {
   "cell_type": "code",
   "execution_count": null,
   "metadata": {},
   "outputs": [],
   "source": []
  },
  {
   "cell_type": "code",
   "execution_count": null,
   "metadata": {},
   "outputs": [],
   "source": []
  }
 ],
 "metadata": {
  "kernelspec": {
   "display_name": "Python 3",
   "language": "python",
   "name": "python3"
  },
  "language_info": {
   "codemirror_mode": {
    "name": "ipython",
    "version": 3
   },
   "file_extension": ".py",
   "mimetype": "text/x-python",
   "name": "python",
   "nbconvert_exporter": "python",
   "pygments_lexer": "ipython3",
   "version": "3.7.3"
  }
 },
 "nbformat": 4,
 "nbformat_minor": 2
}
